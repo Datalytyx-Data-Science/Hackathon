{
 "cells": [
  {
   "cell_type": "markdown",
   "metadata": {},
   "source": [
    "# Machine Learning for Demand Forecasting"
   ]
  },
  {
   "cell_type": "markdown",
   "metadata": {},
   "source": [
    "Use case - predicting the demand for items at a libary"
   ]
  },
  {
   "cell_type": "code",
   "execution_count": 384,
   "metadata": {},
   "outputs": [],
   "source": [
    "# sfOptions = {\n",
    "#   \"sfURL\" : \"datalytyx.east-us-2.azure.snowflakecomputing.com\",\n",
    "#   \"sfAccount\" : \"datalytyx\",\n",
    "#   \"sfUser\" : \"WILLHOLTAM\",\n",
    "#   \"sfPassword\" : \"04MucSfLV\",\n",
    "#   \"sfRole\": \"DATABRICKS\",\n",
    "#   \"sfDatabase\" : \"DATABRICKS_DEMO\",\n",
    "#   \"sfSchema\" : \"SEATTLE_LIBRARY\",\n",
    "#   \"sfWarehouse\" : \"DATASCIENCE_WH\"\n",
    "# }\n",
    "# SNOWFLAKE_SOURCE_NAME = \"net.snowflake.spark.snowflake\""
   ]
  },
  {
   "cell_type": "code",
   "execution_count": 385,
   "metadata": {},
   "outputs": [],
   "source": [
    "# #spark.conf.set(\"spark.executor.cores\",2)\n",
    "\n",
    "# df = spark.read.format(SNOWFLAKE_SOURCE_NAME) \\\n",
    "#   .options(**sfOptions) \\\n",
    "#   .option(\"query\", \"\"\"select * from library_collection_inventory where reportdate in ('2017-09-01T00:00:00','2017-10-01T00:00:00', '2017-11-01T00:00:00', '2017-12-01T00:00:00', '2018-01-01T00:00:00', '2018-01-01T00:00:00', '2018-02-01T00:00:00', '2018-02-01T00:00:00', '2018-03-01T00:00:00', '2018-04-01T00:00:00', '2018-05-01T00:00:00', '2018-06-01T00:00:00', '2018-07-01T00:00:00') \"\"\") \\\n",
    "#   .load().limit(1000)"
   ]
  },
  {
   "cell_type": "code",
   "execution_count": 386,
   "metadata": {},
   "outputs": [],
   "source": [
    "# # Create a view or table\n",
    "\n",
    "# temp_table_name = \"library_collection_inventory\"\n",
    "\n",
    "# df.createOrReplaceTempView(temp_table_name)"
   ]
  },
  {
   "cell_type": "markdown",
   "metadata": {},
   "source": [
    "## Import Libraries"
   ]
  },
  {
   "cell_type": "code",
   "execution_count": 387,
   "metadata": {},
   "outputs": [],
   "source": [
    "import numpy as np\n",
    "import pandas as pd\n",
    "import nltk  # Has to be added through Workspaces/ attach library to cluster when using Databricks\n",
    "import more_itertools\n",
    "import re\n",
    "import os\n",
    "import codecs\n",
    "import mpld3\n",
    "from snowflake.sqlalchemy import URL\n",
    "from nltk.stem.snowball import SnowballStemmer\n",
    "from sqlalchemy import create_engine\n",
    "from sklearn.base import BaseEstimator, TransformerMixin\n",
    "from sklearn import feature_extraction\n",
    "from sklearn.cluster import KMeans\n",
    "from sklearn.metrics.pairwise import euclidean_distances\n",
    "from sklearn.feature_extraction.text import TfidfVectorizer\n",
    "from sklearn.model_selection import train_test_split\n",
    "from sklearn import preprocessing\n",
    "from sklearn.pipeline import Pipeline, FeatureUnion\n",
    "from sklearn.manifold import MDS"
   ]
  },
  {
   "cell_type": "code",
   "execution_count": 388,
   "metadata": {},
   "outputs": [],
   "source": [
    "# df_pandas = df.toPandas()  # Create pandas dataframe to work within python when in Databricks"
   ]
  },
  {
   "cell_type": "markdown",
   "metadata": {},
   "source": [
    "## Login to Snowflake"
   ]
  },
  {
   "cell_type": "markdown",
   "metadata": {},
   "source": [
    "Set login parameters"
   ]
  },
  {
   "cell_type": "code",
   "execution_count": 389,
   "metadata": {},
   "outputs": [],
   "source": [
    "sf_account = \"datalytyx\"\n",
    "sf_user = \"WILLHOLTAM\"\n",
    "sf_pwd = \"04MucSfLV\"\n",
    "# sf_user = \"CHRISSCHON\"\n",
    "# sf_pwd = \"UpsetSheep7\"\n",
    "sf_role = \"DATABRICKS\"\n",
    "sf_db = \"DATABRICKS_DEMO\"\n",
    "sf_schema = \"SEATTLE_LIBRARY\"\n",
    "sf_wh = \"DATASCIENCE_WH\"\n",
    "sf_region = \"east-us-2.azure\""
   ]
  },
  {
   "cell_type": "markdown",
   "metadata": {},
   "source": [
    "Create Snowflake login URL"
   ]
  },
  {
   "cell_type": "code",
   "execution_count": 390,
   "metadata": {},
   "outputs": [],
   "source": [
    "engine = create_engine(URL(\n",
    "    user = sf_user,\n",
    "    password = sf_pwd,\n",
    "    account = sf_account,\n",
    "    region = sf_region,\n",
    "    database = sf_db,\n",
    "    schema = sf_schema,\n",
    "    warehouse = sf_wh,\n",
    "    role = sf_role,\n",
    "))"
   ]
  },
  {
   "cell_type": "markdown",
   "metadata": {},
   "source": [
    "Import Data from Snowflake as Pandas Dataframe"
   ]
  },
  {
   "cell_type": "code",
   "execution_count": 391,
   "metadata": {},
   "outputs": [],
   "source": [
    "features = pd.read_sql_query(\"select * from library_collection_inventory where reportdate in ('2017-09-01T00:00:00','2017-10-01T00:00:00', '2017-11-01T00:00:00', '2017-12-01T00:00:00', '2018-01-01T00:00:00', '2018-01-01T00:00:00', '2018-02-01T00:00:00', '2018-02-01T00:00:00', '2018-03-01T00:00:00', '2018-04-01T00:00:00', '2018-05-01T00:00:00', '2018-06-01T00:00:00', '2018-07-01T00:00:00') limit 10000\", engine)"
   ]
  },
  {
   "cell_type": "code",
   "execution_count": 392,
   "metadata": {},
   "outputs": [
    {
     "data": {
      "text/html": [
       "<div>\n",
       "<style scoped>\n",
       "    .dataframe tbody tr th:only-of-type {\n",
       "        vertical-align: middle;\n",
       "    }\n",
       "\n",
       "    .dataframe tbody tr th {\n",
       "        vertical-align: top;\n",
       "    }\n",
       "\n",
       "    .dataframe thead th {\n",
       "        text-align: right;\n",
       "    }\n",
       "</style>\n",
       "<table border=\"1\" class=\"dataframe\">\n",
       "  <thead>\n",
       "    <tr style=\"text-align: right;\">\n",
       "      <th></th>\n",
       "      <th>bibnum</th>\n",
       "      <th>title</th>\n",
       "      <th>author</th>\n",
       "      <th>isbn</th>\n",
       "      <th>publicationyear</th>\n",
       "      <th>publisher</th>\n",
       "      <th>subjects</th>\n",
       "      <th>itemtype</th>\n",
       "      <th>itemcollection</th>\n",
       "      <th>floatingitem</th>\n",
       "      <th>itemlocation</th>\n",
       "      <th>reportdate</th>\n",
       "      <th>itemcount</th>\n",
       "    </tr>\n",
       "  </thead>\n",
       "  <tbody>\n",
       "    <tr>\n",
       "      <th>0</th>\n",
       "      <td>2985818</td>\n",
       "      <td>Have a nice guilt trip / Lisa Scottoline and F...</td>\n",
       "      <td>Scottoline, Lisa</td>\n",
       "      <td>0312640099, 9780312640095</td>\n",
       "      <td>2014.</td>\n",
       "      <td>St. Martin's Press,</td>\n",
       "      <td>Serritella Francesca Scottoline, Scottoline Li...</td>\n",
       "      <td>acbk</td>\n",
       "      <td>nanf</td>\n",
       "      <td>NA</td>\n",
       "      <td>dth</td>\n",
       "      <td>2018-07-01T00:00:00</td>\n",
       "      <td>1</td>\n",
       "    </tr>\n",
       "    <tr>\n",
       "      <th>1</th>\n",
       "      <td>2639367</td>\n",
       "      <td>The men who would be king : [an almost epic ta...</td>\n",
       "      <td>Laporte, Nicole</td>\n",
       "      <td>1400116473, 9781400116478</td>\n",
       "      <td>[2010]</td>\n",
       "      <td>Tantor,</td>\n",
       "      <td>Spielberg Steven 1946, Katzenberg Jeffrey 1950...</td>\n",
       "      <td>accd</td>\n",
       "      <td>cacdnf</td>\n",
       "      <td>NA</td>\n",
       "      <td>cen</td>\n",
       "      <td>2018-07-01T00:00:00</td>\n",
       "      <td>1</td>\n",
       "    </tr>\n",
       "    <tr>\n",
       "      <th>2</th>\n",
       "      <td>3229165</td>\n",
       "      <td>The homework strike / Greg Pincus.</td>\n",
       "      <td>Pincus, Gregory K.</td>\n",
       "      <td>0439913012, 9780439913010</td>\n",
       "      <td>2017.</td>\n",
       "      <td>Arthur A. Levine Books, an imprint of Scholast...</td>\n",
       "      <td>Homework Juvenile fiction, Student protesters ...</td>\n",
       "      <td>jcbk</td>\n",
       "      <td>ncnew</td>\n",
       "      <td>NA</td>\n",
       "      <td>net</td>\n",
       "      <td>2018-07-01T00:00:00</td>\n",
       "      <td>1</td>\n",
       "    </tr>\n",
       "    <tr>\n",
       "      <th>3</th>\n",
       "      <td>2208311</td>\n",
       "      <td>The adventures of Robin Hood / First National ...</td>\n",
       "      <td>None</td>\n",
       "      <td>0790745410</td>\n",
       "      <td>2003.</td>\n",
       "      <td>Warner Home Video,</td>\n",
       "      <td>Robin Hood Legendary character Drama, Feature ...</td>\n",
       "      <td>acdvd</td>\n",
       "      <td>nadvd</td>\n",
       "      <td>Floating</td>\n",
       "      <td>bal</td>\n",
       "      <td>2018-07-01T00:00:00</td>\n",
       "      <td>1</td>\n",
       "    </tr>\n",
       "    <tr>\n",
       "      <th>4</th>\n",
       "      <td>497662</td>\n",
       "      <td>The Cemetery book : an indexes compilation of ...</td>\n",
       "      <td>None</td>\n",
       "      <td>None</td>\n",
       "      <td>1987.</td>\n",
       "      <td>The Society,</td>\n",
       "      <td>Cemeteries Alaska Anchorage, Anchorage Alaska ...</td>\n",
       "      <td>arbk</td>\n",
       "      <td>caref</td>\n",
       "      <td>NA</td>\n",
       "      <td>cen</td>\n",
       "      <td>2018-07-01T00:00:00</td>\n",
       "      <td>1</td>\n",
       "    </tr>\n",
       "  </tbody>\n",
       "</table>\n",
       "</div>"
      ],
      "text/plain": [
       "    bibnum                                              title  \\\n",
       "0  2985818  Have a nice guilt trip / Lisa Scottoline and F...   \n",
       "1  2639367  The men who would be king : [an almost epic ta...   \n",
       "2  3229165                 The homework strike / Greg Pincus.   \n",
       "3  2208311  The adventures of Robin Hood / First National ...   \n",
       "4   497662  The Cemetery book : an indexes compilation of ...   \n",
       "\n",
       "               author                       isbn publicationyear  \\\n",
       "0    Scottoline, Lisa  0312640099, 9780312640095           2014.   \n",
       "1     Laporte, Nicole  1400116473, 9781400116478          [2010]   \n",
       "2  Pincus, Gregory K.  0439913012, 9780439913010           2017.   \n",
       "3                None                 0790745410           2003.   \n",
       "4                None                       None           1987.   \n",
       "\n",
       "                                           publisher  \\\n",
       "0                                St. Martin's Press,   \n",
       "1                                            Tantor,   \n",
       "2  Arthur A. Levine Books, an imprint of Scholast...   \n",
       "3                                 Warner Home Video,   \n",
       "4                                       The Society,   \n",
       "\n",
       "                                            subjects itemtype itemcollection  \\\n",
       "0  Serritella Francesca Scottoline, Scottoline Li...     acbk           nanf   \n",
       "1  Spielberg Steven 1946, Katzenberg Jeffrey 1950...     accd         cacdnf   \n",
       "2  Homework Juvenile fiction, Student protesters ...     jcbk          ncnew   \n",
       "3  Robin Hood Legendary character Drama, Feature ...    acdvd          nadvd   \n",
       "4  Cemeteries Alaska Anchorage, Anchorage Alaska ...     arbk          caref   \n",
       "\n",
       "  floatingitem itemlocation           reportdate itemcount  \n",
       "0           NA          dth  2018-07-01T00:00:00         1  \n",
       "1           NA          cen  2018-07-01T00:00:00         1  \n",
       "2           NA          net  2018-07-01T00:00:00         1  \n",
       "3     Floating          bal  2018-07-01T00:00:00         1  \n",
       "4           NA          cen  2018-07-01T00:00:00         1  "
      ]
     },
     "execution_count": 392,
     "metadata": {},
     "output_type": "execute_result"
    }
   ],
   "source": [
    "features.head()"
   ]
  },
  {
   "cell_type": "markdown",
   "metadata": {},
   "source": [
    "Download stopwords and sentence tokenizer from NLTK"
   ]
  },
  {
   "cell_type": "code",
   "execution_count": 393,
   "metadata": {},
   "outputs": [
    {
     "name": "stdout",
     "output_type": "stream",
     "text": [
      "[nltk_data] Downloading package stopwords to\n",
      "[nltk_data]     C:\\Users\\WilliamHoltam\\AppData\\Roaming\\nltk_data...\n",
      "[nltk_data]   Package stopwords is already up-to-date!\n",
      "[nltk_data] Downloading package punkt to\n",
      "[nltk_data]     C:\\Users\\WilliamHoltam\\AppData\\Roaming\\nltk_data...\n",
      "[nltk_data]   Package punkt is already up-to-date!\n"
     ]
    },
    {
     "data": {
      "text/plain": [
       "True"
      ]
     },
     "execution_count": 393,
     "metadata": {},
     "output_type": "execute_result"
    }
   ],
   "source": [
    "nltk.download('stopwords')  # Common words to ignore\n",
    "nltk.download('punkt')  # Punkt Sentence Tokenizer - more useful in large documents"
   ]
  },
  {
   "cell_type": "markdown",
   "metadata": {},
   "source": [
    "Load nltk's English stopwords as variable called 'stopwords'"
   ]
  },
  {
   "cell_type": "code",
   "execution_count": 394,
   "metadata": {},
   "outputs": [
    {
     "name": "stdout",
     "output_type": "stream",
     "text": [
      "['i', 'me', 'my', 'myself', 'we', 'our', 'ours', 'ourselves', 'you', \"you're\"]\n"
     ]
    }
   ],
   "source": [
    "stopwords = nltk.corpus.stopwords.words('english')\n",
    "print(stopwords[:10])"
   ]
  },
  {
   "cell_type": "markdown",
   "metadata": {},
   "source": [
    "load nltk's SnowballStemmer as variabled 'stemmer'"
   ]
  },
  {
   "cell_type": "code",
   "execution_count": 395,
   "metadata": {},
   "outputs": [],
   "source": [
    "stemmer = SnowballStemmer(\"english\")"
   ]
  },
  {
   "cell_type": "markdown",
   "metadata": {},
   "source": [
    "Define the number of clusters to be used later in the model"
   ]
  },
  {
   "cell_type": "code",
   "execution_count": 396,
   "metadata": {},
   "outputs": [],
   "source": [
    "num_clusters = 5"
   ]
  },
  {
   "cell_type": "markdown",
   "metadata": {},
   "source": [
    "## Pre-processing Pipeline"
   ]
  },
  {
   "cell_type": "markdown",
   "metadata": {},
   "source": [
    "This pipeline processes the original dataframe so that the datatypes in the columns of interest are correct. It removes both empty columns and rows containing NaN values"
   ]
  },
  {
   "cell_type": "markdown",
   "metadata": {},
   "source": [
    "Note: Be careful to return a dataframe containing the same indexes and columns"
   ]
  },
  {
   "cell_type": "code",
   "execution_count": 397,
   "metadata": {},
   "outputs": [],
   "source": [
    "class NoneReplacer(TransformerMixin, BaseEstimator):\n",
    "    \n",
    "    \"\"\"\n",
    "    Transformer changes Nonetype values into numpy NaN values.\n",
    "    \"\"\"\n",
    "    \n",
    "    def __init__(self):\n",
    "        pass\n",
    "\n",
    "    def fit(self, X, y = None):\n",
    "        return self\n",
    "        \n",
    "    def transform(self, X):\n",
    "        \n",
    "        \"\"\"\n",
    "        Ttransform confirms X is a Dataframe and fills Nonetype with pd.np.nan\n",
    "        \"\"\"\n",
    "        \n",
    "        assert isinstance(X, pd.DataFrame)\n",
    "        \n",
    "        X.fillna(value = pd.np.nan, inplace=True)\n",
    "        \n",
    "        return pd.DataFrame(X, index = X.index, columns = X.columns)"
   ]
  },
  {
   "cell_type": "code",
   "execution_count": 398,
   "metadata": {},
   "outputs": [],
   "source": [
    "# Testing\n",
    "\n",
    "initiated_class = NoneReplacer()\n",
    "\n",
    "initiated_class.fit(features)\n",
    "\n",
    "df_pandas_fitter = initiated_class.transform(features)\n",
    "# df_pandas_fitter"
   ]
  },
  {
   "cell_type": "markdown",
   "metadata": {},
   "source": [
    "Removes empty columns from dataframe.\n",
    "\n",
    "Note: Has to be in the fit as can't alter columns in Transform. Have to perform same columnwise opperations to both test and train data"
   ]
  },
  {
   "cell_type": "code",
   "execution_count": 399,
   "metadata": {},
   "outputs": [],
   "source": [
    "class EmptyColumnRemover(TransformerMixin, BaseEstimator):\n",
    "    \n",
    "    \"\"\"\n",
    "    Transformer drops empty columns\n",
    "    \"\"\"\n",
    "    \n",
    "    def __init__(self):\n",
    "        pass\n",
    "    \n",
    "    def fit(self, X, y = None):  # has to take an optional y for pipelines\n",
    "        \n",
    "        \"\"\"\n",
    "        Fit Drops Columns where 100% of the column is Nonetype\n",
    "        \"\"\"\n",
    "        \n",
    "        self.drop_columns = features.isna().sum()[features.isna().sum() == X.shape[0]].index  # Calculates pd.series with column lables as indecies\n",
    "        \n",
    "        return self\n",
    "        \n",
    "    def transform(self, X):\n",
    "        \n",
    "        \"\"\"\n",
    "        Transform Confirms X is a DataFrame\n",
    "        \"\"\"\n",
    "        \n",
    "        assert isinstance(X, pd.DataFrame)\n",
    "        \n",
    "        return pd.DataFrame(X.drop(columns = self.drop_columns), index = X.index, columns = X.columns)"
   ]
  },
  {
   "cell_type": "code",
   "execution_count": 400,
   "metadata": {},
   "outputs": [],
   "source": [
    "# Testing\n",
    "\n",
    "initiated_class = EmptyColumnRemover()\n",
    "\n",
    "initiated_class.fit(X=df_pandas_fitter)\n",
    "\n",
    "df_pandas_fitter1 = initiated_class.transform(df_pandas_fitter)\n",
    "# df_pandas_fitter1"
   ]
  },
  {
   "cell_type": "markdown",
   "metadata": {},
   "source": [
    "A violent technique for dealing with NaNs - remove all rows containing NaNs, won't be appropriate for all usecases."
   ]
  },
  {
   "cell_type": "code",
   "execution_count": 401,
   "metadata": {},
   "outputs": [],
   "source": [
    "class AnyNaNRowRemover(TransformerMixin, BaseEstimator):\n",
    "    \n",
    "    \"\"\"\n",
    "    Transformer removes any rows where here any element in row is NaN\n",
    "    \"\"\"\n",
    "    \n",
    "    def __init__(self):\n",
    "        pass\n",
    "        \n",
    "    def fit(self, X, y = None):  # has to take an optional y for pipelines\n",
    "        return self\n",
    "    \n",
    "    def transform(self, X):\n",
    "        \n",
    "        \"\"\"\n",
    "        Transform drops rows where any element in row is NaN \n",
    "        \"\"\"\n",
    "        \n",
    "        assert isinstance(X, pd.DataFrame)\n",
    "        \n",
    "        X = X.dropna(axis=0, how='any')\n",
    "        \n",
    "        self.cleaned_data = X\n",
    "        \n",
    "        return pd.DataFrame(X, index = X.index, columns = X.columns)"
   ]
  },
  {
   "cell_type": "code",
   "execution_count": 402,
   "metadata": {},
   "outputs": [],
   "source": [
    "# Testing\n",
    "\n",
    "initiated_class = AnyNaNRowRemover()\n",
    "\n",
    "initiated_class.fit(df_pandas_fitter1)\n",
    "\n",
    "df_pandas_fitter2 = initiated_class.transform(df_pandas_fitter1)"
   ]
  },
  {
   "cell_type": "code",
   "execution_count": 403,
   "metadata": {},
   "outputs": [],
   "source": [
    "pre_processing_pipeline = Pipeline([\n",
    "    ('nr', NoneReplacer()),\n",
    "    ('ecr', EmptyColumnRemover()),\n",
    "    ('anrr', AnyNaNRowRemover())\n",
    "])"
   ]
  },
  {
   "cell_type": "markdown",
   "metadata": {},
   "source": [
    "## Clustering Pipeline"
   ]
  },
  {
   "cell_type": "markdown",
   "metadata": {},
   "source": [
    "This pipeline performs the steps necessary to perform K-means clustering on natural language data stored as text including Tokenizing, Stemming, TF-IDF-Vectorizing and K-means Clustering."
   ]
  },
  {
   "cell_type": "markdown",
   "metadata": {},
   "source": [
    "The result of TF-IDF-Vectorizing is as follows"
   ]
  },
  {
   "cell_type": "code",
   "execution_count": 404,
   "metadata": {},
   "outputs": [
    {
     "data": {
      "text/html": [
       "<img src=\"http://www.jiem.org/index.php/jiem/article/viewFile/293/252/2402\"/>"
      ],
      "text/plain": [
       "<IPython.core.display.Image object>"
      ]
     },
     "execution_count": 404,
     "metadata": {},
     "output_type": "execute_result"
    }
   ],
   "source": [
    "from IPython.display import Image\n",
    "from IPython.core.display import HTML \n",
    "Image(url= \"http://www.jiem.org/index.php/jiem/article/viewFile/293/252/2402\")"
   ]
  },
  {
   "cell_type": "markdown",
   "metadata": {},
   "source": [
    "This class combines two processes:\n",
    "    Tokenizing: Split sentences down into individual words.\n",
    "    Stemming: The process of breaking a word down into its root."
   ]
  },
  {
   "cell_type": "code",
   "execution_count": 405,
   "metadata": {},
   "outputs": [],
   "source": [
    "class TokenizeAndStemer(TransformerMixin, BaseEstimator):\n",
    "    \n",
    "    \"\"\"\n",
    "    Transformer tokenizes and stems the words, creating a vocab dataframe \n",
    "    containing the words and their stems.\n",
    "    \"\"\"\n",
    "    \n",
    "    def __init__(self, text_column):\n",
    "        self.text_column = text_column\n",
    "        pass\n",
    "    \n",
    "    def tokenize_and_stem(self, text):\n",
    "        \n",
    "        \"\"\"\n",
    "        Function first Tokenizes and then Stems the words, returning the stems.\n",
    "        \"\"\"\n",
    "        \n",
    "        tokens = [word for sent in nltk.sent_tokenize(text) for word in nltk.word_tokenize(sent)]\n",
    "        \n",
    "        filtered_tokens = []\n",
    "        [filtered_tokens.append(token) if re.search('[a-zA-Z]', token) else token for token in tokens]\n",
    "        \n",
    "        stems = [stemmer.stem(t) for t in filtered_tokens]\n",
    "        \n",
    "        return stems\n",
    "    \n",
    "    def tokenize_only(self, text):\n",
    "        \n",
    "        \"\"\"\n",
    "        Function Tokenizes the words, returning tokens that are filtered to contain upper or\n",
    "        lowwer case letters.\n",
    "        \"\"\" \n",
    "        \n",
    "        # first tokenize by sentence, then by word to ensure that punctuation is caught as it's own token\n",
    "        tokens = [word.lower() for sent in nltk.sent_tokenize(text) for word in nltk.word_tokenize(sent)]\n",
    "        filtered_tokens = []\n",
    "        \n",
    "        # filter out any tokens not containing letters (e.g., numeric tokens, raw punctuation)\n",
    "        [filtered_tokens.append(token) if re.search('[a-zA-Z]', token) else token for token in tokens]\n",
    "                \n",
    "        return filtered_tokens\n",
    "    \n",
    "    def fit(self, X, y = None):\n",
    "        return self\n",
    "    \n",
    "    def transform(self, X):\n",
    "        \n",
    "        \"\"\"\n",
    "        Transform applies both of the custom functions defined above.\n",
    "        \n",
    "        The tokenize_and_stem function us used to create a flat list \n",
    "        containing the entirity of the vocab in stemmed form. \n",
    "        \n",
    "        The tokenize_only is used to create a flat list containing the\n",
    "        entirity of the vocab as a flat list.\n",
    "        \n",
    "        A dataframe is created from both of these flat lists with the\n",
    "        \"words\" column consisting of the individual words and the index\n",
    "        consisting of the stems.\n",
    "        \n",
    "        Returns the feature of interest as a list\n",
    "        \"\"\"\n",
    "\n",
    "        totalvocab_stemmed = []\n",
    "        \n",
    "        allwords_stemmed = [self.tokenize_and_stem(str(i)) for i in X[self.text_column].tolist()]  # for each item in 'synopses', tokenize/stem\n",
    "        totalvocab_stemmed.extend(allwords_stemmed)\n",
    "        totalvocab_stemmed = list(more_itertools.collapse(totalvocab_stemmed))\n",
    "        \n",
    "        totalvocab_tokenized = []\n",
    "\n",
    "        allwords_tokenized = [self.tokenize_only(str(i)) for i in X[self.text_column].tolist()]  # for each item in 'synopses', tokenize/stem\n",
    "        totalvocab_tokenized.extend(allwords_tokenized)\n",
    "        totalvocab_tokenized = list(more_itertools.collapse(totalvocab_tokenized))        \n",
    " \n",
    "        self.vocab_frame = pd.DataFrame({'words': totalvocab_tokenized}, index = totalvocab_stemmed)\n",
    "\n",
    "        print('there are ' + str(self.vocab_frame.shape[0]) + ' items in vocab_frame')\n",
    "        print(' ')\n",
    "        print(self.vocab_frame.head())\n",
    "        X = X[self.text_column].tolist()\n",
    "        return X"
   ]
  },
  {
   "cell_type": "code",
   "execution_count": 406,
   "metadata": {},
   "outputs": [
    {
     "name": "stdout",
     "output_type": "stream",
     "text": [
      "there are 99336 items in vocab_frame\n",
      " \n",
      "                 words\n",
      "serritella  serritella\n",
      "francesca    francesca\n",
      "scottolin   scottoline\n",
      "scottolin   scottoline\n",
      "lisa              lisa\n"
     ]
    }
   ],
   "source": [
    "#Testing\n",
    "\n",
    "initiated_class = TokenizeAndStemer(text_column='subjects')\n",
    "\n",
    "initiated_class.fit(df_pandas_fitter2)\n",
    "\n",
    "df_pandas_fitter3 = initiated_class.transform(df_pandas_fitter2)"
   ]
  },
  {
   "cell_type": "code",
   "execution_count": 407,
   "metadata": {},
   "outputs": [],
   "source": [
    "class VectorCapture(TransformerMixin, BaseEstimator):\n",
    "    def __init__(self):\n",
    "        pass\n",
    "    \n",
    "    def fit(self, X, y = None):\n",
    "        return self\n",
    "    \n",
    "    def transform(self, X):\n",
    "        \n",
    "        self.tfidf_matrix = X\n",
    "        \n",
    "        return X"
   ]
  },
  {
   "cell_type": "code",
   "execution_count": 408,
   "metadata": {},
   "outputs": [],
   "source": [
    "kwargs = {\n",
    "    'max_df': 0.8,\n",
    "    'max_features': 20000,\n",
    "    'min_df': 0.001,\n",
    "    'stop_words': 'english',\n",
    "    'use_idf': True,\n",
    "    'tokenizer': TokenizeAndStemer(text_column='subjects').tokenize_and_stem,\n",
    "    'ngram_range': (1,3)\n",
    "}\n",
    "\n",
    "clustering_pipeline = Pipeline([\n",
    "    ('tas', TokenizeAndStemer(text_column='subjects')),\n",
    "    ('tfidf', TfidfVectorizer(**kwargs)),\n",
    "    ('vc', VectorCapture()),\n",
    "    ('km', KMeans(\n",
    "        n_clusters=num_clusters,\n",
    "        random_state=1000)\n",
    "    )\n",
    "])"
   ]
  },
  {
   "cell_type": "markdown",
   "metadata": {},
   "source": [
    "## Post-processing Pipeline"
   ]
  },
  {
   "cell_type": "markdown",
   "metadata": {},
   "source": [
    "This pipeline appends the clusters to the original dataframe so that further analysis can be done and the attributes of each cluster can be investigated.\n",
    "\n",
    "The top terms in each cluster are returned to the screen as an indicator of the topic/genre of each cluster.\n",
    "\n",
    "In Future:\n",
    "Want to Onehot encode the cluster categories and set the top terms as the column names for each cluster."
   ]
  },
  {
   "cell_type": "code",
   "execution_count": 409,
   "metadata": {},
   "outputs": [],
   "source": [
    "class DataFrameRebuild(TransformerMixin, BaseEstimator):\n",
    "\n",
    "    \"\"\"\n",
    "    Transformer concatinates the cleaned dataframe after the pre-processing and\n",
    "    the cluster categores as a new column.\n",
    "    \"\"\"\n",
    "    \n",
    "    def __init__(self):\n",
    "        pass\n",
    "    \n",
    "    def fit(self, X, y = None):\n",
    "        return self\n",
    "    \n",
    "    def transform(self, X):\n",
    "        \n",
    "        \"\"\"\n",
    "        Transform concatinates the cleaned dataframe after the pre-processing and\n",
    "        the cluster categores as a new column and returns the new \n",
    "        \"\"\"\n",
    "        \n",
    "        self.clusters = clustering_pipeline.named_steps['km'].labels_.tolist()\n",
    "        clusters_df = pd.DataFrame(self.clusters, columns = ['clusters'])\n",
    "        clusters_df = clusters_df.set_index(pre_processing_pipeline.get_params(True)['anrr'].cleaned_data.index)\n",
    "        \n",
    "        cleaned_data = pre_processing_pipeline.get_params(True)['anrr'].cleaned_data\n",
    "        \n",
    "        result = pd.concat([cleaned_data, clusters_df], axis=1)\n",
    "        \n",
    "        result = result.set_index(\n",
    "            keys = 'clusters',\n",
    "            drop=False,\n",
    "            append=False,\n",
    "            inplace=False,\n",
    "            verify_integrity=False\n",
    "        )\n",
    "        \n",
    "        # frame.columns\n",
    "        print(result.clusters.value_counts()) #number of items per cluster (clusters from 0 to 4)\n",
    "        \n",
    "        return result #pd.DataFrame(result, index = .index, columns = X.columns)  # df_clustering_output"
   ]
  },
  {
   "cell_type": "code",
   "execution_count": 424,
   "metadata": {},
   "outputs": [],
   "source": [
    "#rom __future__ import print_function  # Print() becomes a function\n",
    "\n",
    "class TopTerms(TransformerMixin, BaseEstimator):\n",
    "    \n",
    "    \"\"\"\n",
    "    Transformer prints out words closest to centre of each cluster.\n",
    "    \"\"\"\n",
    "    \n",
    "    def __init__(self):\n",
    "        pass\n",
    "    \n",
    "    def fit(self, X, y = None):\n",
    "        return self\n",
    "    \n",
    "    def transform(self, X):\n",
    "        \n",
    "        \"\"\"\n",
    "        Transform returns the terms the tfidf matrix represents.\n",
    "        Orders the cluster centers by proximity to centroid.\n",
    "        Prints terms by proximity to centroid.\n",
    "        \"\"\"\n",
    "        \n",
    "        print(\"Top terms per cluster:\")\n",
    "        print()\n",
    "        \n",
    "        terms = clustering_pipeline.named_steps['tfidf'].get_feature_names()  # the terms tfidf matrix represents\n",
    "        \n",
    "        # sort cluster centers by proximity to centroid\n",
    "        order_centroids = pd.DataFrame(\n",
    "            clustering_pipeline.\n",
    "            named_steps['km'].\n",
    "            cluster_centers_.\n",
    "            argsort()[:, ::-1]\n",
    "        )\n",
    "        \n",
    "        self.top_terms_list = []\n",
    "        \n",
    "        for i in range(num_clusters):\n",
    "            print(\"cluster %d words:\" % i, end='')\n",
    "            \n",
    "            clustering_pipeline.get_params(True)['tas'].vocab_frame\n",
    "            \n",
    "            top_terms = []\n",
    "            for ind in order_centroids.iloc[i, :6]:\n",
    "                print(' %s' % clustering_pipeline.\n",
    "                      get_params(True)['tas'].\n",
    "                      vocab_frame.\n",
    "                      loc[terms[ind].split(' ')].\n",
    "                      values.tolist()[0][0].\n",
    "                      encode('utf-8', 'ignore'),\n",
    "                      end=','\n",
    "                     )\n",
    "                \n",
    "                top_terms.append((\n",
    "                    ' %s' % clustering_pipeline.\n",
    "                    get_params(True)['tas'].\n",
    "                    vocab_frame.\n",
    "                    loc[terms[ind].split(' ')].\n",
    "                    values.tolist()[0][0] + ','#.\n",
    "#                     encode('utf-8', 'ignore')\n",
    "                ).strip())\n",
    "            \n",
    "                print() #add whitespace\n",
    "                print() #add whitespace\n",
    "                \n",
    "#                 print(\"Cluster %d titles:\" % i, end='')\n",
    "# #                 for title in X.loc[i]['title'].values.tolist():\n",
    "# #                     print(' %s,' % title, end='')\n",
    "#                 print() #add whitespace\n",
    "#                 print() #add whitespace\n",
    "#                 top_terms = str[top_terms[:]]\n",
    "            self.top_terms_list.append(\"\".join(top_terms))\n",
    "    \n",
    "            print()\n",
    "            print()\n",
    "    \n",
    "        return X"
   ]
  },
  {
   "cell_type": "code",
   "execution_count": 425,
   "metadata": {},
   "outputs": [],
   "source": [
    "post_processing_pipeline = Pipeline([\n",
    "    ('dfr', DataFrameRebuild()),\n",
    "    ('tt', TopTerms())\n",
    "])"
   ]
  },
  {
   "cell_type": "markdown",
   "metadata": {},
   "source": [
    "## Model Pipeline"
   ]
  },
  {
   "cell_type": "code",
   "execution_count": 426,
   "metadata": {},
   "outputs": [
    {
     "name": "stdout",
     "output_type": "stream",
     "text": [
      "there are 99336 items in vocab_frame\n",
      " \n",
      "                 words\n",
      "serritella  serritella\n",
      "francesca    francesca\n",
      "scottolin   scottoline\n",
      "scottolin   scottoline\n",
      "lisa              lisa\n",
      "3    2931\n",
      "1    1483\n",
      "0    1379\n",
      "2     788\n",
      "4     392\n",
      "Name: clusters, dtype: int64\n"
     ]
    }
   ],
   "source": [
    "model_pipeline = Pipeline([\n",
    "    ('pre_p_pipe', pre_processing_pipeline),\n",
    "    ('c_pipe', clustering_pipeline),\n",
    "    ('post_p_pipe', post_processing_pipeline)\n",
    "])\n",
    "\n",
    "result_df = model_pipeline.fit_transform(X = features)"
   ]
  },
  {
   "cell_type": "markdown",
   "metadata": {},
   "source": [
    "## Multidimentional Scaling"
   ]
  },
  {
   "cell_type": "code",
   "execution_count": 413,
   "metadata": {},
   "outputs": [],
   "source": [
    "from sklearn.metrics.pairwise import cosine_similarity\n",
    "\n",
    "dist = 1 - cosine_similarity(clustering_pipeline.named_steps['vc'].tfidf_matrix)"
   ]
  },
  {
   "cell_type": "code",
   "execution_count": 414,
   "metadata": {},
   "outputs": [
    {
     "name": "stdout",
     "output_type": "stream",
     "text": [
      "\n",
      "\n"
     ]
    }
   ],
   "source": [
    "import os  # for os.path.basename\n",
    "\n",
    "import matplotlib.pyplot as plt\n",
    "import matplotlib as mpl\n",
    "\n",
    "from sklearn.manifold import MDS\n",
    "\n",
    "MDS()\n",
    "\n",
    "# convert two components as we're plotting points in a two-dimensional plane\n",
    "# \"precomputed\" because we provide a distance matrix\n",
    "# we will also specify `random_state` so the plot is reproducible.\n",
    "mds = MDS(n_components=2, dissimilarity=\"precomputed\", random_state=1)\n",
    "\n",
    "pos = mds.fit_transform(dist)  # shape (n_components, n_samples)\n",
    "\n",
    "xs, ys = pos[:, 0], pos[:, 1]"
   ]
  },
  {
   "cell_type": "markdown",
   "metadata": {},
   "source": [
    "## Visualisation"
   ]
  },
  {
   "cell_type": "code",
   "execution_count": 428,
   "metadata": {},
   "outputs": [],
   "source": [
    "#set up colors per clusters using a dict\n",
    "cluster_colors = {0: '#1b9e77', 1: '#d95f02', 2: '#7570b3', 3: '#e7298a', 4: '#66a61e', }\n",
    "\n",
    "cluster_numbers = list(range(num_clusters))\n",
    "cluster_description = post_processing_pipeline.named_steps['tt'].top_terms_list\n",
    "\n",
    "cluster_names = dict(zip(cluster_numbers, cluster_description))"
   ]
  },
  {
   "cell_type": "code",
   "execution_count": 429,
   "metadata": {},
   "outputs": [
    {
     "data": {
      "image/png": "[encoded data removed]",
      "text/plain": [
       "<Figure size 1224x648 with 1 Axes>"
      ]
     },
     "metadata": {},
     "output_type": "display_data"
    }
   ],
   "source": [
    "#some ipython magic to show the matplotlib plots inline\n",
    "%matplotlib inline \n",
    "\n",
    "#create data frame that has the result of the MDS plus the cluster numbers and titles\n",
    "\n",
    "clusters = post_processing_pipeline.named_steps['dfr'].clusters\n",
    "titles = pre_processing_pipeline.get_params(True)['anrr'].cleaned_data.title\n",
    "\n",
    "df = pd.DataFrame(dict(x=xs, y=ys, label=clusters, title=titles)) \n",
    "\n",
    "# print(df)\n",
    "\n",
    "#group by cluster\n",
    "groups = df.groupby('label')\n",
    "\n",
    "# set up plot\n",
    "fig, ax = plt.subplots(figsize=(17, 9)) # set size\n",
    "ax.margins(0.05) # Optional, just adds 5% padding to the autoscaling\n",
    "\n",
    "# iterate through groups to layer the plot\n",
    "# note that I use the cluster_name and cluster_color dicts with the 'name' lookup to return the appropriate color/label\n",
    "for name, group in groups:\n",
    "#     print(name)\n",
    "#    print(group)\n",
    "    ax.plot(group.x, group.y, marker='o', linestyle='', ms=12, \n",
    "            label=cluster_names[name],\n",
    "#             color=cluster_colors[name], \n",
    "            mec='none')\n",
    "    ax.set_aspect('auto')\n",
    "    ax.tick_params(\\\n",
    "        axis= 'x',          # changes apply to the x-axis\n",
    "        which='both',      # both major and minor ticks are affected\n",
    "        bottom=False,      # ticks along the bottom edge are off\n",
    "        top=False,         # ticks along the top edge are off\n",
    "        labelbottom=False)\n",
    "    ax.tick_params(\\\n",
    "        axis= 'y',         # changes apply to the y-axis\n",
    "        which='both',      # both major and minor ticks are affected\n",
    "        left=False,      # ticks along the bottom edge are off\n",
    "        top=False,         # ticks along the top edge are off\n",
    "        labelleft=False)\n",
    "    \n",
    "ax.legend(numpoints=1)  #show legend with only 1 point\n",
    "\n",
    "# #add label in x,y position with the label as the film title\n",
    "# for i in range(len(df)):\n",
    "#     ax.text(df.iloc[i]['x'], df.iloc[i]['y'], df.iloc[i]['title'], size=8)  \n",
    "\n",
    "    \n",
    "    \n",
    "plt.show() #show the plot\n",
    "\n",
    "# #uncomment the below to save the plot if need be\n",
    "# #plt.savefig('clusters_small_noaxes.png', dpi=200)"
   ]
  },
  {
   "cell_type": "code",
   "execution_count": 417,
   "metadata": {},
   "outputs": [],
   "source": [
    "# class TokenizeAndStemer(TransformerMixin, BaseEstimator):\n",
    "    \n",
    "#     def __init__(self, default_column = 'subjects'):\n",
    "#         self.default_column = default_column\n",
    "#         pass\n",
    "    \n",
    "#     def tokenize_and_stem(self, X):\n",
    "        \n",
    "#         tokens = [word for sent in nltk.sent_tokenize(X) for word in nltk.word_tokenize(sent)]\n",
    "        \n",
    "#         filtered_tokens = []\n",
    "#         [filtered_tokens.append(token) if re.search('[a-zA-Z]', token) else token for token in tokens]\n",
    "        \n",
    "#         stems = [stemmer.stem(t) for t in filtered_tokens]\n",
    "        \n",
    "#         return stems\n",
    "    \n",
    "#     def fit(self, X, y = None):\n",
    "#         return self\n",
    "    \n",
    "#     def transform(self, X):\n",
    "\n",
    "#         totalvocab_stemmed = []\n",
    "        \n",
    "#         allwords_stemmed = [self.tokenize_and_stem(str(i)) for i in X[self.default_column].tolist()] #for each item in 'synopses', tokenize/stem\n",
    "#         totalvocab_stemmed.extend(allwords_stemmed)\n",
    "#         totalvocab_stemmed = list(more_itertools.collapse(totalvocab_stemmed))\n",
    "        \n",
    "#         return totalvocab_stemmed\n",
    "\n",
    "# # How to implement in class above???? OR do I have to implement it in a separate class...  \n",
    "# # allwords_stemmed = [tokenize_and_stem(str(i)) for i in subjects] #for each item in 'synopses', tokenize/stem\n",
    "# # totalvocab_stemmed.extend(allwords_stemmed) #extend the 'totalvocab_stemmed' list\n",
    "# # totalvocab_stemmed = list(more_itertools.collapse(totalvocab_stemmed)) "
   ]
  },
  {
   "cell_type": "code",
   "execution_count": null,
   "metadata": {},
   "outputs": [],
   "source": []
  },
  {
   "cell_type": "code",
   "execution_count": 418,
   "metadata": {},
   "outputs": [],
   "source": [
    "# class TokenizeOnly(TransformerMixin, BaseEstimator):\n",
    "    \n",
    "#     def __init__(self, default_column = 'subjects'):\n",
    "#         self.default_column = default_column\n",
    "#         pass\n",
    "\n",
    "#     def tokenize_only(self, X):\n",
    "        \n",
    "#         # first tokenize by sentence, then by word to ensure that punctuation is caught as it's own token\n",
    "#         tokens = [word.lower() for sent in nltk.sent_tokenize(X) for word in nltk.word_tokenize(sent)]\n",
    "#         filtered_tokens = []\n",
    "        \n",
    "#         # filter out any tokens not containing letters (e.g., numeric tokens, raw punctuation)\n",
    "#         [filtered_tokens.append(token) if re.search('[a-zA-Z]', token) else token for token in tokens]\n",
    "                \n",
    "#         return filtered_tokens\n",
    "    \n",
    "#     def fit(self, X, y = None):\n",
    "#         return self\n",
    "    \n",
    "#     def transform(self, X):\n",
    "\n",
    "#         totalvocab_tokenized = []\n",
    "    \n",
    "#         allwords_tokenized = [self.tokenize_only(str(i)) for i in X[self.default_column].tolist()] #for each item in 'synopses', tokenize/stem\n",
    "#         totalvocab_tokenized.extend(allwords_tokenized)\n",
    "#         totalvocab_tokenized = list(more_itertools.collapse(totalvocab_tokenized))\n",
    "        \n",
    "#         return totalvocab_tokenized"
   ]
  },
  {
   "cell_type": "code",
   "execution_count": 419,
   "metadata": {},
   "outputs": [],
   "source": [
    "# initiated_class = TokenizeOnly()\n",
    "\n",
    "# initiated_class.fit(df_pandas_fitter2)\n",
    "\n",
    "# df_pandas_fitter3 = initiated_class.transform(df_pandas_fitter2)"
   ]
  },
  {
   "cell_type": "code",
   "execution_count": 420,
   "metadata": {},
   "outputs": [],
   "source": [
    "# union = FeatureUnion([(\"tas\", TokenizeAndStemer()),\n",
    "#                       (\"to\", TokenizeOnly())])\n",
    "\n",
    "# test = union.fit_transform(df_pandas_fitter2)\n",
    "# print(test.shape)"
   ]
  },
  {
   "cell_type": "code",
   "execution_count": 421,
   "metadata": {},
   "outputs": [],
   "source": [
    "# class TokenizeOnly(TransformerMixin, BaseEstimator):\n",
    "\n",
    "#     def __init__(self, default_column = 'subjects'):\n",
    "#         self.default_column = default_column\n",
    "#         pass\n",
    "    \n",
    "#      def fit(self, X, y = None):\n",
    "#         return self\n",
    "    \n",
    "#     def transform(self, X):\n",
    "#         vocab_frame = pd.DataFrame({'words': totalvocab_tokenized}, index = totalvocab_stemmed)\n",
    "# print('there are ' + str(vocab_frame.shape[0]) + ' items in vocab_frame')"
   ]
  },
  {
   "cell_type": "code",
   "execution_count": 422,
   "metadata": {},
   "outputs": [],
   "source": [
    "df_cleaned = pre_processing_pipeline.fit_transform(X = features)"
   ]
  },
  {
   "cell_type": "code",
   "execution_count": 423,
   "metadata": {},
   "outputs": [
    {
     "ename": "TypeError",
     "evalue": "__init__() missing 1 required positional argument: 'text_column'",
     "output_type": "error",
     "traceback": [
      "\u001b[1;31m---------------------------------------------------------------------------\u001b[0m",
      "\u001b[1;31mTypeError\u001b[0m                                 Traceback (most recent call last)",
      "\u001b[1;32m<ipython-input-423-f264b287a5bb>\u001b[0m in \u001b[0;36m<module>\u001b[1;34m()\u001b[0m\n\u001b[0;32m      1\u001b[0m tokenize_and_stem_pipeline = Pipeline([\n\u001b[1;32m----> 2\u001b[1;33m     \u001b[1;33m(\u001b[0m\u001b[1;34m'tas'\u001b[0m\u001b[1;33m,\u001b[0m \u001b[0mTokenizeAndStemer\u001b[0m\u001b[1;33m(\u001b[0m\u001b[1;33m)\u001b[0m\u001b[1;33m)\u001b[0m\u001b[1;33m\u001b[0m\u001b[0m\n\u001b[0m\u001b[0;32m      3\u001b[0m ])\n\u001b[0;32m      4\u001b[0m \u001b[1;33m\u001b[0m\u001b[0m\n\u001b[0;32m      5\u001b[0m \u001b[0mlist_tokenized_and_stemmed\u001b[0m \u001b[1;33m=\u001b[0m \u001b[0mtokenize_and_stem_pipeline\u001b[0m\u001b[1;33m.\u001b[0m\u001b[0mfit_transform\u001b[0m\u001b[1;33m(\u001b[0m\u001b[0mX\u001b[0m \u001b[1;33m=\u001b[0m \u001b[0mdf_cleaned\u001b[0m\u001b[1;33m)\u001b[0m\u001b[1;33m\u001b[0m\u001b[0m\n",
      "\u001b[1;31mTypeError\u001b[0m: __init__() missing 1 required positional argument: 'text_column'"
     ]
    }
   ],
   "source": [
    "tokenize_and_stem_pipeline = Pipeline([\n",
    "    ('tas', TokenizeAndStemer())\n",
    "])\n",
    "\n",
    "list_tokenized_and_stemmed = tokenize_and_stem_pipeline.fit_transform(X = df_cleaned)"
   ]
  },
  {
   "cell_type": "code",
   "execution_count": null,
   "metadata": {},
   "outputs": [],
   "source": [
    "tokenize_only_pipeline = Pipeline([   \n",
    "    ('to', TokenizeOnly())\n",
    "])\n",
    "\n",
    "list_tokenized = tokenize_only_pipeline.fit_transform(X = df_cleaned)"
   ]
  },
  {
   "cell_type": "code",
   "execution_count": null,
   "metadata": {},
   "outputs": [],
   "source": [
    "# def tokenize_and_stem(X, default_column = 'subjects'):\n",
    "#     tokens = [word for sent in nltk.sent_tokenize(X[default_column]) for word in nltk.word_tokenize(sent)]\n",
    "        \n",
    "#     filtered_tokens = []\n",
    "#     [filtered_tokens.append(token) if re.search('[a-zA-Z]', token) else token for token in tokens]\n",
    "    \n",
    "#     stems = [stemmer.stem(t) for t in filtered_tokens]\n",
    "        \n",
    "#     return stems\n",
    "\n",
    "# tokenize_and_stem(df_pandas_fitter2)"
   ]
  },
  {
   "cell_type": "code",
   "execution_count": null,
   "metadata": {},
   "outputs": [],
   "source": [
    "# def tokenize_and_stem(text):\n",
    "#     # first tokenize by sentence, then by word to ensure that punctuation is caught as it's own token\n",
    "#     tokens = [word for sent in nltk.sent_tokenize(text) for word in nltk.word_tokenize(sent)]\n",
    "#     filtered_tokens = []\n",
    "#     # filter out any tokens not containing letters (e.g., numeric tokens, raw punctuation)\n",
    "#     for token in tokens:\n",
    "#         if re.search('[a-zA-Z]', token):\n",
    "#             filtered_tokens.append(token)\n",
    "#     stems = [stemmer.stem(t) for t in filtered_tokens]\n",
    "#     return stems\n",
    "\n",
    "# tokenize_and_stem(df_pandas_fitter2['subjects'])"
   ]
  },
  {
   "cell_type": "code",
   "execution_count": null,
   "metadata": {},
   "outputs": [],
   "source": [
    "# def tokenize_and_stem(text):\n",
    "#     # first tokenize by sentence, then by word to ensure that punctuation is caught as it's own token\n",
    "#     tokens = [word for sent in nltk.sent_tokenize(text) for word in nltk.word_tokenize(sent)]\n",
    "#     filtered_tokens = []\n",
    "#     # filter out any tokens not containing letters (e.g., numeric tokens, raw punctuation)\n",
    "#     for token in tokens:\n",
    "#         if re.search('[a-zA-Z]', token):\n",
    "#             filtered_tokens.append(token)\n",
    "#     stems = [stemmer.stem(t) for t in filtered_tokens]\n",
    "#     return stems\n",
    "\n",
    "# allwords_stemmed = [tokenize_and_stem(str(i)) for i in subjects] #for each item in 'synopses', tokenize/stem\n",
    "# totalvocab_stemmed.extend(allwords_stemmed) #extend the 'totalvocab_stemmed' list\n",
    "# totalvocab_stemmed = list(more_itertools.collapse(totalvocab_stemmed)) "
   ]
  },
  {
   "cell_type": "code",
   "execution_count": null,
   "metadata": {},
   "outputs": [],
   "source": [
    "# subjects = df_pandas['subjects']\n",
    "\n",
    "# Define a tokenizer and stemmer which returns the set of stems in the text that it is passed\n",
    "\n",
    "# #class TextTransform()\n",
    "# def tokenize_and_stem(text):\n",
    "#     # first tokenize by sentence, then by word to ensure that punctuation is caught as it's own token\n",
    "#     tokens = [word for sent in nltk.sent_tokenize(text) for word in nltk.word_tokenize(sent)]\n",
    "#     filtered_tokens = []\n",
    "#     # filter out any tokens not containing letters (e.g., numeric tokens, raw punctuation)\n",
    "#     for token in tokens:\n",
    "#         if re.search('[a-zA-Z]', token):\n",
    "#             filtered_tokens.append(token)\n",
    "#     stems = [stemmer.stem(t) for t in filtered_tokens]\n",
    "#     return stems\n",
    "\n",
    "\n",
    "# def tokenize_only(text):\n",
    "#     # first tokenize by sentence, then by word to ensure that punctuation is caught as it's own token\n",
    "#     tokens = [word.lower() for sent in nltk.sent_tokenize(text) for word in nltk.word_tokenize(sent)]\n",
    "#     filtered_tokens = []\n",
    "#     # filter out any tokens not containing letters (e.g., numeric tokens, raw punctuation)\n",
    "#     for token in tokens:\n",
    "#         if re.search('[a-zA-Z]', token):\n",
    "#             filtered_tokens.append(token)\n",
    "#     return filtered_tokens\n",
    "\n",
    "# totalvocab_stemmed = []\n",
    "# totalvocab_tokenized = []\n",
    "\n",
    "# allwords_stemmed = [tokenize_and_stem(str(i)) for i in subjects] #for each item in 'synopses', tokenize/stem\n",
    "# totalvocab_stemmed.extend(allwords_stemmed) #extend the 'totalvocab_stemmed' list\n",
    "# totalvocab_stemmed = list(more_itertools.collapse(totalvocab_stemmed)) \n",
    "\n",
    "# allwords_tokenized = [tokenize_only(str(i)) for i in subjects]\n",
    "# totalvocab_tokenized.extend(allwords_tokenized)\n",
    "# totalvocab_tokenized = list(more_itertools.collapse(totalvocab_tokenized)) "
   ]
  },
  {
   "cell_type": "code",
   "execution_count": null,
   "metadata": {},
   "outputs": [],
   "source": []
  },
  {
   "cell_type": "code",
   "execution_count": null,
   "metadata": {},
   "outputs": [],
   "source": [
    "# totalvocab_stemmed = []\n",
    "# totalvocab_tokenized = []\n",
    "# for i in subjects_c:\n",
    "#     allwords_stemmed = tokenize_and_stem(str(i)) #for each item in 'synopses', tokenize/stem\n",
    "#     totalvocab_stemmed.extend(allwords_stemmed) #extend the 'totalvocab_stemmed' list\n",
    "    \n",
    "#     allwords_tokenized = tokenize_only(str(i))\n",
    "#     totalvocab_tokenized.extend(allwords_tokenized)\n",
    "# totalvocab_tokenized"
   ]
  },
  {
   "cell_type": "code",
   "execution_count": null,
   "metadata": {},
   "outputs": [],
   "source": [
    "# class ModelTransformer(TransformerMixin):\n",
    "#     def __init__(self, model):\n",
    "#         self.model = model\n",
    "\n",
    "#     def fit(self, *args, **kwargs):\n",
    "#         self.model.fit(*args, **kwargs)\n",
    "#         return self\n",
    "\n",
    "#     def transform(self, X, **transform_params):\n",
    "#         return pd.DataFrame(self.model.predict(X))\n",
    "\n",
    "# pipeline = Pipeline([\n",
    "#     ('cluster', ModelTransformer(KMeans_foo(3))),\n",
    "#     ('binarize', LabelBinarizer())\n",
    "# ])"
   ]
  },
  {
   "cell_type": "code",
   "execution_count": null,
   "metadata": {},
   "outputs": [],
   "source": [
    "# df_pandas.loc[:,'PUBLICATIONYEAR'] = df_pandas.loc[:,'PUBLICATIONYEAR'].str.extract(r'(^|)*([0-9]{4})\\s*(|$)', expand=True)\n",
    "\n",
    "# _______________________________________________________________________________\n",
    "# Functions for transforming the data\n",
    "# def processing(df):\n",
    "#     df['PUBLICATIONYEAR'] = df['PUBLICATIONYEAR'].str.extract(r'(^|)*([0-9]{4})\\s*(|$)', expand=True)\n",
    "#     [str(item) for item in df['SUBJECTS'] if item is None]\n",
    "\n",
    "# processing(df_pandas)\n",
    "    \n",
    "    # def ext_date_fun(input, output):\n",
    "#   output = input.str.extractstr.extract(r'(^|)*([0-9]{4})\\s*(|$)', expand=True)\n",
    "  \n",
    "# def fix_none_fun(sub):\n",
    "#   [str(item) for item in sub if item is None]\n",
    "# _______________________________________________________________________________\n",
    "\n",
    "# # Attempt at putting the functions into classes\n",
    "# class PublicationYearCleaner(object):\n",
    "#   \"\"\"Preprocessing: This class cleans the Publication Year Column\"\"\"\n",
    "#   def __init__(self, data):\n",
    "#     self.raw = data\n",
    "  \n",
    "#   def ext_date(self, pub_year):\n",
    "#      pub_year = pub_year.str.extract(r'(^|)*([0-9]{4})\\s*(|$)', expand=True)\n",
    "\n",
    "# class SubjectsCleaner(objct)\n",
    "#   def fix_none(self, string):\n",
    "#     if string is None:\n",
    "#       return ''\n",
    "#     return str(string)\n",
    "# # ________________________________________________________________________________\n"
   ]
  },
  {
   "cell_type": "code",
   "execution_count": null,
   "metadata": {},
   "outputs": [],
   "source": [
    "# df_pandas.loc[:,'PUBLICATIONYEAR'] = df_pandas.loc[:,'PUBLICATIONYEAR'].str.extract(r'(^|)*([0-9]{4})\\s*(|$)', expand=True)\n",
    "\n"
   ]
  },
  {
   "cell_type": "code",
   "execution_count": null,
   "metadata": {},
   "outputs": [],
   "source": [
    "# n = 1000  # Number of rows to analyse\n",
    "\n",
    "# titles = df_pandas.loc[0:n,'TITLE'].values.tolist()\n",
    "# subjects = df_pandas.loc[0:n,'SUBJECTS'].values.tolist()\n",
    "# author = df_pandas.loc[0:n, 'AUTHOR'].values.tolist()"
   ]
  },
  {
   "cell_type": "code",
   "execution_count": null,
   "metadata": {},
   "outputs": [],
   "source": [
    "# class ModelTransformer(TransformerMixin):\n",
    "#     def __init__(self, model):\n",
    "#         self.model = model\n",
    "\n",
    "#     def fit(self, *args, **kwargs):\n",
    "#         self.model.fit(*args, **kwargs)\n",
    "#         return self\n",
    "\n",
    "#     def transform(self, X, **transform_params):\n",
    "#         return pd.DataFrame(self.model.predict(X))"
   ]
  },
  {
   "cell_type": "code",
   "execution_count": null,
   "metadata": {},
   "outputs": [],
   "source": [
    "# df_pandas = df_pandas.join(pd.get_dummies(df_pandas.loc[:,'ITEMTYPE']), how='inner')\n",
    "# df_pandas = df_pandas.join(pd.get_dummies(df_pandas.loc[:,'ITEMCOLLECTION']), how='inner')\n",
    "# df_pandas = df_pandas.join(pd.get_dummies(df_pandas.loc[:,'ITEMLOCATION']), how='inner')\n",
    "# list(df_pandas.columns.values)\n"
   ]
  },
  {
   "cell_type": "code",
   "execution_count": null,
   "metadata": {},
   "outputs": [],
   "source": [
    "# #use extend so it's a big flat list of vocab\n",
    "# totalvocab_stemmed = []\n",
    "# totalvocab_tokenized = []\n",
    "# for i in df_pandas['subjects_c']:\n",
    "#     allwords_stemmed = tokenize_and_stem(str(i)) #for each item in 'synopses', tokenize/stem\n",
    "#     totalvocab_stemmed.extend(allwords_stemmed) #extend the 'totalvocab_stemmed' list\n",
    "    \n",
    "#     allwords_tokenized = tokenize_only(str(i))\n",
    "#     totalvocab_tokenized.extend(allwords_tokenized)"
   ]
  },
  {
   "cell_type": "code",
   "execution_count": null,
   "metadata": {},
   "outputs": [],
   "source": [
    "vocab_frame = pd.DataFrame({'words': totalvocab_tokenized}, index = totalvocab_stemmed)\n",
    "print('there are ' + str(vocab_frame.shape[0]) + ' items in vocab_frame')"
   ]
  },
  {
   "cell_type": "code",
   "execution_count": null,
   "metadata": {},
   "outputs": [],
   "source": [
    "print(vocab_frame.head())"
   ]
  },
  {
   "cell_type": "code",
   "execution_count": null,
   "metadata": {},
   "outputs": [],
   "source": [
    "#define vectorizer parameters\n",
    "vectorizer_pipe = Pipeline(steps=[('tfidf', TfidfVectorizer(max_df=0.8, max_features=200000,\n",
    "                                 min_df=5, stop_words='english',\n",
    "                                 use_idf=True, tokenizer=tokenize_and_stem, ngram_range=(1,3)))])\n",
    "\n",
    "%time tfidf_matrix = vectorizer_pipe.fit_transform(subjects)  # fit the vectorizer to synopses\n",
    "\n",
    "print(tfidf_matrix.shape)"
   ]
  },
  {
   "cell_type": "code",
   "execution_count": null,
   "metadata": {},
   "outputs": [],
   "source": [
    "terms = tfidf_vectorizer.get_feature_names()\n",
    "dist = 1 - euclidean_distances(tfidf_matrix)\n",
    "\n",
    "cluster_pipe = Pipeline(steps=[('cluster', KMeans(n_clusters = 5, random_state=3425))])\n",
    "%time cluster_pipe.fit(tfidf_matrix)\n",
    "clusters = cluster_pipe.named_steps['cluster'].labels_.tolist()"
   ]
  },
  {
   "cell_type": "code",
   "execution_count": null,
   "metadata": {},
   "outputs": [],
   "source": [
    "from sklearn.externals import joblib\n",
    "\n",
    "#uncomment the below to save your model \n",
    "#since I've already run my model I am loading from the pickle\n",
    "\n",
    "joblib.dump(cluster_pipe,  'doc_cluster.pkl')\n",
    "\n",
    "km = joblib.load('doc_cluster.pkl')\n",
    "clusters = cluster_pipe.named_steps['cluster'].labels_.tolist()"
   ]
  },
  {
   "cell_type": "code",
   "execution_count": null,
   "metadata": {},
   "outputs": [],
   "source": [
    "books = { 'title': titles, 'author': author, 'subjects': subjects_c, 'cluster': clusters }\n",
    "\n",
    "frame = pd.DataFrame(books, index = [clusters] , columns = ['title', 'author', 'cluster'])"
   ]
  },
  {
   "cell_type": "code",
   "execution_count": null,
   "metadata": {},
   "outputs": [],
   "source": [
    "# frame.columns\n",
    "frame.cluster.value_counts() #number of books per cluster (clusters from 0 to 4)"
   ]
  },
  {
   "cell_type": "code",
   "execution_count": null,
   "metadata": {},
   "outputs": [],
   "source": [
    "from __future__ import print_function\n",
    "\n",
    "print(ind)\n",
    "print(\"Top terms per cluster:\")\n",
    "print()\n",
    "#sort cluster centers by proximity to centroid\n",
    "order_centroids = cluster_pipe.named_steps['cluster'].cluster_centers_.argsort()[:, ::-1] \n",
    "\n",
    "for i in range(num_clusters):\n",
    "    print(\"Cluster %d words:\" % i, end='')\n",
    "    \n",
    "    for ind in order_centroids[i, :6]: #replace 6 with n words per cluster\n",
    "        print(' %s' % vocab_frame.loc[terms[ind].split(' ')].values.tolist()[0][0].encode('utf-8', 'ignore'), end=',')\n",
    "        print() #add whitespace\n",
    "        print() #add whitespace\n",
    "    \n",
    "    for ind in order_centroids[i, :3]: #replace 6 with n words per cluster\n",
    "        x += ' %s' % vocab_frame.loc[terms[ind].split(' ')].values.tolist()[0][0].encode('utf-8', 'ignore'), end=','\n",
    "    \n",
    "#    print(\"Cluster %d titles:\" % i, end='')\n",
    "#    for title in frame.loc[i,'title'].values.tolist():\n",
    "#        print(' %s,' % title, end='')"
   ]
  },
  {
   "cell_type": "code",
   "execution_count": null,
   "metadata": {},
   "outputs": [],
   "source": [
    "# import os  # for os.path.basename\n",
    "\n",
    "# import matplotlib.pyplot as plt\n",
    "# import matplotlib as mpl\n",
    "\n",
    "# from sklearn.manifold import MDS\n",
    "\n",
    "# MDS()\n",
    "\n",
    "# # convert two components as we're plotting points in a two-dimensional plane\n",
    "# # \"precomputed\" because we provide a distance matrix\n",
    "# # we will also specify `random_state` so the plot is reproducible.\n",
    "# mds = MDS(n_components=2, dissimilarity=\"precomputed\", random_state=1)\n",
    "\n",
    "# pos = mds.fit_transform(dist)  # shape (n_components, n_samples)\n",
    "\n",
    "# xs, ys = pos[:, 0], pos[:, 1]"
   ]
  },
  {
   "cell_type": "code",
   "execution_count": null,
   "metadata": {},
   "outputs": [],
   "source": [
    "dummies = pd.get_dummies(frame.cluster)\n",
    "dummies.columns = dummies.columns.astype(str)\n",
    "list(dummies.columns.values)\n"
   ]
  },
  {
   "cell_type": "code",
   "execution_count": null,
   "metadata": {},
   "outputs": [],
   "source": [
    "# dummies.rename(index=str, columns={\"0\": \"Juvenile Literature\", \"1\": \"Music (Country)\", \"2\": \"Mystery\", \"3\": \"Music (Rock)\", \"4\": \"Comic Books\"})\n",
    "dummies.columns = [\"Drama / Film / Rock\", \"Juvinile Mystery\", \"United States / Biography\", \"Juvinile Literature / Biography\", \"Comic Books\"]\n",
    "list(dummies.columns.values)"
   ]
  },
  {
   "cell_type": "code",
   "execution_count": null,
   "metadata": {},
   "outputs": [],
   "source": [
    "#frame\n",
    "df_pandas_dummies = df_pandas.join(dummies, how='left')\n",
    "df_pandas_dummies\n",
    "list(df_pandas_dummies.columns.values)"
   ]
  },
  {
   "cell_type": "code",
   "execution_count": null,
   "metadata": {},
   "outputs": [],
   "source": [
    "prediction = df_pandas.loc[(n+1):,:]"
   ]
  },
  {
   "cell_type": "code",
   "execution_count": null,
   "metadata": {},
   "outputs": [],
   "source": [
    "X_train, X_test, y_train, y_test = train_test_split(df_pandas_dummies, dummies, test_size=0.2)\n",
    "print(X_train.shape, y_train.shape)\n",
    "print(X_test.shape, y_test.shape)"
   ]
  },
  {
   "cell_type": "code",
   "execution_count": null,
   "metadata": {},
   "outputs": [],
   "source": []
  }
 ],
 "metadata": {
  "kernelspec": {
   "display_name": "Python 3",
   "language": "python",
   "name": "python3"
  },
  "language_info": {
   "codemirror_mode": {
    "name": "ipython",
    "version": 3
   },
   "file_extension": ".py",
   "mimetype": "text/x-python",
   "name": "python",
   "nbconvert_exporter": "python",
   "pygments_lexer": "ipython3",
   "version": "3.6.6"
  },
  "name": "Library_Collection_Forecasting",
  "notebookId": 3995305047714984
 },
 "nbformat": 4,
 "nbformat_minor": 2
}
