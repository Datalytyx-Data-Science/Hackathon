{
 "cells": [
  {
   "cell_type": "markdown",
   "metadata": {},
   "source": [
    "# Machine Learning for Demand Forecasting"
   ]
  },
  {
   "cell_type": "markdown",
   "metadata": {},
   "source": [
    "### Use case - predicting the demand for items at a libary"
   ]
  },
  {
   "cell_type": "code",
   "execution_count": 3,
   "metadata": {},
   "outputs": [
    {
     "data": {
      "text/html": [
       "<style scoped>\n",
       "  .ansiout {\n",
       "    display: block;\n",
       "    unicode-bidi: embed;\n",
       "    white-space: pre-wrap;\n",
       "    word-wrap: break-word;\n",
       "    word-break: break-all;\n",
       "    font-family: \"Source Code Pro\", \"Menlo\", monospace;;\n",
       "    font-size: 13px;\n",
       "    color: #555;\n",
       "    margin-left: 4px;\n",
       "    line-height: 19px;\n",
       "  }\n",
       "</style>\n",
       "<div class=\"ansiout\"></div>"
      ]
     },
     "metadata": {},
     "output_type": "display_data"
    }
   ],
   "source": [
    "# sfOptions = {\n",
    "#   \"sfURL\" : \"datalytyx.east-us-2.azure.snowflakecomputing.com\",\n",
    "#   \"sfAccount\" : \"datalytyx\",\n",
    "#   \"sfUser\" : \"WILLHOLTAM\",\n",
    "#   \"sfPassword\" : \"04MucSfLV\",\n",
    "#   \"sfRole\": \"DATABRICKS\",\n",
    "#   \"sfDatabase\" : \"DATABRICKS_DEMO\",\n",
    "#   \"sfSchema\" : \"SEATTLE_LIBRARY\",\n",
    "#   \"sfWarehouse\" : \"DATASCIENCE_WH\"\n",
    "# }\n",
    "# SNOWFLAKE_SOURCE_NAME = \"net.snowflake.spark.snowflake\""
   ]
  },
  {
   "cell_type": "code",
   "execution_count": 4,
   "metadata": {},
   "outputs": [
    {
     "data": {
      "text/html": [
       "<style scoped>\n",
       "  .ansiout {\n",
       "    display: block;\n",
       "    unicode-bidi: embed;\n",
       "    white-space: pre-wrap;\n",
       "    word-wrap: break-word;\n",
       "    word-break: break-all;\n",
       "    font-family: \"Source Code Pro\", \"Menlo\", monospace;;\n",
       "    font-size: 13px;\n",
       "    color: #555;\n",
       "    margin-left: 4px;\n",
       "    line-height: 19px;\n",
       "  }\n",
       "</style>\n",
       "<div class=\"ansiout\"></div>"
      ]
     },
     "metadata": {},
     "output_type": "display_data"
    }
   ],
   "source": [
    "# spark.conf.set(\"spark.executor.memory\", \"10g\")\n",
    "# spark.conf.set(\"spark.databricks.io.cache.enabled\", \"true\")\n",
    "# #spark.conf.set(\"spark.databricks.io.cache.maxDiskUsage\", \"10g\")\n",
    "# spark.conf.set(\"spark.databricks.io.cache.maxMetaDataCache\", \"10g\")\n",
    "# # =true\n",
    "# spark.databricks.io.cache.maxDiskUsage 10g\n",
    "# spark.databricks.io.cache.maxMetaDataCache 10g\n",
    "\n",
    "# spark.conf.set(\n",
    "#   \"fs.azure.account.key.dlxhackathon1.blob.core.windows.net\",\n",
    "#   \"ej8Nd4FyayPD9InmjCWZvVfB7nV4EWnkWu5IjWEUfs4aXRe7nz/xkPg6g1BtY6X5i+kHBQ8uDLGOG2PTpB28TQ==\")\n",
    "# df = spark.read.format(\"csv\").option(\"inferSchema\", \"true\").load(\"wasbs://hackathon@dlxhackathon1.blob.core.windows.net/\")\n",
    "# df.describe()"
   ]
  },
  {
   "cell_type": "code",
   "execution_count": 3,
   "metadata": {},
   "outputs": [],
   "source": [
    "# Import Libraries\n",
    "import numpy as np\n",
    "import pandas as pd\n",
    "import nltk  # Has to be added through Workspaces/ attach library to cluster\n",
    "import more_itertools\n",
    "import re\n",
    "import os\n",
    "import codecs\n",
    "import mpld3\n",
    "from snowflake.sqlalchemy import URL\n",
    "from nltk.stem.snowball import SnowballStemmer\n",
    "from sqlalchemy import create_engine\n",
    "from sklearn.base import BaseEstimator, TransformerMixin\n",
    "from sklearn import feature_extraction\n",
    "from sklearn.cluster import KMeans\n",
    "from sklearn.metrics.pairwise import euclidean_distances\n",
    "from sklearn.feature_extraction.text import TfidfVectorizer\n",
    "from sklearn.model_selection import train_test_split\n",
    "from sklearn import preprocessing\n",
    "from sklearn.pipeline import Pipeline"
   ]
  },
  {
   "cell_type": "code",
   "execution_count": 4,
   "metadata": {},
   "outputs": [],
   "source": [
    "sf_account = \"datalytyx\"\n",
    "sf_user = \"WILLHOLTAM\"\n",
    "sf_pwd = \"04MucSfLV\"\n",
    "# sf_user = \"CHRISSCHON\"\n",
    "# sf_pwd = \"UpsetSheep7\"\n",
    "sf_role = \"DATABRICKS\"\n",
    "sf_db = \"DATABRICKS_DEMO\"\n",
    "sf_schema = \"SEATTLE_LIBRARY\"\n",
    "sf_wh = \"DATASCIENCE_WH\"\n",
    "sf_region = \"east-us-2.azure\""
   ]
  },
  {
   "cell_type": "code",
   "execution_count": 5,
   "metadata": {},
   "outputs": [],
   "source": [
    "engine = create_engine(URL(\n",
    "    user = sf_user,\n",
    "    password = sf_pwd,\n",
    "    account = sf_account,\n",
    "    region = sf_region,\n",
    "    database = sf_db,\n",
    "    schema = sf_schema,\n",
    "    warehouse = sf_wh,\n",
    "    role = sf_role,\n",
    "))\n",
    "\n",
    "# engine = create_engine(connection_string)"
   ]
  },
  {
   "cell_type": "code",
   "execution_count": 5,
   "metadata": {},
   "outputs": [],
   "source": [
    "df_pandas = pd.read_sql_query(\"select * from library_collection_inventory where reportdate in ('2017-09-01T00:00:00','2017-10-01T00:00:00', '2017-11-01T00:00:00', '2017-12-01T00:00:00', '2018-01-01T00:00:00', '2018-01-01T00:00:00', '2018-02-01T00:00:00', '2018-02-01T00:00:00', '2018-03-01T00:00:00', '2018-04-01T00:00:00', '2018-05-01T00:00:00', '2018-06-01T00:00:00', '2018-07-01T00:00:00') limit 1000\", engine)"
   ]
  },
  {
   "cell_type": "code",
   "execution_count": 5,
   "metadata": {},
   "outputs": [
    {
     "data": {
      "text/html": [
       "<style scoped>\n",
       "  .ansiout {\n",
       "    display: block;\n",
       "    unicode-bidi: embed;\n",
       "    white-space: pre-wrap;\n",
       "    word-wrap: break-word;\n",
       "    word-break: break-all;\n",
       "    font-family: \"Source Code Pro\", \"Menlo\", monospace;;\n",
       "    font-size: 13px;\n",
       "    color: #555;\n",
       "    margin-left: 4px;\n",
       "    line-height: 19px;\n",
       "  }\n",
       "</style>\n",
       "<div class=\"ansiout\"></div>"
      ]
     },
     "metadata": {},
     "output_type": "display_data"
    }
   ],
   "source": [
    "# #spark.conf.set(\"spark.executor.cores\",2)\n",
    "\n",
    "# df = spark.read.format(SNOWFLAKE_SOURCE_NAME) \\\n",
    "#   .options(**sfOptions) \\\n",
    "#   .option(\"query\", \"\"\"select * from library_collection_inventory where reportdate in ('2017-09-01T00:00:00','2017-10-01T00:00:00', '2017-11-01T00:00:00', '2017-12-01T00:00:00', '2018-01-01T00:00:00', '2018-01-01T00:00:00', '2018-02-01T00:00:00', '2018-02-01T00:00:00', '2018-03-01T00:00:00', '2018-04-01T00:00:00', '2018-05-01T00:00:00', '2018-06-01T00:00:00', '2018-07-01T00:00:00') \"\"\") \\\n",
    "#   .load().limit(200000)"
   ]
  },
  {
   "cell_type": "code",
   "execution_count": 6,
   "metadata": {},
   "outputs": [
    {
     "data": {
      "text/html": [
       "<style scoped>\n",
       "  .ansiout {\n",
       "    display: block;\n",
       "    unicode-bidi: embed;\n",
       "    white-space: pre-wrap;\n",
       "    word-wrap: break-word;\n",
       "    word-break: break-all;\n",
       "    font-family: \"Source Code Pro\", \"Menlo\", monospace;;\n",
       "    font-size: 13px;\n",
       "    color: #555;\n",
       "    margin-left: 4px;\n",
       "    line-height: 19px;\n",
       "  }\n",
       "</style>\n",
       "<div class=\"ansiout\"></div>"
      ]
     },
     "metadata": {},
     "output_type": "display_data"
    }
   ],
   "source": [
    "# # Create a view or table\n",
    "\n",
    "# temp_table_name = \"library_collection_inventory\"\n",
    "\n",
    "# df.createOrReplaceTempView(temp_table_name)"
   ]
  },
  {
   "cell_type": "code",
   "execution_count": 8,
   "metadata": {},
   "outputs": [
    {
     "data": {
      "text/html": [
       "<style scoped>\n",
       "  .ansiout {\n",
       "    display: block;\n",
       "    unicode-bidi: embed;\n",
       "    white-space: pre-wrap;\n",
       "    word-wrap: break-word;\n",
       "    word-break: break-all;\n",
       "    font-family: \"Source Code Pro\", \"Menlo\", monospace;;\n",
       "    font-size: 13px;\n",
       "    color: #555;\n",
       "    margin-left: 4px;\n",
       "    line-height: 19px;\n",
       "  }\n",
       "</style>\n",
       "<div class=\"ansiout\">[nltk_data] Downloading package stopwords to /root/nltk_data...\n",
       "[nltk_data]   Package stopwords is already up-to-date!\n",
       "[nltk_data] Downloading package punkt to /root/nltk_data...\n",
       "[nltk_data]   Package punkt is already up-to-date!\n",
       "<span class=\"ansired\">Out[</span><span class=\"ansired\">7</span><span class=\"ansired\">]: </span>True\n",
       "</div>"
      ]
     },
     "metadata": {},
     "output_type": "display_data"
    }
   ],
   "source": [
    "nltk.download('stopwords')\n",
    "nltk.download('punkt')"
   ]
  },
  {
   "cell_type": "code",
   "execution_count": 9,
   "metadata": {},
   "outputs": [
    {
     "data": {
      "text/html": [
       "<style scoped>\n",
       "  .ansiout {\n",
       "    display: block;\n",
       "    unicode-bidi: embed;\n",
       "    white-space: pre-wrap;\n",
       "    word-wrap: break-word;\n",
       "    word-break: break-all;\n",
       "    font-family: \"Source Code Pro\", \"Menlo\", monospace;;\n",
       "    font-size: 13px;\n",
       "    color: #555;\n",
       "    margin-left: 4px;\n",
       "    line-height: 19px;\n",
       "  }\n",
       "</style>\n",
       "<div class=\"ansiout\"></div>"
      ]
     },
     "metadata": {},
     "output_type": "display_data"
    }
   ],
   "source": [
    "df_pandas = df.toPandas()\n",
    "n = 100000\n",
    "titles = df_pandas.loc[0:n,'TITLE'].values.tolist()\n",
    "subjects = df_pandas.loc[0:n,'SUBJECTS'].values.tolist()\n",
    "author = df_pandas.loc[0:n, 'AUTHOR'].values.tolist()"
   ]
  },
  {
   "cell_type": "code",
   "execution_count": 10,
   "metadata": {},
   "outputs": [
    {
     "data": {
      "text/html": [
       "<style scoped>\n",
       "  .ansiout {\n",
       "    display: block;\n",
       "    unicode-bidi: embed;\n",
       "    white-space: pre-wrap;\n",
       "    word-wrap: break-word;\n",
       "    word-break: break-all;\n",
       "    font-family: \"Source Code Pro\", \"Menlo\", monospace;;\n",
       "    font-size: 13px;\n",
       "    color: #555;\n",
       "    margin-left: 4px;\n",
       "    line-height: 19px;\n",
       "  }\n",
       "</style>\n",
       "<div class=\"ansiout\"><span class=\"ansired\">Out[</span><span class=\"ansired\">9</span><span class=\"ansired\">]: </span>\n",
       "[&apos;United States Federal Bureau of Investigation Fiction, Art thefts Fiction, Murder Investigation Fiction, Man woman relationships Fiction, Maine Fiction, Boston Mass Fiction, Romantic suspense fiction&apos;,\n",
       " &apos;Veganism Social aspects, Animal welfare Moral and ethical aspects, Animal rights movement, Human animal relationships, Cultural awareness&apos;,\n",
       " &apos;Comedy Authorship, Wit and humor Authorship&apos;,\n",
       " &apos;None&apos;,\n",
       " &apos;United States Politics and government 1963 1969&apos;,\n",
       " &apos;World War 1939 1945 Juvenile literature&apos;,\n",
       " &apos;New York N Y Buildings structures etc, New York N Y Description and travel, New York N Y Civilization, Documentary films, Travelogues Television programs, Nonfiction films, Video recordings for the hearing impaired&apos;,\n",
       " &apos;Architecture Victorian&apos;,\n",
       " &apos;Frankenstein Victor Fictitious character Fiction, Frankensteins Monster Fictitious character Fiction, Horror fiction, Short stories&apos;,\n",
       " &apos;Marley Dog Juvenile fiction, Dogs Fiction, Animal sounds Fiction&apos;,\n",
       " &apos;Proctor Ezekiel 1831 1907 Fiction, Christie Ned 1852 1892 Fiction, Frontier and pioneer life Ozark Mountains Region Fiction, Indians of North America Ozark Mountains Region Fiction, Cherokee Indians Fiction, Large type books&apos;,\n",
       " &apos;Names Geographical China, China Maps&apos;,\n",
       " &apos;Sheep Juvenile fiction, Rescues Juvenile fiction, Autonomy Psychology Juvenile fiction, Spanish language materials&apos;,\n",
       " &apos;Amusement parks Comic books strips etc, Vampires Comic books strips etc, Zombies Comic books strips etc, Witches Comic books strips etc, Comic books strips etc France Translations into English, Graphic novels, Comic books strips etc&apos;,\n",
       " &apos;Cats Juvenile fiction&apos;,\n",
       " &apos;Self perception Juvenile fiction, Simile Juvenile fiction, Animals Fiction, Stories in rhyme Juvenile fiction&apos;,\n",
       " &apos;Electronic music, Ambient music, Popular music 2011 2020&apos;,\n",
       " &apos;Motion picture music, Motion picture music&apos;,\n",
       " &apos;Confederate States of America Army History, United States History Civil War 1861 1865 Regimental histories&apos;,\n",
       " &apos;Grandmothers Juvenile fiction, Ballet dancing Juvenile fiction, Magic tricks Juvenile fiction, Cats Juvenile fiction, Goats Juvenile fiction, Picture books&apos;,\n",
       " &apos;Life, Suffering&apos;,\n",
       " &apos;Morrow Alex Fictitious character Fiction, Policewomen Fiction, Suicide victims Fiction, Murder Investigation Fiction, Scotland Fiction, Mystery fiction&apos;,\n",
       " &apos;United States Navy SEALs History, United States Navy Commando troops History, Benghazi Consulate Attack Banghazi Libya 2012, Special operations Military science United States History 21st century&apos;,\n",
       " &apos;Subsistence economy Alaska Gates of the Arctic National Park and Preserve, All terrain vehicles Environmental aspects Alaska Gates of the Arctic National Park and Preserve, Gates of the Arctic National Park and Preserve Alaska&apos;,\n",
       " &apos;Durst Robert, Missing persons New York State Case studies, Missing persons Investigation New York State Case studies, Murder New York State New York Case studies, Murder Investigation New York State New York Case studies, Murder Texas Galveston Bay Case studies, Murder Investigation Texas Galveston Bay Case studies, Murderers New York State New York Biography, Documentary films, Biographical films, Video recordings for the hearing impaired&apos;,\n",
       " &apos;Motion picture music, Popular music 2011 2020, Motion picture music&apos;,\n",
       " &apos;Emergency housing Design and construction, Buildings Temporary Design and construction, Disaster victims Dwellings, Architecture and society&apos;,\n",
       " &apos;Succubi Drama, Policewomen Drama, Fantasy television programs, Detective and mystery television programs, Fiction television programs, Television series, Video recordings for the hearing impaired&apos;,\n",
       " &apos;Housing Colorado Statistics, Colorado Census 2000, Colorado Population Statistics, United States Census 2000&apos;,\n",
       " &apos;Smoke Physiological effect West U S, Forest fire fighters Health risk assessment West U S, Wildfire fighters Health risk assessment West U S&apos;,\n",
       " &apos;Madoff Bernard L, Swindlers and swindling United States Biography, Ponzi schemes United States, Commercial crimes United States&apos;,\n",
       " &apos;Russian language materials, Russia Federation Juvenile poetry, Russia Federation Juvenile fiction&apos;,\n",
       " &apos;Fashion Social aspects, Nudity Social aspects, Sex symbolism, Erotica&apos;,\n",
       " &apos;Stories in rhyme, Peas Juvenile fiction, Occupations Juvenile fiction, Alphabet books Juvenile fiction, Alphabet, Picture books&apos;,\n",
       " &apos;Fire ecology New Mexico Bandelier National Monument Congresses Juvenile literature, Fire ecology Southwest New Congresses Juvenile literature, Forest fires New Mexico Bandelier National Monument Congresses Juvenile literature, Forest fires Southwest New Congresses Juvenile literature, Forest ecology New Mexico Bandelier National Monument Congresses Juvenile literature, Forest ecology Southwest New Congresses Juvenile literature, Bandelier National Monument N M Congresses Juvenile literature&apos;,\n",
       " &apos;Shackleton Ernest Henry Sir 1874 1922 Travel, Endurance Ship, Imperial Trans Antarctic Expedition 1914 1917, Antarctica Discovery and exploration&apos;,\n",
       " &apos;German language Dialects, Costume Germany, Germany Social life and customs&apos;,\n",
       " &apos;Lemmons Bob Juvenile literature, African American cowboys Juvenile literature, Mustang Juvenile literature, Horses, Cowboys Juvenile literature, African Americans Juvenile literature, Texas History 1865 1950 Juvenile literature&apos;,\n",
       " &apos;Maisy Fictitious character from Cousins Juvenile fiction, Libraries Juvenile fiction, Mice Juvenile fiction, Quietude Juvenile fiction, Books and reading Juvenile fiction&apos;,\n",
       " &apos;Gohlke Frank 1942, Plants Effect of volcanic eruptions on Pictorial works, Volcanic fields Pictorial works, Saint Helens Mount Wash Pictorial works, Saint Helens Mount Wash Eruption 1980&apos;,\n",
       " &apos;Boulud Daniel, Cooking&apos;,\n",
       " &apos;Farms Juvenile drama, Domestic animals Juvenile drama, Television series, Fiction television programs, Animated television programs, Childrens television programs, Video recordings for the hearing impaired&apos;,\n",
       " &apos;Popular instrumental music 2011 2020, Electronic music, Ambient music&apos;,\n",
       " &apos;Popular music 2011 2020, Popular music&apos;,\n",
       " &apos;Medicine Handbooks manuals etc, Diagnosis Handbooks, Chemotherapy Handbooks&apos;,\n",
       " &apos;Truthfulness and falsehood Fiction, Iraq War 2003 2011 Personal narratives American Fiction, War stories&apos;,\n",
       " &apos;Baseball players United States Biography, Baseball United States History, Baseball Encyclopedias&apos;,\n",
       " &apos;Astrology&apos;,\n",
       " &apos;Bulbs Plants Encyclopedias&apos;,\n",
       " &apos;Anxiety in adolescence Popular works, Panic Popular works&apos;,\n",
       " &apos;National security United States Forecasting, United States Foreign relations 1989, United States Military policy, Great Britain Foreign relations 20th century, Great Britain History Military 20th century&apos;,\n",
       " &apos;Erotic fiction, Short stories&apos;,\n",
       " &apos;Bolz Weber Nadia, Evangelical Lutheran Church in America, Lutheran Church United States Clergy Biography, Women clergy United States Biography, Recovering alcoholics Biography&apos;,\n",
       " &apos;Temperament United States, Personality United States, Ethnic groups United States, Success United States, American Dream&apos;,\n",
       " &apos;Imaginary places Fiction, Imaginary wars and battles Fiction, Young women Fiction, Magic Fiction, Fantasy fiction, Epic fiction&apos;,\n",
       " &apos;Bedtime Juvenile fiction, Sleepovers Juvenile fiction, Cats Juvenile fiction, Animals Fiction&apos;,\n",
       " &apos;American wit and humor&apos;,\n",
       " &apos;Geotechnical engineering Washington State Seattle History, Earthwork Washington State Seattle History, Geology Washington State&apos;,\n",
       " &apos;Cheerleading Juvenile fiction&apos;,\n",
       " &apos;Motion picture music&apos;,\n",
       " &apos;Geology Juvenile literature, Ecology Juvenile literature, Earth Planet Juvenile literature&apos;,\n",
       " &apos;Stentz Howard W Slentz Stentz connection in the Province of Pennsylvania Indexes, Stentz family Indexes&apos;,\n",
       " &apos;Attention, Memory, Thought and thinking&apos;,\n",
       " &apos;Marriage records Virginia, Virginia Genealogy&apos;,\n",
       " &apos;United States Federal Bureau of Investigation Employees Crimes against Fiction, Karp Butch Fictitious character Fiction, Ciampi Marlene Fictitious character Fiction, Political corruption Fiction, Large type books, Legal fiction Literature, Thrillers Fiction, Detective and mystery fiction&apos;,\n",
       " &apos;Stapley Rhonda Biography, Bundy Ted, Victims of violent crimes United States Biography, Attempted murder United States, Serial murderers United States&apos;,\n",
       " &apos;Art Gothic&apos;,\n",
       " &apos;Werewolves Juvenile literature, Shapeshifting Juvenile literature, Animals Mythical Juvenile literature, Monsters Folklore&apos;,\n",
       " &apos;City and town life China Juvenile fiction, China Juvenile fiction&apos;,\n",
       " &apos;Keaton Buster 1895 1966&apos;,\n",
       " &apos;Connolly Cyril 1903 1974, Authors English 20th century Biography, Editors Great Britain Biography, Critics Great Britain Biography&apos;,\n",
       " &apos;Witches Juvenile fiction, Magic Juvenile fiction, Fantasy, Fantasy fiction&apos;,\n",
       " &apos;Motherhood United States, Mothers Psychology&apos;,\n",
       " &apos;Pendergast Aloysius Fictitious character Fiction, Government investigators Fiction, Murder Investigation Fiction, Serial murders Fiction, Serial murderers Fiction, New York N Y Fiction, Large type books, Thrillers Fiction, Detective and mystery fiction&apos;,\n",
       " &apos;None&apos;,\n",
       " &apos;Popular music 2011 2020, Rock music 2011 2020, Electronic dance music&apos;,\n",
       " &apos;Orangutans Juvenile literature, Rain forest animals Juvenile literature, Orangutans, Rain forest animals&apos;,\n",
       " &apos;Childrens songs Juvenile sound recordings, Songs&apos;,\n",
       " &apos;Great Dane Juvenile fiction, Scottish terrier Juvenile fiction, Dinosaurs Juvenile fiction, Imagination Juvenile fiction, Dogs Fiction&apos;,\n",
       " &apos;Election districts Washington State, Apportionment Election law Washington State&apos;,\n",
       " &apos;Rock music History and criticism, Music and occultism, Mysticism in music, Music Philosophy and aesthetics&apos;,\n",
       " &apos;iMac Computer&apos;,\n",
       " &apos;Horses Juvenile fiction, Orphans Juvenile fiction, Racing Juvenile fiction&apos;,\n",
       " &apos;Tipitaka Suttapitaka Khuddakanikaya Jataka Paraphrases English, Religious life Zen Buddhism&apos;,\n",
       " &apos;Mice Juvenile fiction, Oysters Juvenile fiction, Humorous stories&apos;,\n",
       " &apos;Dalgliesh Adam Fictitious character Fiction, Large type books, Detective and mystery fiction, Short stories, Christmas fiction&apos;,\n",
       " &apos;Space and time Juvenile drama, Brothers and sisters Juvenile drama, Families Juvenile drama, Time travel Juvenile drama, Made for TV movies, Childrens television programs, Science fiction television programs, Fiction television programs, Video recordings for the hearing impaired&apos;,\n",
       " &apos;Corporate culture, Organizational effectiveness, Leadership, Customer relations&apos;,\n",
       " &apos;Great Britain Royal Navy Fleet Air Arm, Great Britain Royal Navy Aviation, Airplanes Military Great Britain&apos;,\n",
       " &apos;African American women Fiction, African American journalists Fiction, Segregation Fiction, United States Race relations 20th century Fiction, Historical fiction&apos;,\n",
       " &apos;American literature African American authors, African Americans Literary collections, Love, African American families, African Americans Attitudes&apos;,\n",
       " &apos;Popular music 2001 2010, Humorous songs, Television music&apos;,\n",
       " &apos;United States Central Intelligence Agency Drama, Intelligence officers Drama, Families Drama, Extraterrestrial beings Drama, Human alien encounters Drama, Animated television programs, Television comedies, Fiction television programs&apos;,\n",
       " &apos;Tracking and trailing Juvenile fiction, Tricks Juvenile fiction, Opossums Juvenile fiction, Muskrat Juvenile fiction, Best friends Fiction, Friendship Fiction&apos;,\n",
       " &apos;Hellboy Fictitious character from Mignola Drama, Fantasy films, Superhero films, Horror films, Feature films, Fiction films, Science fiction films, Video recordings for the hearing impaired&apos;,\n",
       " &apos;Adult education, Self culture&apos;,\n",
       " &apos;Penguin Firm History 20th century, Book covers Great Britain History 20th century&apos;,\n",
       " &apos;None&apos;,\n",
       " &apos;Gadget Inspector Fictitious character Juvenile drama, Police Juvenile drama, Implements utensils etc Juvenile drama, Comedy films, Video recordings for the hearing impaired, Fiction films, Feature films, Childrens films, Action and adventure films&apos;,\n",
       " &apos;Pacific Engineering and Production Company, Avtex Fibers Inc, Defense industries United States Management Case studies, Crisis management United States Case studies, Chemical plants Accidents Nevada Henderson, Ammonium perchlorate&apos;,\n",
       " &apos;SAT Educational test Study guides, College entrance achievement tests Study guides, Universities and colleges United States Entrance examinations Study guides&apos;,\n",
       " &apos;Magic Comic books strips etc, Schools Comic books strips etc, Fantasy comics, Graphic novels&apos;,\n",
       " &apos;Central Pacific Railroad Company&apos;,\n",
       " &apos;Newspaper editors Drama, Journalists Drama, Los Angeles Calif Drama, Television series, Fiction television programs&apos;,\n",
       " &apos;Old age Fiction, Self confidence Juvenile fiction, Human animal relationships Juvenile fiction, Dogs Juvenile fiction, Older people Juvenile fiction, Friendship Juvenile fiction&apos;,\n",
       " &apos;Cooking American, Cookbooks&apos;,\n",
       " &apos;Batman Fictitious character Juvenile fiction, Robin the Boy Wonder Fictitious character Juvenile fiction, Riddler Fictitious character Juvenile fiction, Superheroes Juvenile fiction, Supervillains Juvenile fiction&apos;,\n",
       " &apos;Women television producers and directors Fiction, Widows Fiction, Cold cases Criminal investigation Fiction, Murder Investigation Fiction, Westchester County N Y Fiction, Suspense fiction, Mystery fiction&apos;,\n",
       " &apos;Sex instruction, Sexual intercourse, Intimacy Psychology, Couples Psychology&apos;,\n",
       " &apos;Brown Marvelyn, HIV positive women Tennessee Biography&apos;,\n",
       " &apos;Religions Relations&apos;,\n",
       " &apos;Cooking Vegetables, Fermented foods, Cookbooks&apos;,\n",
       " &apos;Rock music 2001 2010, Rock music&apos;,\n",
       " &apos;Terminally ill Fiction, Older women Fiction, Iceland Fiction, Historical fiction&apos;,\n",
       " &apos;Great Britain History, Ireland History&apos;,\n",
       " &apos;Architecture Domestic Virginia Williamsburg, Architecture Colonial&apos;,\n",
       " &apos;Business enterprises China, International business enterprises China, Success in business China, China Commerce, China Economic conditions 2000&apos;,\n",
       " &apos;Childrens poetry Russian, Russian language materials&apos;,\n",
       " &apos;Bats Juvenile literature&apos;,\n",
       " &apos;Hussein Saddam 1937 2006 Imprisonment, Hussein Saddam 1937 2006 Trials litigation etc, Iraq War 2003 2011 Prisoners and prisons, Iraq War 2003 2011 Personal narratives American&apos;,\n",
       " &apos;Zombies Juvenile fiction, Parrots Juvenile fiction, Pets Juvenile fiction&apos;,\n",
       " &apos;Popular music 1961 1970&apos;,\n",
       " &apos;Piano music&apos;,\n",
       " &apos;Darwin Charles 1809 1882, Naturalists England Biography&apos;,\n",
       " &apos;Aerospace industries Washington State&apos;,\n",
       " &apos;World War 1939 1945 Germany Fiction, Man woman relationships Fiction, Historical fiction, War stories, Love stories&apos;,\n",
       " &apos;Popular music 1971 1980, Popular music 1981 1990&apos;,\n",
       " &apos;Private investigators Comic books strips etc, Students Comic books strips etc, Comics Graphic works, Graphic novels&apos;,\n",
       " &apos;Trucks Juvenile fiction, Stories in rhyme Juvenile fiction&apos;,\n",
       " &apos;Popular music 2011 2020, Rock music 2011 2020&apos;,\n",
       " &apos;Iphigenia Mythological character Fiction, Agamemnon King of Mycenae Mythological character Fiction, Trojan War Fiction, Greece History To 146 B C Fiction, Historical fiction, Humorous fiction, Fantasy fiction&apos;,\n",
       " &apos;Archaeology and history Colorado Congresses, Forest management Colorado San Juan National Forest Congresses, Pueblo architecture Southwest New Congresses, Chimney Rock Archuleta County Colo Antiquities Congresses, Chaco Canyon N M Antiquities Congresses&apos;,\n",
       " &apos;Iraq War 2003 2011, Reconstruction 1939 1951 Japan, Reconstruction 1939 1951 Germany, Iraq Politics and government 1991 2003, Iraq Politics and government 2003, Afghanistan Politics and government 2001&apos;,\n",
       " &apos;Women travelers Fiction, Orcas Island Wash Fiction&apos;,\n",
       " &apos;Washington Booker T 1856 1915 Juvenile literature, African Americans Biography Juvenile literature, Educators United States Biography Juvenile literature, Washington Booker T 1856 1915, African Americans Biography, Educators, Biographies&apos;,\n",
       " &apos;Spenser Fictitious character Fiction, Private investigators Massachusetts Boston Fiction, Sentences Criminal procedure Massachusetts Fiction, Judicial corruption Massachusetts Fiction, Corporations Corrupt practices Fiction, Corrections Contracting out Fiction, Mystery fiction&apos;,\n",
       " &apos;Haiti Earthquake Haiti 2010 Juvenile fiction, Earthquakes Haiti Juvenile fiction, Imagination Fiction, Play Fiction, Haiti Juvenile fiction&apos;,\n",
       " &apos;Pickett Joe Fictitious character Fiction, Game wardens Wyoming Fiction, Missing persons Investigation Fiction, Wyoming Fiction, Thrillers Fiction, Detective and mystery fiction&apos;,\n",
       " &apos;Poets Fiction, Refugees Sweden G”teborg Fiction, Women immigrants Africa Fiction, Writers workshops Sweden G”teborg Fiction, Sweden Emigration and immigration Fiction, G”teborg Sweden Fiction&apos;,\n",
       " &apos;Bandaranaike family, Sri Lanka Politics and government&apos;,\n",
       " &apos;Transgender people, Gender identity, Documentary films, Nonfiction films, Video recordings for the hearing impaired&apos;,\n",
       " &apos;Fathers and daughters Juvenile fiction, Kings queens rulers etc Fiction, Castaways Juvenile fiction, Sicily Italy Juvenile fiction&apos;,\n",
       " &apos;Jesuits History&apos;,\n",
       " &apos;None&apos;,\n",
       " &apos;Green Ryan Speedo, Bass baritones United States Biography, African American singers Biography&apos;,\n",
       " &apos;Police administration&apos;,\n",
       " &apos;Rock music 2011 2020, Rock music&apos;,\n",
       " &apos;Narwhal Comic books strips etc, Jellyfishes Comic books strips etc, Marine animals Comic books strips etc, Friendship Comic books strips etc, Cartoons and comics, Comics Graphic works, Graphic novels&apos;,\n",
       " &apos;Pigs Fiction, Fathers and daughters Juvenile fiction, Swine Juvenile fiction&apos;,\n",
       " &apos;Popular music&apos;,\n",
       " &apos;Mystery and detective stories, Accidents Juvenile fiction, Death Juvenile fiction, Hunting accidents Juvenile fiction, High school students Fiction, Hunting accidents Fiction, Teenagers Drug use Fiction, Young adult fiction, Detective and mystery fiction, Mystery fiction&apos;,\n",
       " &apos;Nursery rhymes&apos;,\n",
       " &apos;University of Oxford Alumni and alumnae Fiction, British India Fiction, Race relations Fiction, Young women Fiction, Physicians Fiction, Ethnicity Fiction, India History British occupation 1765 1947 Fiction, Historical fiction, Romance fiction&apos;,\n",
       " &apos;Inheritance and succession Fiction, Thrillers Fiction, Detective and mystery fiction&apos;,\n",
       " &apos;Gibson Truman K Truman Kella 1912 2005, Cabinet officers United States Biography, African Americans Biography, African American lawyers Biography, African American businesspeople Biography, African Americans Civil rights History 20th century, African American soldiers History 20th century, World War 1939 1945 African Americans, United States Armed Forces African Americans&apos;,\n",
       " &apos;Grief Juvenile fiction, Imagination Juvenile fiction, Courage Juvenile fiction, Friendship Juvenile fiction, Mothers and daughters Juvenile fiction, Spanish language materials&apos;,\n",
       " &apos;Pearl Jam Musical group, Rock musicians United States Biography&apos;,\n",
       " &apos;Winton Tim Homes and haunts, Authors Australian 20th century Biography, Landscapes Australia, Landscapes in literature, Australia Description and travel, Autobiographies, Travel writing&apos;,\n",
       " &apos;Popular music 2011 2020, Rock music 2011 2020&apos;,\n",
       " &apos;Cats Juvenile poetry, Nonsense verses Juvenile fiction, Cats Juvenile fiction, Hats Juvenile fiction, Fantasy, Stories in rhyme Juvenile fiction&apos;,\n",
       " &apos;Women Black France Fiction, Africans France Fiction, France Race relations 19th century Fiction&apos;,\n",
       " &apos;Popular music 2011 2020&apos;,\n",
       " &apos;Automobile racing Juvenile fiction, Automobiles Racing Juvenile fiction, Friendship Juvenile fiction, Competition Juvenile fiction&apos;,\n",
       " &apos;Grandmothers Juvenile fiction, Cooking Juvenile fiction, Spanish language materials&apos;,\n",
       " &apos;Motion pictures Production and direction, Motion picture industry&apos;,\n",
       " &apos;Photography Drama, Future The Drama, Science fiction films, Thrillers Motion pictures, Feature films, Fiction films, Video recordings for the hearing impaired&apos;,\n",
       " &apos;First loves Italy Comic books strips etc, Interpersonal relations Comic books strips etc, Life change events Comic books strips etc, Graphic novels Italy Translations into English, Graphic novels&apos;,\n",
       " &apos;Single parents Fiction, Baseball players Fiction, High school teachers Fiction, Secrecy Fiction, Thrillers Fiction&apos;,\n",
       " &apos;Mystery and detective stories, Amusement parks Juvenile fiction, Candy Juvenile fiction, Friendship Juvenile fiction&apos;,\n",
       " &apos;Ability Juvenile fiction, Magic Juvenile fiction, Birthday parties Juvenile fiction, Roller skating Juvenile fiction, Humorous stories&apos;,\n",
       " &apos;State sponsored terrorism Fiction, Totalitarianism Fiction, Book burning Fiction, Censorship Fiction, Political fiction, Satirical literature, Science fiction&apos;,\n",
       " &apos;Lighthouses Juvenile fiction, Boats and boating Juvenile fiction, Bears Juvenile fiction, Dogs Fiction, Friendship Fiction&apos;,\n",
       " &apos;None&apos;,\n",
       " &apos;Friendship Juvenile fiction, Sex role in children Juvenile fiction, Individual differences in children Juvenile fiction, Sex role Fiction, Individual differences Juvenile fiction, Picture books for children&apos;,\n",
       " &apos;Lion Juvenile fiction, Zoos Juvenile fiction, Human animal communication Juvenile fiction&apos;,\n",
       " &apos;Japan Guidebooks&apos;,\n",
       " &apos;Hemingway Ernest 1899 1961, Authors American 20th century Biography, Spies United States Biography, Espionage American History 20th century, Espionage Soviet History&apos;,\n",
       " &apos;None&apos;,\n",
       " &apos;Fairmont automobile Maintenance and repair Handbooks manuals etc, Mercury Cougar automobile Maintenance and repair Handbooks manuals etc, Thunderbird automobile Maintenance and repair Handbooks manuals etc, Ford Zephyr automobile Maintenance and repair Handbooks manuals etc&apos;,\n",
       " &apos;Encyclopedias and dictionaries History and criticism&apos;,\n",
       " &apos;Summer Juvenile drama, Hares Juvenile drama, Television series, Childrens television programs, Animated television programs, Fiction television programs&apos;,\n",
       " &apos;Authors Relations with women, Authors Relations with men, Artists Relations with women, Artists Relations with men&apos;,\n",
       " &apos;Young women Fiction, Women college graduates Fiction, Self mutilation Fiction, Self acceptance Fiction, Self actualization Psychology Fiction, England Fiction, Belfast Northern Ireland Fiction, Psychological fiction&apos;,\n",
       " &apos;Applegate Partnership Case studies, Community forestry Oregon Applegate River Watershed Case studies, Conservation of natural resources Oregon Applegate River Watershed Case studies&apos;,\n",
       " &apos;None&apos;,\n",
       " &apos;Magicians Fiction, Mystery fiction&apos;,\n",
       " &apos;Warthog Juvenile fiction, Komodo dragon Juvenile fiction, Lizards Juvenile fiction&apos;,\n",
       " &apos;Married people Drama, Padua Italy Drama, Filmed performances, Made for TV movies, Television comedies, Fiction television programs&apos;,\n",
       " &apos;Boxcar children Fictitious characters Juvenile fiction, Guide dogs Juvenile fiction, Dogs Training Juvenile fiction, Brothers and sisters Juvenile fiction, Orphans Juvenile fiction, Mystery and detective stories&apos;,\n",
       " &apos;Good and evil Comic books strips etc, Horror comics, Graphic novels&apos;,\n",
       " &apos;Bennett Michael Fictitious character Fiction, Assassins Fiction, Large type books, Suspense fiction&apos;,\n",
       " &apos;Samurai Comic books strips etc, Robots Comic books strips etc, Zombies Comic books strips etc, Extraterrestrial beings Comic books strips etc, Good and evil Comic books strips etc, Horror comics, Steampunk comics, Graphic novels&apos;,\n",
       " &apos;Influence Psychology Religious aspects Christianity, Persuasion Psychology, Communication Religious aspects Christianity, Persuasion Rhetoric&apos;,\n",
       " &apos;Americans England Fiction, Aristocracy Social class Fiction, Man woman relationships Fiction, London England 19th century Fiction, England 19th century Fiction, Romance fiction, Historical fiction&apos;,\n",
       " &apos;Deaf women Fiction, Man woman relationships Fiction, Large type books, Romantic suspense fiction, Love stories, Historical fiction&apos;,\n",
       " &apos;Frogs Life cycles Juvenile literature, Frogs Metamorphosis Juvenile literature, Tadpoles Juvenile literature, Frogs Juvenile literature, Life cycles Biology Juvenile literature&apos;,\n",
       " &apos;College students Drama, Social media Drama, Supernatural Drama, Murder Drama, Feature films, Horror films, Fiction films, Video recordings for the hearing impaired&apos;,\n",
       " &apos;Garden Nancy Interviews Juvenile fiction, Lesbians Juvenile fiction, Teenage girls Juvenile fiction, Teachers Juvenile fiction, First loves Juvenile fiction, Prejudices Juvenile fiction, Discrimination Juvenile fiction, Schools Fiction, New York N Y Fiction&apos;,\n",
       " &apos;Comedy sketches, Stand up comedy&apos;,\n",
       " &apos;Raj Rupert 1952, Female to male transsexuals Canada Biography, Transgender people History, Intersex people History, Two spirit people History, Environmentalists Canada Biography, Animal rights activists Canada Biography, Autobiographies&apos;,\n",
       " &apos;Kings and rulers Biography, Despotism&apos;,\n",
       " &apos;Women politicians United States, Women Political activity United States, United States Politics and government 1989&apos;,\n",
       " &apos;Motion picture music, Rock music 1991 2000&apos;,\n",
       " &apos;Television programs Fiction, Television personalities Fiction, Missing persons Investigation Fiction, Cold cases Criminal investigation Fiction, Suspense fiction, Mystery fiction&apos;,\n",
       " &apos;Vigeland Gustav 1869 1943&apos;,\n",
       " &apos;Artists Juvenile fiction, Signs and signboards Juvenile fiction&apos;,\n",
       " &apos;Popular music 1961 1970, Country music 1961 1970&apos;,\n",
       " &apos;Chinese fiction 21st century, Short stories Chinese&apos;,\n",
       " &apos;Hiking Columbia River Gorge Or and Wash Guidebooks, Trails Columbia River Gorge Or and Wash Maps, Waterfalls Columbia River Gorge Or and Wash Guidebooks, Natural history Columbia River Gorge National Scenic Area Or and Wash Guidebooks, Columbia River Gorge National Scenic Area Or and Wash Guidebooks&apos;,\n",
       " &apos;Shells North America Identification&apos;,\n",
       " &apos;Christmas music, Carols English&apos;,\n",
       " &apos;Great Britain Army History, Great Britain History Military&apos;,\n",
       " &apos;California Genealogical Society Periodicals, Registers of births etc California Periodicals, California Genealogy Periodicals&apos;,\n",
       "\n",
       "*** WARNING: skipped 62026 bytes of output ***\n",
       "\n",
       " &apos;Halley Edmond 1656 1742, Paramore Ship, Voyages and travels, Atlantic Ocean&apos;,\n",
       " &apos;Gardens Medieval History, Landscape gardening History&apos;,\n",
       " &apos;Teachers Juvenile fiction, Speech therapy Juvenile fiction, Radio game shows Juvenile fiction, Television game shows Juvenile fiction, Schools Fiction, Humorous stories&apos;,\n",
       " &apos;Low cholesterol diet Recipes&apos;,\n",
       " &apos;Cooking Turkish&apos;,\n",
       " &apos;English language Etymology&apos;,\n",
       " &apos;Gospel music&apos;,\n",
       " &apos;Eliot T S Thomas Stearns 1888 1965, Poets American 20th century Biography&apos;,\n",
       " &apos;Baking Juvenile literature&apos;,\n",
       " &apos;Maathai Wangari, Green Belt Movement Society Kenya, Environmentalists Kenya Biography&apos;,\n",
       " &apos;Railroad travel Drama, Virus diseases Drama, Zombies Drama, Korea South Drama, Zombie films, Horror films, Action and adventure films, Feature films, Fiction films, Motion pictures Korean&apos;,\n",
       " &apos;Hospitals Washington State Directories&apos;,\n",
       " &apos;Water in art, Watercolor painting Technique, Landscape painting Technique&apos;,\n",
       " &apos;Classical dictionaries&apos;,\n",
       " &apos;Positive psychology, Experience, Audiobooks&apos;,\n",
       " &apos;Marital violence Fiction, Wife abuse Fiction, Thrillers Fiction, Psychological fiction, Domestic fiction&apos;,\n",
       " &apos;Families Juvenile literature&apos;,\n",
       " &apos;Halbreich Betty 1927, Image consultants United States Biography, Clothing and dress, Fashion, Beauty Personal&apos;,\n",
       " &apos;Beavers Juvenile fiction&apos;,\n",
       " &apos;Cuchulain Legendary character, Heroes Ulster Northern Ireland and Ireland Legends, Mythology Celtic Ulster Northern Ireland and Ireland, Folklore Ulster Northern Ireland and Ireland, Tales Ireland&apos;,\n",
       " &apos;Abandoned children Juvenile fiction, Sisters Juvenile fiction, Vacations Juvenile fiction, Birthdays Juvenile fiction, Humorous stories&apos;,\n",
       " &apos;Clothing and dress Comic books strips etc Juvenile literature, Mice Comic books strips etc, Cartoons and comics, Graphic novels&apos;,\n",
       " &apos;Schickel Richard, Film critics United States Biography, Motion pictures United States, World War 1939 1945 Motion pictures and the war&apos;,\n",
       " &apos;Bee culture Dictionaries&apos;,\n",
       " &apos;None&apos;,\n",
       " &apos;None&apos;,\n",
       " &apos;Children of criminals Juvenile drama, Social pressure Juvenile drama, Preparatory schools Juvenile drama, Teenagers Juvenile drama, Disney characters Juvenile drama, Made for TV movies, Childrens television programs, Fantasy television programs, Television musicals, Fiction television programs, Video recordings for the hearing impaired&apos;,\n",
       " &apos;Cold War, World politics 1945 1989, United States Foreign relations 1945 1989, United States Foreign relations 1989, United States Foreign relations 1933 1945&apos;,\n",
       " &apos;Origami Juvenile poetry, Animals Juvenile poetry, Childrens poetry American Juvenile literature, American poetry Juvenile literature&apos;,\n",
       " &apos;Taxation Missouri Registers, Missouri Genealogy&apos;,\n",
       " &apos;Substance abuse Washington State Thurston County Statistics, Substance abuse Treatment Washington State Thurston County Statistics&apos;,\n",
       " &apos;Young men Fiction, Loss Psychology Fiction, Artists Fiction, Self realization Fiction, Large type books, New York N Y Fiction, Bildungsromans, Suspense fiction&apos;,\n",
       " &apos;Carjacking Drama, Traffic accidents Drama, Revenge Drama, Crime United States Drama, Anarchism Drama, Feature films, Fiction films, Horror films, Action and adventure films, Thrillers Motion pictures, Video recordings for the hearing impaired&apos;,\n",
       " &apos;Origami Periodicals&apos;,\n",
       " &apos;Weaving&apos;,\n",
       " &apos;Mutiny Fiction, Justice Fiction, Inheritance and succession Fiction, Science fiction, Adventure fiction&apos;,\n",
       " &apos;Earth Planet Juvenile literature, Earth sciences Juvenile literature&apos;,\n",
       " &apos;Lawrence Jacob 1917 2000 Catalogues raisonn‚s&apos;,\n",
       " &apos;Undercover operations Fiction, Suspense fiction, Spy stories&apos;,\n",
       " &apos;Blind Crimes against Drama, Home invasion Drama, Burglary Drama, Thieves Drama, Feature films, Horror films, Thrillers Motion pictures, Fiction films, Video recordings for the hearing impaired, Video recordings for people with visual disabilities&apos;,\n",
       " &apos;Bonnice Libby Juvenile literature, Friendship Juvenile literature, Swine Juvenile literature, Human animal relationships Juvenile literature, Pigs&apos;,\n",
       " &apos;Popular music Israel 2011 2020, Songs Arabic Israel, Folk songs Arabic Yemen Republic&apos;,\n",
       " &apos;Picture dictionaries Japanese, Picture dictionaries English, Japanese language Dictionaries English, English language Dictionaries Japanese&apos;,\n",
       " &apos;Love stories&apos;,\n",
       " &apos;Birds Juvenile literature, Birds Behavior Juvenile literature, Birds Migration Juvenile literature&apos;,\n",
       " &apos;Knots and splices&apos;,\n",
       " &apos;Fairies Juvenile fiction, Hedgehogs Juvenile fiction, Forest animals Juvenile fiction, Christmas stories, Christmas Fiction&apos;,\n",
       " &apos;Wolves Juvenile fiction, Leaves Juvenile fiction, Friendship Fiction&apos;,\n",
       " &apos;College students Drama, Slave traders Drama, Teachers Drama, England Drama, Television mini series, Fiction television programs, Television comedies, Video recordings for the hearing impaired&apos;,\n",
       " &apos;Police Italy Fiction, Detective and mystery fiction&apos;,\n",
       " &apos;World War 1939 1945 Campaigns France Normandy, World War 1939 1945 Amphibious operations, United States History Military&apos;,\n",
       " &apos;Grapes Varieties, Grapes History, Viticulture, Wine and wine making History&apos;,\n",
       " &apos;Fancy Nancy Fictitious character Juvenile fiction, Leaves Juvenile fiction, Autumn Juvenile fiction&apos;,\n",
       " &apos;Retirees Drama, Retirement communities England Drama, Eccentrics and eccentricities England Drama, Marriage proposals Drama, Television comedies, Video recordings for the hearing impaired, Television series, Fiction television programs&apos;,\n",
       " &apos;Lincoln Abraham 1809 1865 Relations with Jews, Jews United States History 19th century, United States History Civil War 1861 1865 Jews&apos;,\n",
       " &apos;Earthworms Juvenile literature&apos;,\n",
       " &apos;Blender Computer file, Computer animation, Three dimensional display systems, Computer graphics&apos;,\n",
       " &apos;Fear Juvenile fiction, Self confidence Juvenile fiction, Death Juvenile fiction, Grandfathers Juvenile fiction, Chinese Americans Juvenile fiction, Concord Mass Juvenile fiction&apos;,\n",
       " &apos;West U S Poetry, West U S Description and travel Poetry&apos;,\n",
       " &apos;None&apos;,\n",
       " &apos;Postpartum depression Fiction, Motherhood Fiction, Women executives Fiction, Domestic fiction, Thrillers Fiction&apos;,\n",
       " &apos;Shakespeare William 1564 1616 Dramatic production, Shakespeare William 1564 1616 Characters, Shakespeare William 1564 1616 Criticism and interpretation, Poets 16th century Criticism and interpretation, Dramatists 16th century Criticism and interpretation&apos;,\n",
       " &apos;Quietude Juvenile fiction, Christmas Fiction, Animals Fiction&apos;,\n",
       " &apos;Visual training, Orthoptics, Visual perception, Optical illusions&apos;,\n",
       " &apos;Hardy Boys Fictitious characters Juvenile fiction, Skateboarding Competitions Juvenile fiction, Cats Juvenile fiction, Brothers Juvenile fiction, Mystery and detective stories&apos;,\n",
       " &apos;Bluebirds Juvenile fiction, Friendship Juvenile fiction, Stories without words Juvenile fiction&apos;,\n",
       " &apos;Poirot Hercule Fictitious character Fiction, Private investigators Egypt Fiction, Belgians Egypt Fiction, Egypt Fiction, Mystery fiction&apos;,\n",
       " &apos;Women civil rights workers United States Biography, Women White United States Biography, African Americans Civil rights History 20th century, Civil rights movements United States History 20th century, United States Race relations, Southern States Race relations&apos;,\n",
       " &apos;Fruit Juvenile fiction, Vegetables Juvenile fiction, Colors Juvenile fiction, Color Fiction&apos;,\n",
       " &apos;Rocketry History, Astronautics History&apos;,\n",
       " &apos;Inventors Juvenile fiction, Robots Juvenile fiction, Humorous stories, Science fiction&apos;,\n",
       " &apos;Food relief Government policy United States, Nutrition policy United States&apos;,\n",
       " &apos;Glassworkers Fiction, Glass blowing and working Fiction, Horse racing Fiction, England Fiction, Mystery fiction&apos;,\n",
       " &apos;Petroleum industry and trade Social aspects North Dakota Williston, Williston N D Economic conditions 21st century, Williston N D Social conditions 21st century, Williston N D Civilization 21st century&apos;,\n",
       " &apos;Art Renaissance, Art German, Art Italian, Art Psychology&apos;,\n",
       " &apos;Miniature painters Fiction, Merchants Fiction, Young women Fiction, Amsterdam Netherlands Social life and customs 17th century Fiction, Historical fiction&apos;,\n",
       " &apos;Explorers Biography Dictionaries&apos;,\n",
       " &apos;Baggins Frodo Fiction, Middle Earth Imaginary place Fiction, Fantasy fiction, Adventure fiction, Epic fiction&apos;,\n",
       " &apos;Matisse Henri 1869 1954 Juvenile literature, Artists France Biography Juvenile literature&apos;,\n",
       " &apos;McLendon John B Juvenile literature, North Carolina College for Negroes Juvenile literature, Duke University Basketball History Juvenile literature, Basketball coaches United States Juvenile literature, African American basketball coaches Juvenile literature, Discrimination in sports United States Juvenile literature&apos;,\n",
       " &apos;None&apos;,\n",
       " &apos;Cooking Encyclopedias, Food Encyclopedias, Cooking French&apos;,\n",
       " &apos;Bayles China Fictitious character Fiction, City and town life Texas Texas Hill Country Fiction, Texas Hill Country Tex Fiction, Paranormal fiction, Detective and mystery fiction&apos;,\n",
       " &apos;Music Juvenile fiction, Mariachi musicians Juvenile fiction, Boys Mexico Juvenile fiction, City and town life Juvenile fiction, Families Juvenile fiction, Musicians Fiction, Family life Fiction, Spanish language materials&apos;,\n",
       " &apos;Gamache Armand Fictitious character Fiction, Police Qu‚bec Province Fiction, Missing persons Fiction, Large type books, Mystery fiction&apos;,\n",
       " &apos;Plastics&apos;,\n",
       " &apos;Americans England Fiction, Nobility Fiction, Regency fiction, Love stories&apos;,\n",
       " &apos;War stories, Soldiers Juvenile fiction, Survival Juvenile fiction, Wilderness survival Juvenile fiction, Orphans Juvenile fiction, Conduct of life Fiction, Genetic engineering Fiction, Science fiction Juvenile fiction&apos;,\n",
       " &apos;American literature Indian authors, Indians of North America Folklore, Nature in literature&apos;,\n",
       " &apos;Reggae music&apos;,\n",
       " &apos;Minecraft Game Juvenile fiction, Video games Juvenile fiction, Imaginary places Juvenile fiction&apos;,\n",
       " &apos;Colonists Kenya Social conditions 20th century, Kenya History 1895 1963, Kenya Social life and customs 20th century&apos;,\n",
       " &apos;House buying&apos;,\n",
       " &apos;Kahlo Frida Drama, Rivera Diego 1886 1957 Drama, Painters Drama, Mexico Drama, Feature films, Biographical films, Fiction films, Video recordings for the hearing impaired&apos;,\n",
       " &apos;Cuba Fiction, Legal stories, Suspense fiction&apos;,\n",
       " &apos;Taj Mahal Agra India Juvenile literature, Architecture Mogul Empire India Agra Juvenile literature, Illustrated childrens books, Agra India Buildings structures etc Juvenile literature&apos;,\n",
       " &apos;Love Miscellanea, Magic&apos;,\n",
       " &apos;Bible Old Testament, Audiobooks&apos;,\n",
       " &apos;Dinners and dining, Cooking&apos;,\n",
       " &apos;Hiking Cascades Or and Wash Guidebooks, Trails Cascades Or and Wash Guidebooks, Cascades Or and Wash Guidebooks&apos;,\n",
       " &apos;Popular music 2011 2020, Rock music 2011 2020&apos;,\n",
       " &apos;Visual perception, Visual literacy&apos;,\n",
       " &apos;None&apos;,\n",
       " &apos;Young men Fiction, Loss Psychology Fiction, Artists Fiction, Self realization Fiction, Large type books, New York N Y Fiction, Bildungsromans, Suspense fiction&apos;,\n",
       " &apos;Political science Early works to 1800, Utopias Early works to 1800&apos;,\n",
       " &apos;Seattle Wash Water Department Finance, Water supply Rates Washington State Seattle, Water supply Washington State Seattle&apos;,\n",
       " &apos;Dogs Fiction, Vacations Juvenile fiction&apos;,\n",
       " &apos;Stories in rhyme&apos;,\n",
       " &apos;Dogs Fiction, Pets Fiction, Death Juvenile fiction, Heaven Juvenile fiction&apos;,\n",
       " &apos;United States Emigration and immigration Economic aspects, Mexico Emigration and immigration Economic aspects, Central America Emigration and immigration Economic aspects, Caribbean Area Emigration and immigration Economic aspects&apos;,\n",
       " &apos;Sewing machines Maintenance and repair&apos;,\n",
       " &apos;Elephants Juvenile literature&apos;,\n",
       " &apos;Luciano Lucky 1897 1962 Fiction, Dewey Thomas E Thomas Edmund 1902 1971 Fiction, Trials Prostitution New York State New York Fiction, Organized crime New York State New York Fiction, New York N Y History 1898 1951 Fiction, Historical fiction, Biographical fiction&apos;,\n",
       " &apos;Journalists Correspondence, World War 1939 1945 Personal narratives American&apos;,\n",
       " &apos;Childrens poetry American Juvenile literature, American poetry Juvenile literature&apos;,\n",
       " &apos;Penguins Juvenile fiction, Parent and child Juvenile fiction, Size Fiction&apos;,\n",
       " &apos;Tomicodon, Clingfishes&apos;,\n",
       " &apos;Hermes Greek deity Comic books strips etc, Mythology Greek Comic books strips etc, Gods Greek Comic books strips etc, Cartoons and comics, Mythological comics, Comics adaptations, Graphic novels&apos;,\n",
       " &apos;Intelligence service Officials and employees Recruiting United States, Spies Recruiting United States, Universities and colleges United States, Espionage United States&apos;,\n",
       " &apos;Nigeria Fiction&apos;,\n",
       " &apos;Musicals Excerpts Vocal scores with piano&apos;,\n",
       " &apos;Rossellini Roberto 1906 1977 Criticism and interpretation&apos;,\n",
       " &apos;McMinnville Or&apos;,\n",
       " &apos;Amish Delaware Fiction, Widows Fiction, Mothers and daughters Fiction, Women teachers Fiction, Courtship Fiction, Large type books, Delaware Fiction, Love stories, Christian fiction&apos;,\n",
       " &apos;Knight Philip H 1938, Nike Firm, Businesspeople United States Biography, Sporting goods industry United States History&apos;,\n",
       " &apos;Women detectives Fiction, Policewomen Fiction, Atlanta Ga Fiction, Detective and mystery fiction&apos;,\n",
       " &apos;Self Juvenile poetry, Childrens poetry American Juvenile fiction, American poetry Juvenile fiction&apos;,\n",
       " &apos;Natural foods Therapeutic use, Nutrition, Quick and easy cooking, Cooking Natural foods, Self care Health, Cookbooks&apos;,\n",
       " &apos;Explosives&apos;,\n",
       " &apos;National holidays, Holidays United States Periodicals, Holidays Periodicals, Almanacs as Topic&apos;,\n",
       " &apos;Colony collapse disorder of honeybees Juvenile literature, Bee culture Juvenile literature, Honeybee Juvenile literature&apos;,\n",
       " &apos;Social sciences Examinations questions etc, GED tests Study guides&apos;,\n",
       " &apos;Refuse collection vehicles Juvenile fiction, Trucks Juvenile fiction, Snow removal Juvenile fiction, Heroes Juvenile fiction&apos;,\n",
       " &apos;Man woman relationships Fiction, Divorced women Fiction, Dating Social customs Fiction, Dog owners Fiction, Love stories&apos;,\n",
       " &apos;American literature African American authors&apos;,\n",
       " &apos;September 11 Terrorist Attacks 2001 Juvenile fiction, Friendship Juvenile fiction, Memory Fiction, Young adult fiction, New York N Y Juvenile fiction&apos;,\n",
       " &apos;School libraries, Libraries and state&apos;,\n",
       " &apos;Refuse and refuse disposal Fiction&apos;,\n",
       " &apos;Photography of cats, Felidae in art, Endangered species in art&apos;,\n",
       " &apos;Marriage Poetry, American poetry 21st century&apos;,\n",
       " &apos;Crime Drama, Police Drama, Fiction television programs, Television series, Television cop shows, Feature films, Video recordings for the hearing impaired&apos;,\n",
       " &apos;Lowe Rob, Motion picture actors and actresses United States Biography, Television actors and actresses United States Biography&apos;,\n",
       " &apos;Rural families Fiction, Triangles Interpersonal relations Fiction, Foundlings Fiction, Rejection Psychology Fiction, Great Britain History 19th century Fiction, Yorkshire England Fiction, Love stories, Psychological fiction&apos;,\n",
       " &apos;Costume Juvenile fiction, Penguins Juvenile fiction, Gay fathers Juvenile fiction, City and town life Juvenile fiction&apos;,\n",
       " &apos;Boxcar children Fictitious characters Juvenile fiction, Brothers and sisters Juvenile fiction, Burglary Juvenile fiction, Orphans Juvenile fiction, Mystery and detective stories, Mystery fiction&apos;,\n",
       " &apos;Vacations Juvenile fiction, Dogs Fiction&apos;,\n",
       " &apos;Teenage girls Comic books strips etc, Women heroes Comic books strips etc, Superheroes Comic books strips etc, Magic Comic books strips etc, Good and evil Comic books strips etc, Graphic novels, Superhero comic books strips etc&apos;,\n",
       " &apos;Ranch houses West U S, Interior decoration West U S&apos;,\n",
       " &apos;Snow Juvenile fiction, Friendship Juvenile fiction&apos;,\n",
       " &apos;New York N Y Description and travel Juvenile literature, New York N Y Pictorial works Juvenile literature, New York N Y Pictorial works&apos;,\n",
       " &apos;Short stories&apos;,\n",
       " &apos;Private planes, Aeronautics and state United States&apos;,\n",
       " &apos;Bakers and bakeries Fiction, Bands Music Juvenile fiction, Singers Juvenile fiction, Bakers Juvenile fiction, Friendship Juvenile fiction&apos;,\n",
       " &apos;National characteristics American Fiction, Spiritual warfare Fiction, Ex convicts Fiction, Bodyguards Fiction, Widowers Fiction, Fantasy fiction&apos;,\n",
       " &apos;Publix Super Markets&apos;,\n",
       " &apos;Motion pictures, Motion pictures Anecdotes&apos;,\n",
       " &apos;Childrens stories Vietnamese, Vietnamese language materials, Short stories&apos;,\n",
       " &apos;Radio Repairing&apos;,\n",
       " &apos;Health, Physical fitness, Nutrition, Self care Health&apos;,\n",
       " &apos;Ellsworth Robert Hatfield 1929 2014 Art collections Catalogs, Metropolitan Museum of Art New York N Y Catalogs, Painting Chinese 20th century Catalogs, Painting Chinese Ming Qing dynasties 1368 1912 Catalogs, Painting New York State New York Catalogs&apos;,\n",
       " &apos;Friendship Fiction, Birds Fiction, Bears Juvenile fiction, Death Juvenile fiction&apos;,\n",
       " &apos;Choruses Sacred Mixed voices with orchestra Scores, Magnificat Music&apos;,\n",
       " &apos;Women Suffrage United States History Juvenile literature, Womens rights United States History Juvenile literature, Suffragists United States History Juvenile literature, Women Suffrage Study and teaching Activity programs United States Juvenile literature, Womens rights Study and teaching Activity programs United States Juvenile literature, Suffragists Juvenile literature, Womens rights History Juvenile literature, Womens rights Study and teaching Juvenile literature, United States History Juvenile literature&apos;,\n",
       " &apos;Juvenile delinquency United States Statistics&apos;,\n",
       " &apos;Monkeys Folklore Juvenile literature, Animals Folklore Juvenile literature, Folklore China Juvenile literature&apos;,\n",
       " &apos;Traffic accidents Economic aspects United States, Traffic accidents United States Costs&apos;,\n",
       " &apos;Bebergal Peter, Bebergal Peter Religion, Drug addicts United States Biography, Drug addicts Family relationships&apos;,\n",
       " &apos;Friendship Fiction, Divorce Fiction, Man woman relationships Fiction&apos;,\n",
       " &apos;United States Army Parachute Infantry Battalion 555th History Juvenile literature, United States Army African American troops History 20th century Juvenile literature, United States Army Parachute troops History 20th century Juvenile literature, United States Army African American troops History Juvenile literature, United States Army Parachute troops Juvenile literature, World War 1939 1945 Regimental histories United States Juvenile literature, World War 1939 1945 Participation African American Juvenile literature, World War 1939 1945 Campaigns Western Front Juvenile literature, African American soldiers History 20th century Juvenile literature, African Americans Social conditions To 1964 Juvenile literature, Race discrimination United States Juvenile literature, African American soldiers History Juvenile literature, African Americans Social conditions Juvenile literature, Race discrimination Juvenile literature&apos;,\n",
       " &apos;Swine Comic books strips etc, American wit and humor Pictorial, Comic books strips etc&apos;,\n",
       " &apos;Man woman relationships Fiction, Love stories, Historical fiction&apos;,\n",
       " &apos;Jackson Hal, Radio broadcasters United States Biography, African American radio broadcasters Biography&apos;,\n",
       " &apos;Climatic changes, Global warming, Human beings Effect of climate on, Natural disasters Social aspects, Documentary films, Environmental films, Educational films, Nonfiction films, Video recordings for the hearing impaired&apos;,\n",
       " &apos;Herrington John B John Bennett 1958 Juvenile literature, Chickasaw Indians Biography Juvenile literature, Astronauts United States Juvenile literature, Space flight Juvenile literature, Astronauts, Chickasaw Indians&apos;,\n",
       " &apos;Divorced women Fiction, Irish American families Fiction, Dating Social customs Fiction, Dog owners Fiction, Personals Fiction, Massachusetts Fiction, Love stories, Humorous fiction&apos;,\n",
       " &apos;Frontier and pioneer life Alaska Fiction, Large type books, Alaska Fiction, Western stories&apos;,\n",
       " &apos;Cooking Asian, Cooking Chinese, Cookbooks&apos;,\n",
       " &apos;Superman Philosophical concept Drama, Smallville Kan Imaginary place Drama, Teenage boys Drama, Superhero television programs, Fiction television programs, Television series, Video recordings for the hearing impaired&apos;,\n",
       " &apos;Catholic Church Juvenile literature&apos;,\n",
       " &apos;Korda Alberto 1928 2001 Guerillero her¢ico Juvenile literature, Guevara Che 1928 1967 Portraits Juvenile literature, Guevara Che 1928 1967 Influence Juvenile literature, Guevara Che 1928 1967 In mass media Juvenile literature, Guerrillas Latin America Biography Juvenile literature, Cuba History 1959 1990 Juvenile literature&apos;,\n",
       " &apos;PaintShop Pro&apos;,\n",
       " &apos;Orphans Juvenile fiction, Spirits Juvenile fiction, Friendship Juvenile fiction, Animals Juvenile fiction, Fantasy, Portland Or Juvenile fiction&apos;,\n",
       " &apos;Barbie Fictitious character Juvenile fiction, Mermaids Juvenile fiction, Mothers and daughters Juvenile fiction, Friendship Juvenile fiction, Magic Juvenile fiction, Childrens stories American Specimens, Vietnamese language materials&apos;,\n",
       " &apos;Casati Stampa Luisa 1881 1957 Homes and haunts Italy Venice, Delevingne Doris Homes and haunts Italy Venice, Guggenheim Peggy 1898 1979 Homes and haunts Italy Venice, Palazzo Venier dei Leoni Venice Italy, Upper class women Italy Venice Biography, Palaces Italy Venice History, Venice Italy Social life and customs 20th century, Biographies&apos;,\n",
       " &apos;Tuberculosis United States History&apos;,\n",
       " &apos;Science Juvenile films, Multiplication Juvenile films, Money Juvenile films, English language Grammar Juvenile films, United States History Juvenile films, Animated films, Childrens films, Video recordings for the hearing impaired&apos;,\n",
       " &apos;Race awareness Juvenile poetry, Race relations Juvenile poetry, Friendship Juvenile poetry, Poetry, Didactic poetry&apos;,\n",
       " &apos;Keats John 1795 1821 Criticism and interpretation, Poetics&apos;,\n",
       " &apos;Finance Personal, Investments, Portfolio management&apos;,\n",
       " &apos;Blizzards Dakota Territory History 19th century Juvenile fiction, Pioneer children Dakota Territory Juvenile fiction, Survival Dakota Territory Juvenile fiction, Dakota Territory History Juvenile fiction, Frontier and pioneer life Dakota Territory Juvenile fiction&apos;,\n",
       " &apos;Mountains Juvenile literature, Mountains&apos;,\n",
       " &apos;Technology Dictionaries German, Science Dictionaries German, German language Dictionaries English&apos;,\n",
       " &apos;Schools Comic books strips etc, Vampires Comic books strips etc, Werewolves Comic books strips etc Juvenile literature, Witches Comic books strips etc, Demonology Comic books strips etc, Good and evil Comic books strips etc, Horror comics, Graphic novels&apos;,\n",
       " &apos;None&apos;,\n",
       " &apos;Friendship Juvenile fiction, Somali Americans Juvenile fiction, Refugees Juvenile fiction, Prejudices Juvenile fiction, Maine Juvenile fiction&apos;,\n",
       " &apos;Children of the rich Fiction, Saltwater fishing Fiction, Fishing boats Fiction, Teenage boys Fiction, Rescues Fiction, Fishers Fiction, Grand Banks of Newfoundland Fiction, Bildungsromans, Sea stories&apos;,\n",
       " &apos;Twins Juvenile fiction, Sisters Juvenile fiction, Blankets Juvenile fiction, Individuality Juvenile fiction&apos;,\n",
       " &apos;Bedtime Juvenile fiction, Stories in rhyme Juvenile fiction&apos;,\n",
       " &apos;Aztecs History, Aztecs Antiquities, Aztecs Social life and customs, Mexico Antiquities&apos;,\n",
       " &apos;Names Geographical Maine&apos;,\n",
       " &apos;James Henry 1843 1916 Friends and associates, Woolson Constance Fenimore 1840 1894 Influence, James Henry 1843 1916 Family, Temple Minny Influence, Women and literature United States History, Authors American 20th century Biography, Authors American 19th century Biography, Influence Literary artistic etc, Women United States Biography, Americans Europe Biography&apos;,\n",
       " &apos;Piano music&apos;,\n",
       " &apos;Private investigators Fiction, Los Angeles Calif Fiction, Detective and mystery fiction, Thrillers Fiction&apos;,\n",
       " &apos;White House Washington D C Juvenile fiction, Mice Juvenile fiction, Brothers and sisters Juvenile fiction, Presidents Family Juvenile fiction, Humorous stories&apos;,\n",
       " &apos;Hatha yoga for children Juvenile films, Chair exercises Juvenile films, Pilates method Juvenile films, Childrens films, Instructional films, Nonfiction films&apos;,\n",
       " &apos;Jazz vocals, Jazz 2001 2010, Popular music 2001 2010&apos;,\n",
       " &apos;Library of Congress Photograph collections, Photograph albums, Documentary photography, Street photography&apos;,\n",
       " &apos;Rites and ceremonies Italy Rome, Rome Italy Social life and customs, Rome Italy Religion, Rome Italy Antiquities, Pompeii Extinct city&apos;,\n",
       " &apos;Social conflict United States History, Protest movements United States History, Income distribution United States History, Elite Social sciences United States History, Power Social sciences United States History, Acquiescence Psychology History, Social psychology United States History, United States Politics and government 1945&apos;,\n",
       " &apos;Chess End games Juvenile literature, Chess Juvenile literature&apos;,\n",
       " &apos;Boko Haram, Kidnapping victims Nigeria, Child sexual abuse, Terrorism Nigeria History, Internal security Nigeria&apos;,\n",
       " &apos;Norway History, Bergen Norway History&apos;,\n",
       " &apos;Married people Fiction, Parent and child Fiction, Loss Psychology Fiction, Nigeria Fiction, Domestic fiction, Psychological fiction&apos;,\n",
       " &apos;Baseball stories, Teamwork Sports Juvenile fiction, Competition Psychology Juvenile fiction, Baseball Fiction&apos;,\n",
       " &apos;World War 1914 1918 Drama, Great Britain History Drama, Great Britain Social life and customs Drama, Television series, Television comedies, Historical television programs, Fiction television programs, Video recordings for the hearing impaired&apos;,\n",
       " &apos;Holocaust Jewish 1939 1945 Fiction, German Americans Fiction, Fantasy fiction&apos;,\n",
       " &apos;Christmas Fiction, Family life Fiction, Santa Claus Juvenile fiction, Bloodhound Juvenile fiction, Dogs Fiction&apos;,\n",
       " ...]\n",
       "</div>"
      ]
     },
     "metadata": {},
     "output_type": "display_data"
    }
   ],
   "source": [
    "[str(i) for i in subjects]\n",
    "#subjects_c = [\"\" for line in subjects if line.strip()]"
   ]
  },
  {
   "cell_type": "code",
   "execution_count": 11,
   "metadata": {},
   "outputs": [
    {
     "data": {
      "text/html": [
       "<style scoped>\n",
       "  .ansiout {\n",
       "    display: block;\n",
       "    unicode-bidi: embed;\n",
       "    white-space: pre-wrap;\n",
       "    word-wrap: break-word;\n",
       "    word-break: break-all;\n",
       "    font-family: \"Source Code Pro\", \"Menlo\", monospace;;\n",
       "    font-size: 13px;\n",
       "    color: #555;\n",
       "    margin-left: 4px;\n",
       "    line-height: 19px;\n",
       "  }\n",
       "</style>\n",
       "<div class=\"ansiout\"></div>"
      ]
     },
     "metadata": {},
     "output_type": "display_data"
    }
   ],
   "source": [
    "def xstr(s):\n",
    "    if s is None:\n",
    "        return ''\n",
    "    return str(s)"
   ]
  },
  {
   "cell_type": "code",
   "execution_count": 12,
   "metadata": {},
   "outputs": [
    {
     "data": {
      "text/html": [
       "<style scoped>\n",
       "  .ansiout {\n",
       "    display: block;\n",
       "    unicode-bidi: embed;\n",
       "    white-space: pre-wrap;\n",
       "    word-wrap: break-word;\n",
       "    word-break: break-all;\n",
       "    font-family: \"Source Code Pro\", \"Menlo\", monospace;;\n",
       "    font-size: 13px;\n",
       "    color: #555;\n",
       "    margin-left: 4px;\n",
       "    line-height: 19px;\n",
       "  }\n",
       "</style>\n",
       "<div class=\"ansiout\"></div>"
      ]
     },
     "metadata": {},
     "output_type": "display_data"
    }
   ],
   "source": [
    "subjects_c = []\n",
    "for i in subjects:\n",
    "  subjects_c.append(xstr(i))"
   ]
  },
  {
   "cell_type": "code",
   "execution_count": 13,
   "metadata": {},
   "outputs": [
    {
     "data": {
      "text/html": [
       "<style scoped>\n",
       "  .ansiout {\n",
       "    display: block;\n",
       "    unicode-bidi: embed;\n",
       "    white-space: pre-wrap;\n",
       "    word-wrap: break-word;\n",
       "    word-break: break-all;\n",
       "    font-family: \"Source Code Pro\", \"Menlo\", monospace;;\n",
       "    font-size: 13px;\n",
       "    color: #555;\n",
       "    margin-left: 4px;\n",
       "    line-height: 19px;\n",
       "  }\n",
       "</style>\n",
       "<div class=\"ansiout\"></div>"
      ]
     },
     "metadata": {},
     "output_type": "display_data"
    }
   ],
   "source": [
    "for i in subjects_c:\n",
    "  letters_only = re.sub(\"[^a-zA-Z]\",  # Search for all non-letters\n",
    "                          \" \",          # Replace all non-letters with spaces\n",
    "                          str(i))"
   ]
  },
  {
   "cell_type": "code",
   "execution_count": 14,
   "metadata": {},
   "outputs": [
    {
     "data": {
      "text/html": [
       "<style scoped>\n",
       "  .ansiout {\n",
       "    display: block;\n",
       "    unicode-bidi: embed;\n",
       "    white-space: pre-wrap;\n",
       "    word-wrap: break-word;\n",
       "    word-break: break-all;\n",
       "    font-family: \"Source Code Pro\", \"Menlo\", monospace;;\n",
       "    font-size: 13px;\n",
       "    color: #555;\n",
       "    margin-left: 4px;\n",
       "    line-height: 19px;\n",
       "  }\n",
       "</style>\n",
       "<div class=\"ansiout\">[&apos;Harbor Island / Carla Neggers.&apos;, &apos;Veganism in an oppressive world : a vegans-of-color community project / edited by Julia Feliz Brueck.&apos;, &apos;The everything guide to comedy writing : from stand-up to sketch-- all you need to succeed in the world of comedy / Mike Bent.&apos;, &apos;Transit bus safety oversight.&apos;, &apos;The governor listeth; a book of inspired political revelations / William F. Buckley, Jr.&apos;, &apos;World War II / written by Simon Adams ; photographed by Andy Crawford.&apos;, &apos;Treasures of New York / a production of WLIW21, in association with WNET ; series executive producer, Diane Masciale ; executive in charge, John Servidio.&apos;, &apos;Victorian architecture; four studies in evaluation / by John Summerson.&apos;, &apos;In the shadow of Frankenstein : tales of the modern Prometheus / edited by Stephen Jones ; foreword by Neil Gaiman.&apos;, &apos;Marley : the dog who cried woof / based on the bestselling books by John Grogan ; text by Susan Hill ; interior illustrations by Lydia Halverson.&apos;]\n",
       "</div>"
      ]
     },
     "metadata": {},
     "output_type": "display_data"
    }
   ],
   "source": [
    "print(titles[:10])"
   ]
  },
  {
   "cell_type": "code",
   "execution_count": 15,
   "metadata": {},
   "outputs": [
    {
     "data": {
      "text/html": [
       "<style scoped>\n",
       "  .ansiout {\n",
       "    display: block;\n",
       "    unicode-bidi: embed;\n",
       "    white-space: pre-wrap;\n",
       "    word-wrap: break-word;\n",
       "    word-break: break-all;\n",
       "    font-family: \"Source Code Pro\", \"Menlo\", monospace;;\n",
       "    font-size: 13px;\n",
       "    color: #555;\n",
       "    margin-left: 4px;\n",
       "    line-height: 19px;\n",
       "  }\n",
       "</style>\n",
       "<div class=\"ansiout\">[&apos;United States Federal Bureau of Investigation Fiction, Art thefts Fiction, Murder Investigation Fiction, Man woman relationships Fiction, Maine Fiction, Boston Mass Fiction, Romantic suspense fiction&apos;, &apos;Veganism Social aspects, Animal welfare Moral and ethical aspects, Animal rights movement, Human animal relationships, Cultural awareness&apos;, &apos;Comedy Authorship, Wit and humor Authorship&apos;, &apos;&apos;, &apos;United States Politics and government 1963 1969&apos;, &apos;World War 1939 1945 Juvenile literature&apos;, &apos;New York N Y Buildings structures etc, New York N Y Description and travel, New York N Y Civilization, Documentary films, Travelogues Television programs, Nonfiction films, Video recordings for the hearing impaired&apos;, &apos;Architecture Victorian&apos;, &apos;Frankenstein Victor Fictitious character Fiction, Frankensteins Monster Fictitious character Fiction, Horror fiction, Short stories&apos;, &apos;Marley Dog Juvenile fiction, Dogs Fiction, Animal sounds Fiction&apos;]\n",
       "</div>"
      ]
     },
     "metadata": {},
     "output_type": "display_data"
    }
   ],
   "source": [
    "print(subjects_c[:10])"
   ]
  },
  {
   "cell_type": "code",
   "execution_count": 16,
   "metadata": {},
   "outputs": [
    {
     "data": {
      "text/html": [
       "<style scoped>\n",
       "  .ansiout {\n",
       "    display: block;\n",
       "    unicode-bidi: embed;\n",
       "    white-space: pre-wrap;\n",
       "    word-wrap: break-word;\n",
       "    word-break: break-all;\n",
       "    font-family: \"Source Code Pro\", \"Menlo\", monospace;;\n",
       "    font-size: 13px;\n",
       "    color: #555;\n",
       "    margin-left: 4px;\n",
       "    line-height: 19px;\n",
       "  }\n",
       "</style>\n",
       "<div class=\"ansiout\">[&apos;i&apos;, &apos;me&apos;, &apos;my&apos;, &apos;myself&apos;, &apos;we&apos;, &apos;our&apos;, &apos;ours&apos;, &apos;ourselves&apos;, &apos;you&apos;, &quot;you&apos;re&quot;]\n",
       "</div>"
      ]
     },
     "metadata": {},
     "output_type": "display_data"
    }
   ],
   "source": [
    "# load nltk's English stopwords as variable called 'stopwords'\n",
    "stopwords = nltk.corpus.stopwords.words('english')\n",
    "print(stopwords[:10])"
   ]
  },
  {
   "cell_type": "code",
   "execution_count": 17,
   "metadata": {},
   "outputs": [
    {
     "data": {
      "text/html": [
       "<style scoped>\n",
       "  .ansiout {\n",
       "    display: block;\n",
       "    unicode-bidi: embed;\n",
       "    white-space: pre-wrap;\n",
       "    word-wrap: break-word;\n",
       "    word-break: break-all;\n",
       "    font-family: \"Source Code Pro\", \"Menlo\", monospace;;\n",
       "    font-size: 13px;\n",
       "    color: #555;\n",
       "    margin-left: 4px;\n",
       "    line-height: 19px;\n",
       "  }\n",
       "</style>\n",
       "<div class=\"ansiout\"></div>"
      ]
     },
     "metadata": {},
     "output_type": "display_data"
    }
   ],
   "source": [
    "# load nltk's SnowballStemmer as variabled 'stemmer'\n",
    "from nltk.stem.snowball import SnowballStemmer\n",
    "stemmer = SnowballStemmer(\"english\")\n",
    "\n",
    "# text_clf = Pipeline([('vect', CountVectorizer()),\n",
    "#                      ('tfidf', TfidfTransformer()),\n",
    "#                      ('clf', MultinomialNB()),\n",
    "#                     ])\n"
   ]
  },
  {
   "cell_type": "code",
   "execution_count": 18,
   "metadata": {},
   "outputs": [
    {
     "data": {
      "text/html": [
       "<style scoped>\n",
       "  .ansiout {\n",
       "    display: block;\n",
       "    unicode-bidi: embed;\n",
       "    white-space: pre-wrap;\n",
       "    word-wrap: break-word;\n",
       "    word-break: break-all;\n",
       "    font-family: \"Source Code Pro\", \"Menlo\", monospace;;\n",
       "    font-size: 13px;\n",
       "    color: #555;\n",
       "    margin-left: 4px;\n",
       "    line-height: 19px;\n",
       "  }\n",
       "</style>\n",
       "<div class=\"ansiout\"></div>"
      ]
     },
     "metadata": {},
     "output_type": "display_data"
    }
   ],
   "source": [
    "# Define a tokenizer and stemmer which returns the set of stems in the text that it is passed\n",
    "\n",
    "def tokenize_and_stem(text):\n",
    "    # first tokenize by sentence, then by word to ensure that punctuation is caught as it's own token\n",
    "    tokens = [word for sent in nltk.sent_tokenize(text) for word in nltk.word_tokenize(sent)]\n",
    "    filtered_tokens = []\n",
    "    # filter out any tokens not containing letters (e.g., numeric tokens, raw punctuation)\n",
    "    for token in tokens:\n",
    "        if re.search('[a-zA-Z]', token):\n",
    "            filtered_tokens.append(token)\n",
    "    stems = [stemmer.stem(t) for t in filtered_tokens]\n",
    "    return stems\n",
    "\n",
    "\n",
    "def tokenize_only(text):\n",
    "    # first tokenize by sentence, then by word to ensure that punctuation is caught as it's own token\n",
    "    tokens = [word.lower() for sent in nltk.sent_tokenize(text) for word in nltk.word_tokenize(sent)]\n",
    "    filtered_tokens = []\n",
    "    # filter out any tokens not containing letters (e.g., numeric tokens, raw punctuation)\n",
    "    for token in tokens:\n",
    "        if re.search('[a-zA-Z]', token):\n",
    "            filtered_tokens.append(token)\n",
    "    return filtered_tokens"
   ]
  },
  {
   "cell_type": "code",
   "execution_count": 19,
   "metadata": {},
   "outputs": [
    {
     "data": {
      "text/html": [
       "<style scoped>\n",
       "  .ansiout {\n",
       "    display: block;\n",
       "    unicode-bidi: embed;\n",
       "    white-space: pre-wrap;\n",
       "    word-wrap: break-word;\n",
       "    word-break: break-all;\n",
       "    font-family: \"Source Code Pro\", \"Menlo\", monospace;;\n",
       "    font-size: 13px;\n",
       "    color: #555;\n",
       "    margin-left: 4px;\n",
       "    line-height: 19px;\n",
       "  }\n",
       "</style>\n",
       "<div class=\"ansiout\"></div>"
      ]
     },
     "metadata": {},
     "output_type": "display_data"
    }
   ],
   "source": [
    "#use extend so it's a big flat list of vocab\n",
    "totalvocab_stemmed = []\n",
    "totalvocab_tokenized = []\n",
    "for i in subjects_c:\n",
    "    allwords_stemmed = tokenize_and_stem(str(i)) #for each item in 'synopses', tokenize/stem\n",
    "    totalvocab_stemmed.extend(allwords_stemmed) #extend the 'totalvocab_stemmed' list\n",
    "    \n",
    "    allwords_tokenized = tokenize_only(str(i))\n",
    "    totalvocab_tokenized.extend(allwords_tokenized)"
   ]
  },
  {
   "cell_type": "code",
   "execution_count": 20,
   "metadata": {},
   "outputs": [
    {
     "data": {
      "text/html": [
       "<style scoped>\n",
       "  .ansiout {\n",
       "    display: block;\n",
       "    unicode-bidi: embed;\n",
       "    white-space: pre-wrap;\n",
       "    word-wrap: break-word;\n",
       "    word-break: break-all;\n",
       "    font-family: \"Source Code Pro\", \"Menlo\", monospace;;\n",
       "    font-size: 13px;\n",
       "    color: #555;\n",
       "    margin-left: 4px;\n",
       "    line-height: 19px;\n",
       "  }\n",
       "</style>\n",
       "<div class=\"ansiout\">there are 1363669 items in vocab_frame\n",
       "</div>"
      ]
     },
     "metadata": {},
     "output_type": "display_data"
    }
   ],
   "source": [
    "vocab_frame = pd.DataFrame({'words': totalvocab_tokenized}, index = totalvocab_stemmed)\n",
    "print('there are ' + str(vocab_frame.shape[0]) + ' items in vocab_frame')"
   ]
  },
  {
   "cell_type": "code",
   "execution_count": 21,
   "metadata": {},
   "outputs": [
    {
     "data": {
      "text/html": [
       "<style scoped>\n",
       "  .ansiout {\n",
       "    display: block;\n",
       "    unicode-bidi: embed;\n",
       "    white-space: pre-wrap;\n",
       "    word-wrap: break-word;\n",
       "    word-break: break-all;\n",
       "    font-family: \"Source Code Pro\", \"Menlo\", monospace;;\n",
       "    font-size: 13px;\n",
       "    color: #555;\n",
       "    margin-left: 4px;\n",
       "    line-height: 19px;\n",
       "  }\n",
       "</style>\n",
       "<div class=\"ansiout\">          words\n",
       "unit     united\n",
       "state    states\n",
       "feder   federal\n",
       "bureau   bureau\n",
       "of           of\n",
       "</div>"
      ]
     },
     "metadata": {},
     "output_type": "display_data"
    }
   ],
   "source": [
    "print(vocab_frame.head())"
   ]
  },
  {
   "cell_type": "code",
   "execution_count": 22,
   "metadata": {},
   "outputs": [
    {
     "data": {
      "text/html": [
       "<style scoped>\n",
       "  .ansiout {\n",
       "    display: block;\n",
       "    unicode-bidi: embed;\n",
       "    white-space: pre-wrap;\n",
       "    word-wrap: break-word;\n",
       "    word-break: break-all;\n",
       "    font-family: \"Source Code Pro\", \"Menlo\", monospace;;\n",
       "    font-size: 13px;\n",
       "    color: #555;\n",
       "    margin-left: 4px;\n",
       "    line-height: 19px;\n",
       "  }\n",
       "</style>\n",
       "<div class=\"ansiout\">CPU times: user 53.3 s, sys: 1.06 s, total: 54.3 s\n",
       "Wall time: 54.5 s\n",
       "(100001, 20000)\n",
       "</div>"
      ]
     },
     "metadata": {},
     "output_type": "display_data"
    }
   ],
   "source": [
    "from sklearn.feature_extraction.text import TfidfVectorizer\n",
    "\n",
    "#define vectorizer parameters\n",
    "tfidf_vectorizer = TfidfVectorizer(max_df=0.8, max_features=20000,\n",
    "                                 min_df=5, stop_words='english',\n",
    "                                 use_idf=True, tokenizer=tokenize_and_stem, ngram_range=(1,3))\n",
    "\n",
    "%time tfidf_matrix = tfidf_vectorizer.fit_transform(subjects_c) #fit the vectorizer to synopses\n",
    "\n",
    "print(tfidf_matrix.shape)"
   ]
  },
  {
   "cell_type": "code",
   "execution_count": 23,
   "metadata": {},
   "outputs": [
    {
     "data": {
      "text/html": [
       "<style scoped>\n",
       "  .ansiout {\n",
       "    display: block;\n",
       "    unicode-bidi: embed;\n",
       "    white-space: pre-wrap;\n",
       "    word-wrap: break-word;\n",
       "    word-break: break-all;\n",
       "    font-family: \"Source Code Pro\", \"Menlo\", monospace;;\n",
       "    font-size: 13px;\n",
       "    color: #555;\n",
       "    margin-left: 4px;\n",
       "    line-height: 19px;\n",
       "  }\n",
       "</style>\n",
       "<div class=\"ansiout\">[&apos;10th&apos;, &apos;15th&apos;, &apos;15th centuri&apos;, &apos;16th&apos;, &apos;16th centuri&apos;, &apos;16th centuri fiction&apos;, &apos;16th centuri juvenil&apos;, &apos;17th&apos;, &apos;17th centuri&apos;, &apos;17th centuri fiction&apos;, &apos;17th centuri juvenil&apos;, &apos;18th&apos;, &apos;18th centuri&apos;, &apos;18th centuri fiction&apos;, &apos;18th centuri histori&apos;, &apos;18th centuri juvenil&apos;, &apos;19th&apos;, &apos;19th centuri&apos;, &apos;19th centuri biographi&apos;, &apos;19th centuri comic&apos;, &apos;19th centuri drama&apos;, &apos;19th centuri exhibit&apos;, &apos;19th centuri fiction&apos;, &apos;19th centuri histori&apos;, &apos;19th centuri juvenil&apos;, &apos;19th centuri unit&apos;, &apos;1st&apos;, &apos;20th&apos;, &apos;20th centuri&apos;, &apos;20th centuri african&apos;, &apos;20th centuri american&apos;, &apos;20th centuri anecdot&apos;, &apos;20th centuri bio&apos;, &apos;20th centuri biographi&apos;, &apos;20th centuri catalog&apos;, &apos;20th centuri civil&apos;, &apos;20th centuri comic&apos;, &apos;20th centuri correspond&apos;, &apos;20th centuri dictionari&apos;, &apos;20th centuri drama&apos;, &apos;20th centuri exhibit&apos;, &apos;20th centuri famili&apos;, &apos;20th centuri fiction&apos;, &apos;20th centuri great&apos;, &apos;20th centuri histori&apos;, &apos;20th centuri interview&apos;, &apos;20th centuri juvenil&apos;, &apos;20th centuri new&apos;, &apos;20th centuri pictori&apos;, &apos;20th centuri polit&apos;, &apos;20th centuri racism&apos;, &apos;20th centuri social&apos;, &apos;20th centuri sourc&apos;, &apos;20th centuri translat&apos;, &apos;20th centuri unit&apos;, &apos;20th centuri women&apos;, &apos;20th centuri world&apos;, &apos;21st&apos;, &apos;21st centuri&apos;, &apos;21st centuri american&apos;, &apos;21st centuri biographi&apos;, &apos;21st centuri fiction&apos;, &apos;21st centuri juvenil&apos;, &apos;21st centuri poetri&apos;, &apos;21st centuri polit&apos;, &apos;21st centuri unit&apos;, &apos;2nd&apos;, &apos;aaron&apos;, &apos;abandon&apos;, &apos;abandon children&apos;, &apos;abandon children fiction&apos;, &apos;abandon children juvenil&apos;, &apos;abbey&apos;, &apos;abbi&apos;, &apos;abduct&apos;, &apos;abduct fiction&apos;, &apos;abil&apos;, &apos;abil busi&apos;, &apos;abil comic&apos;, &apos;abil comic book&apos;, &apos;abil fiction&apos;, &apos;abil juvenil&apos;, &apos;abil juvenil fiction&apos;, &apos;abnorm&apos;, &apos;abnorm human&apos;, &apos;abolitionist&apos;, &apos;abolitionist biographi&apos;, &apos;abolitionist unit&apos;, &apos;abolitionist unit state&apos;, &apos;aborigin&apos;, &apos;aborigin australian&apos;, &apos;abort&apos;, &apos;abraham&apos;, &apos;abraham juvenil&apos;, &apos;abraham juvenil literatur&apos;, &apos;abstract&apos;, &apos;abus&apos;, &apos;abus children&apos;, &apos;abus drama&apos;, &apos;abus fiction&apos;, &apos;abus juvenil&apos;, &apos;abus men&apos;, &apos;abus treatment&apos;, &apos;abus unit&apos;, &apos;abus unit state&apos;, &apos;abus victim&apos;, &apos;abus washington&apos;, &apos;abus women&apos;, &apos;abus women fiction&apos;, &apos;academ&apos;, &apos;academ achiev&apos;, &apos;academi&apos;, &apos;accept&apos;, &apos;accept fiction&apos;, &apos;accept juvenil&apos;, &apos;accept juvenil fiction&apos;, &apos;access&apos;, &apos;accessori&apos;, &apos;accid&apos;, &apos;accid drama&apos;, &apos;accid fiction&apos;, &apos;accid juvenil&apos;, &apos;accid victim&apos;, &apos;accid victim fiction&apos;, &apos;accommod&apos;, &apos;accommod fiction&apos;, &apos;account&apos;, &apos;accus&apos;, &apos;achiev&apos;, &apos;achiev test&apos;, &apos;acid&apos;, &apos;act&apos;, &apos;action&apos;, &apos;action adventur&apos;, &apos;action adventur comic&apos;, &apos;action adventur fiction&apos;, &apos;action adventur film&apos;, &apos;action adventur televis&apos;, &apos;activ&apos;, &apos;activ juvenil&apos;, &apos;activ program&apos;, &apos;activ program juvenil&apos;, &apos;activ program unit&apos;, &apos;activ seat&apos;, &apos;activ seat work&apos;, &apos;activ unit&apos;, &apos;activ unit state&apos;, &apos;activist&apos;, &apos;activist unit&apos;, &apos;activist unit state&apos;, &apos;actor&apos;, &apos;actor actress&apos;, &apos;actor actress drama&apos;, &apos;actor actress fiction&apos;, &apos;actor actress unit&apos;, &apos;actor drama&apos;, &apos;actor fiction&apos;, &apos;actor great&apos;, &apos;actor great britain&apos;, &apos;actor unit&apos;, &apos;actor unit state&apos;, &apos;actress&apos;, &apos;actress biographi&apos;, &apos;actress drama&apos;, &apos;actress fiction&apos;, &apos;actress unit&apos;, &apos;actress unit state&apos;, &apos;actual&apos;, &apos;actual psycholog&apos;, &apos;actual psycholog fiction&apos;, &apos;actual psycholog juvenil&apos;, &apos;actual psycholog self&apos;, &apos;actual psycholog women&apos;, &apos;adam&apos;, &apos;adam john&apos;, &apos;adapt&apos;, &apos;adapt comic&apos;, &apos;adapt comic book&apos;, &apos;adapt juvenil&apos;, &apos;adapt juvenil fiction&apos;, &apos;adapt juvenil literatur&apos;, &apos;addict&apos;, &apos;addict fiction&apos;, &apos;addict rehabilit&apos;, &apos;addict unit&apos;, &apos;addict unit state&apos;, &apos;addit&apos;, &apos;address&apos;, &apos;address american&apos;, &apos;adel&apos;, &apos;adjust&apos;, &apos;adjust psycholog&apos;, &apos;administr&apos;, &apos;administr agenc&apos;, &apos;administr unit&apos;, &apos;administr unit state&apos;, &apos;admiss&apos;, &apos;adob&apos;, &apos;adob photoshop&apos;, &apos;adolesc&apos;, &apos;adolesc fiction&apos;, &apos;adolesc juvenil&apos;, &apos;adolesc juvenil literatur&apos;, &apos;adolf&apos;, &apos;adopt&apos;, &apos;adopt children&apos;, &apos;adopt children fiction&apos;, &apos;adopt fiction&apos;, &apos;adopt juvenil&apos;, &apos;adopt juvenil fiction&apos;, &apos;adopte&apos;, &apos;adopte fiction&apos;, &apos;adult&apos;, &apos;adult child&apos;, &apos;adult child abus&apos;, &apos;adult child fiction&apos;, &apos;adult children&apos;, &apos;adult fiction&apos;, &apos;adult fiction audiobook&apos;, &apos;adult fiction fantasi&apos;, &apos;adult fiction paranorm&apos;, &apos;adult fiction scienc&apos;, &apos;adulteri&apos;, &apos;adulteri drama&apos;, &apos;adulteri fiction&apos;, &apos;adulthood&apos;, &apos;adventur&apos;, &apos;adventur adventur&apos;, &apos;adventur adventur comic&apos;, &apos;adventur adventur drama&apos;, &apos;adventur adventur fiction&apos;, &apos;adventur adventur juvenil&apos;, &apos;adventur comic&apos;, &apos;adventur comic book&apos;, &apos;adventur comic comic&apos;, &apos;adventur comic graphic&apos;, &apos;adventur drama&apos;, &apos;adventur fiction&apos;, &apos;adventur fiction action&apos;, &apos;adventur fiction adventur&apos;, &apos;adventur fiction fantasi&apos;, &apos;adventur fiction histor&apos;, &apos;adventur fiction humor&apos;, &apos;adventur fiction mysteri&apos;, &apos;adventur fiction scienc&apos;, &apos;adventur fiction sea&apos;, &apos;adventur fiction suspens&apos;, &apos;adventur fiction thriller&apos;, &apos;adventur film&apos;, &apos;adventur film comedi&apos;, &apos;adventur film fantasi&apos;, &apos;adventur film featur&apos;, &apos;adventur film fiction&apos;, &apos;adventur film histor&apos;, &apos;adventur film scienc&apos;, &apos;adventur film thriller&apos;, &apos;adventur film video&apos;, &apos;adventur film war&apos;, &apos;adventur juvenil&apos;, &apos;adventur stori&apos;, &apos;adventur stori adventur&apos;, &apos;adventur stori fantasi&apos;, &apos;adventur televis&apos;, &apos;adventur televis program&apos;, &apos;advertis&apos;, &apos;advertis unit&apos;, &apos;advertis unit state&apos;, &apos;aerial&apos;, &apos;aerial oper&apos;, &apos;aerial oper american&apos;, &apos;aerob&apos;, &apos;aerob exercis&apos;, &apos;aerodynam&apos;, &apos;aeronaut&apos;, &apos;aeronaut commerci&apos;, &apos;aeronaut commerci unit&apos;, &apos;aeronaut histori&apos;, &apos;aeronaut juvenil&apos;, &apos;aeronaut militari&apos;, &apos;aeronaut period&apos;, &apos;aeronaut space&apos;, &apos;aeronaut space administr&apos;, &apos;aeronaut unit&apos;, &apos;aeronaut unit state&apos;, &apos;aesthet&apos;, &apos;affair&apos;, &apos;afghan&apos;, &apos;afghan war&apos;, &apos;afghan war person&apos;, &apos;afghanistan&apos;, &apos;afghanistan fiction&apos;, &apos;afghanistan histori&apos;, &apos;afghanistan juvenil&apos;, &apos;afghanistan social&apos;, &apos;afghanistan social condit&apos;, &apos;africa&apos;, &apos;africa africa&apos;, &apos;africa biographi&apos;, &apos;africa biographi juvenil&apos;, &apos;africa drama&apos;, &apos;africa east&apos;, &apos;africa fiction&apos;, &apos;africa histori&apos;, &apos;africa juvenil&apos;, &apos;africa juvenil fiction&apos;, &apos;africa juvenil literatur&apos;, &apos;africa polit&apos;, &apos;africa polit govern&apos;, &apos;africa social&apos;, &apos;africa social life&apos;, &apos;africa southern&apos;, &apos;africa sub&apos;, &apos;africa sub saharan&apos;, &apos;africa west&apos;, &apos;african&apos;, &apos;african american&apos;, &apos;african american abolitionist&apos;, &apos;african american art&apos;, &apos;african american artist&apos;, &apos;african american author&apos;, &apos;african american basebal&apos;, &apos;african american biographi&apos;, &apos;african american children&apos;, &apos;african american civil&apos;, &apos;african american colleg&apos;, &apos;african american crime&apos;, &apos;african american drama&apos;, &apos;african american educ&apos;, &apos;african american famili&apos;, &apos;african american fiction&apos;, &apos;african american folklor&apos;, &apos;african american girl&apos;, &apos;african american histori&apos;, &apos;african american juvenil&apos;, &apos;african american legisl&apos;, &apos;african american literatur&apos;, &apos;african american men&apos;, &apos;african american motion&apos;, &apos;african american music&apos;, &apos;african american musician&apos;, &apos;african american new&apos;, &apos;african american poet&apos;, &apos;african american poetri&apos;, &apos;african american polit&apos;, &apos;african american race&apos;, &apos;african american singer&apos;, &apos;african american social&apos;, &apos;african american soldier&apos;, &apos;african american teenag&apos;, &apos;african american unit&apos;, &apos;african american washington&apos;, &apos;african american women&apos;, &apos;african american young&apos;, &apos;african peopl&apos;, &apos;agatha&apos;, &apos;age&apos;, &apos;age fiction&apos;, &apos;age film&apos;, &apos;age film fiction&apos;, &apos;age film motion&apos;, &apos;age film video&apos;, &apos;age juvenil&apos;, &apos;age juvenil fiction&apos;, &apos;age juvenil literatur&apos;, &apos;age men&apos;, &apos;age men drama&apos;, &apos;age men fiction&apos;, &apos;age music&apos;, &apos;age parent&apos;, &apos;age parent care&apos;, &apos;age person&apos;, &apos;age psycholog&apos;, &apos;age psycholog aspect&apos;, &apos;age women&apos;, &apos;age women fiction&apos;, &apos;agenc&apos;, &apos;agenc drama&apos;, &apos;agenc fiction&apos;, &apos;agenc imaginari&apos;, &apos;agenc imaginari organ&apos;, &apos;agenc unit&apos;, &apos;agenc unit state&apos;, &apos;agent&apos;, &apos;agent fiction&apos;, &apos;agent unit&apos;, &apos;agent unit state&apos;, &apos;agricultur&apos;, &apos;agricultur labor&apos;, &apos;agricultur labor labor&apos;, &apos;agriculturist&apos;, &apos;aid&apos;, &apos;aid diseas&apos;, &apos;aid unit&apos;, &apos;aid unit state&apos;, &apos;aim&apos;, &apos;aim object&apos;, &apos;air&apos;, &apos;air forc&apos;, &apos;air pilot&apos;, &apos;air pilot biographi&apos;, &apos;air pilot juvenil&apos;, &apos;air pilot militari&apos;, &apos;air pilot unit&apos;, &apos;air travel&apos;, &apos;aircraft&apos;, &apos;aircraft accid&apos;, &apos;aircraft industri&apos;, &apos;airlin&apos;, &apos;airplan&apos;, &apos;airplan crash&apos;, &apos;airplan crash surviv&apos;, &apos;airplan histori&apos;, &apos;airplan juvenil&apos;, &apos;airplan juvenil fiction&apos;, &apos;airplan juvenil literatur&apos;, &apos;airplan militari&apos;, &apos;airplan motor&apos;, &apos;airport&apos;, &apos;airship&apos;, &apos;al&apos;, &apos;ala&apos;, &apos;ala race&apos;, &apos;ala race relat&apos;, &apos;alabama&apos;, &apos;alabama birmingham&apos;, &apos;alabama birmingham histori&apos;, &apos;alabama fiction&apos;, &apos;alabama montgomeri&apos;, &apos;alabama montgomeri biographi&apos;, &apos;alabama montgomeri histori&apos;, &apos;alan&apos;, &apos;alaska&apos;, &apos;alaska alaska&apos;, &apos;alaska biographi&apos;, &apos;alaska descript&apos;, &apos;alaska descript travel&apos;, &apos;alaska drama&apos;, &apos;alaska fiction&apos;, &apos;alaska guidebook&apos;, &apos;alaska histori&apos;, &apos;alaska juvenil&apos;, &apos;alaska juvenil fiction&apos;, &apos;alaska juvenil literatur&apos;, &apos;alaska social&apos;, &apos;albania&apos;, &apos;albert&apos;, &apos;albuquerqu&apos;, &apos;alchemi&apos;, &apos;alchemist&apos;, &apos;alcohol&apos;, &apos;alcohol beverag&apos;, &apos;alcohol fiction&apos;, &apos;alcohol rehabilit&apos;, &apos;alcohol unit&apos;, &apos;alcohol unit state&apos;, &apos;alcohol use&apos;, &apos;aleksandr&apos;, &apos;alex&apos;, &apos;alex fictiti&apos;, &apos;alex fictiti charact&apos;, &apos;alexand&apos;, &apos;alexand juvenil&apos;, &apos;alexandra&apos;, &apos;alfr&apos;, &apos;algebra&apos;, &apos;algeria&apos;, &apos;ali&apos;, &apos;ali fictiti&apos;, &apos;ali fictiti charact&apos;, &apos;ali muhammad&apos;, &apos;ali muhammad boxer&apos;, &apos;alic&apos;, &apos;alic fictiti&apos;, &apos;alic fictiti charact&apos;, &apos;alien&apos;, &apos;alien encount&apos;, &apos;alien encount comic&apos;, &apos;alien encount drama&apos;, &apos;alien encount fiction&apos;, &apos;alien encount juvenil&apos;, &apos;alien fiction&apos;, &apos;alien social&apos;, &apos;alien social psycholog&apos;, &apos;alien unit&apos;, &apos;alien unit state&apos;, &apos;allan&apos;, &apos;allegori&apos;, &apos;allen&apos;, &apos;allergi&apos;, &apos;allig&apos;, &apos;allig juvenil&apos;, &apos;allig juvenil fiction&apos;, &apos;allon&apos;, &apos;allon gabriel&apos;, &apos;allon gabriel fictiti&apos;, &apos;almanac&apos;, &apos;alp&apos;, &apos;alphabet&apos;, &apos;alphabet book&apos;, &apos;alphabet book juvenil&apos;, &apos;alphabet fiction&apos;, &apos;alphabet juvenil&apos;, &apos;alphabet juvenil fiction&apos;, &apos;alphabet juvenil literatur&apos;, &apos;altern&apos;, &apos;altern histori&apos;, &apos;altern histori fiction&apos;, &apos;altern treatment&apos;, &apos;alumna&apos;, &apos;alumni&apos;, &apos;alumni alumna&apos;, &apos;alzheim&apos;, &apos;alzheim diseas&apos;, &apos;alzheim diseas patient&apos;, &apos;amadeus&apos;, &apos;amanda&apos;, &apos;amateur&apos;, &apos;amateur manual&apos;, &apos;amazon&apos;, &apos;amazon river&apos;, &apos;amazon river region&apos;, &apos;ambient&apos;, &apos;ambient music&apos;, &apos;ambit&apos;, &apos;amelia&apos;, &apos;amelia bedelia&apos;, &apos;amelia bedelia fictiti&apos;, &apos;amelia fictiti&apos;, &apos;amelia fictiti charact&apos;, &apos;amend&apos;, &apos;america&apos;, &apos;america alaska&apos;, &apos;america antiqu&apos;, &apos;america biographi&apos;, &apos;america canada&apos;, &apos;america descript&apos;, &apos;america descript travel&apos;, &apos;america discoveri&apos;, &apos;america discoveri explor&apos;, &apos;america drama&apos;, &apos;america fiction&apos;, &apos;america fictiti&apos;, &apos;america fictiti charact&apos;, &apos;america folklor&apos;, &apos;america folklor juvenil&apos;, &apos;america govern&apos;, &apos;america govern relat&apos;, &apos;america great&apos;, &apos;america great plain&apos;, &apos;america guidebook&apos;, &apos;america histori&apos;, &apos;america histori juvenil&apos;, &apos;america identif&apos;, &apos;america indian&apos;, &apos;america juvenil&apos;, &apos;america juvenil fiction&apos;, &apos;america juvenil literatur&apos;, &apos;america legal&apos;, &apos;america legal status&apos;, &apos;america music&apos;, &apos;america new&apos;, &apos;america northwest&apos;, &apos;america northwest coast&apos;, &apos;america northwest pacif&apos;, &apos;america pictori&apos;, &apos;america pictori work&apos;, &apos;america social&apos;, &apos;america social life&apos;, &apos;america song&apos;, &apos;america song spanish&apos;, &apos;america war&apos;, &apos;america washington&apos;, &apos;america washington state&apos;, &apos;america west&apos;, &apos;america west u&apos;, &apos;american&apos;, &apos;american 19th&apos;, &apos;american 19th centuri&apos;, &apos;american 20th&apos;, &apos;american 20th centuri&apos;, &apos;american 21st&apos;, &apos;american 21st centuri&apos;, &apos;american abolitionist&apos;, &apos;american abolitionist biographi&apos;, &apos;american african&apos;, &apos;american african american&apos;, &apos;american american&apos;, &apos;american american poetri&apos;, &apos;american art&apos;, &apos;american artist&apos;, &apos;american author&apos;, &apos;american author american&apos;, &apos;american author biographi&apos;, &apos;american author histori&apos;, &apos;american basebal&apos;, &apos;american basebal player&apos;, &apos;american biographi&apos;, &apos;american biographi african&apos;, &apos;american biographi juvenil&apos;, &apos;american bison&apos;, &apos;american border&apos;, &apos;american border region&apos;, &apos;american boy&apos;, &apos;american california&apos;, &apos;american children&apos;, &apos;american children juvenil&apos;, &apos;american china&apos;, &apos;american civil&apos;, &apos;american civil right&apos;, &apos;american colleg&apos;, &apos;american comic&apos;, &apos;american comic book&apos;, &apos;american cook&apos;, &apos;american cookbook&apos;, &apos;american crime&apos;, &apos;american crimin&apos;, &apos;american detect&apos;, &apos;american drama&apos;, &apos;american drama 20th&apos;, &apos;american dream&apos;, &apos;american educ&apos;, &apos;american england&apos;, &apos;american england fiction&apos;, &apos;american essay&apos;, &apos;american essay 21st&apos;, &apos;american europ&apos;, &apos;american evacu&apos;, &apos;american evacu reloc&apos;, &apos;american exhibit&apos;, &apos;american famili&apos;, &apos;american famili drama&apos;, &apos;american famili fiction&apos;, &apos;american fiction&apos;, &apos;american fiction 20th&apos;, &apos;american fiction african&apos;, &apos;american fiction famili&apos;, &apos;american fiction man&apos;, &apos;american fiction new&apos;, &apos;american fiction women&apos;, &apos;american folklor&apos;, &apos;american franc&apos;, &apos;american franc fiction&apos;, &apos;american franc pari&apos;, &apos;american genealog&apos;, &apos;american girl&apos;, &apos;american histori&apos;, &apos;american histori 20th&apos;, &apos;american histori critic&apos;, &apos;american histori juvenil&apos;, &apos;american home&apos;, &apos;american home haunt&apos;, &apos;american influenc&apos;, &apos;american intellectu&apos;, &apos;american iraq&apos;, &apos;american itali&apos;, &apos;american itali fiction&apos;, &apos;american japan&apos;, &apos;american judg&apos;, &apos;american judg biographi&apos;, &apos;american juvenil&apos;, &apos;american juvenil fiction&apos;, &apos;american juvenil literatur&apos;, &apos;american juvenil poetri&apos;, &apos;american legisl&apos;, &apos;american literatur&apos;, &apos;american literatur 20th&apos;, &apos;american literatur african&apos;, &apos;american literatur histori&apos;, &apos;american louisiana&apos;, &apos;american men&apos;, &apos;american men fiction&apos;, &apos;american motion&apos;, &apos;american motion pictur&apos;, &apos;american music&apos;, &apos;american musician&apos;, &apos;american new&apos;, &apos;american new york&apos;, &apos;american pacif&apos;, &apos;american pacif northwest&apos;, &apos;american period&apos;, &apos;american poet&apos;, &apos;american poetri&apos;, &apos;american poetri 20th&apos;, &apos;american poetri 21st&apos;, &apos;american poetri african&apos;, &apos;american poetri juvenil&apos;, &apos;american polit&apos;, &apos;american polit govern&apos;, &apos;american prose&apos;, &apos;american prose literatur&apos;, &apos;american race&apos;, &apos;american race ident&apos;, &apos;american short&apos;, &apos;american short stori&apos;, &apos;american sign&apos;, &apos;american sign languag&apos;, &apos;american singer&apos;, &apos;american social&apos;, &apos;american social condit&apos;, &apos;american social life&apos;, &apos;american soldier&apos;, &apos;american southern&apos;, &apos;american southern style&apos;, &apos;american teenag&apos;, &apos;american unit&apos;, &apos;american unit state&apos;, &apos;american war&apos;, &apos;american washington&apos;, &apos;american washington d&apos;, &apos;american washington state&apos;, &apos;american wit&apos;, &apos;american wit humor&apos;, &apos;american women&apos;, &apos;american women author&apos;, &apos;american women biographi&apos;, &apos;american women civil&apos;, &apos;american women fiction&apos;, &apos;american world&apos;, &apos;american world war&apos;, &apos;american young&apos;, &apos;american young men&apos;, &apos;american youth&apos;, &apos;amhar&apos;, &apos;ami&apos;, &apos;amish&apos;, &apos;amish fiction&apos;, &apos;amnesia&apos;, &apos;amnesia fiction&apos;, &apos;amnesiac&apos;, &apos;amphibian&apos;, &apos;amsterdam&apos;, &apos;amsterdam netherland&apos;, &apos;amus&apos;, &apos;amus park&apos;, &apos;amus park juvenil&apos;, &apos;amyotroph&apos;, &apos;amyotroph later&apos;, &apos;amyotroph later sclerosi&apos;, &apos;analysi&apos;, &apos;analysi appreci&apos;, &apos;anatomi&apos;, &apos;anatomi juvenil&apos;, &apos;anatomi juvenil literatur&apos;, &apos;anchor&apos;, &apos;ancient&apos;, &apos;ancient juvenil&apos;, &apos;ancient juvenil literatur&apos;, &apos;anderson&apos;, &apos;andi&apos;, &apos;andrew&apos;, &apos;android&apos;, &apos;anecdot&apos;, &apos;anecdot dog&apos;, &apos;anecdot human&apos;, &apos;anecdot human anim&apos;, &apos;anecdot juvenil&apos;, &apos;anecdot juvenil literatur&apos;, &apos;anecdot unit&apos;, &apos;anecdot unit state&apos;, &apos;angel&apos;, &apos;angel biographi&apos;, &apos;angel calif&apos;, &apos;angel calif drama&apos;, &apos;angel calif fiction&apos;, &apos;angel calif histori&apos;, &apos;angel calif juvenil&apos;, &apos;angel case&apos;, &apos;angel case studi&apos;, &apos;angel drama&apos;, &apos;angel drama los&apos;, &apos;angel fiction&apos;, &apos;angel fiction los&apos;, &apos;angel fiction murder&apos;, &apos;angel histori&apos;, &apos;angel juvenil&apos;, &apos;angel juvenil fiction&apos;, &apos;angelina&apos;, &apos;anger&apos;, &apos;anger juvenil&apos;, &apos;anger juvenil fiction&apos;, &apos;anglo&apos;, &apos;anim&apos;, &apos;anim africa&apos;, &apos;anim anecdot&apos;, &apos;anim anim&apos;, &apos;anim art&apos;, &apos;anim art juvenil&apos;, &apos;anim behavior&apos;, &apos;anim behavior juvenil&apos;, &apos;anim comic&apos;, &apos;anim comic book&apos;, &apos;anim communic&apos;, &apos;anim communic juvenil&apos;, &apos;anim ecolog&apos;, &apos;anim encyclopedia&apos;, &apos;anim fiction&apos;, &apos;anim fiction fantasi&apos;, &apos;anim fiction friendship&apos;, &apos;anim fiction humor&apos;, &apos;anim fiction stori&apos;, &apos;anim film&apos;, &apos;anim film action&apos;, &apos;anim film children&apos;, &apos;anim film comedi&apos;, &apos;anim film fantasi&apos;, &apos;anim film featur&apos;, &apos;anim film fiction&apos;, &apos;anim film scienc&apos;, &apos;anim film video&apos;, &apos;anim folklor&apos;, &apos;anim folklor juvenil&apos;, &apos;anim food&apos;, &apos;anim food juvenil&apos;, &apos;anim habit&apos;, &apos;anim habit behavior&apos;, &apos;anim habit juvenil&apos;, &apos;anim infanc&apos;, &apos;anim infanc fiction&apos;, &apos;anim infanc juvenil&apos;, &apos;anim japan&apos;, &apos;anim juvenil&apos;, &apos;anim juvenil drama&apos;, &apos;anim juvenil fiction&apos;, &apos;anim juvenil film&apos;, &apos;anim juvenil literatur&apos;, &apos;anim juvenil poetri&apos;, &apos;anim locomot&apos;, &apos;anim migrat&apos;, &apos;anim miscellanea&apos;, &apos;anim miscellanea juvenil&apos;, &apos;anim mythic&apos;, &apos;anim mythic comic&apos;, &apos;anim mythic fiction&apos;, &apos;anim mythic juvenil&apos;, &apos;anim pictori&apos;, &apos;anim pictori work&apos;, &apos;anim relationship&apos;, &apos;anim relationship comic&apos;, &apos;anim relationship drama&apos;, &apos;anim relationship fiction&apos;, &apos;anim relationship juvenil&apos;, &apos;anim rescu&apos;, &apos;anim rescu juvenil&apos;, &apos;anim right&apos;, &apos;anim shelter&apos;, &apos;anim shelter juvenil&apos;, &apos;anim song&apos;, &apos;anim song music&apos;, &apos;anim sound&apos;, &apos;anim sound fiction&apos;, &apos;anim sound juvenil&apos;, &apos;anim televis&apos;, &apos;anim televis program&apos;, &apos;anim toy&apos;, &apos;anim toy juvenil&apos;, &apos;anim treatment&apos;, &apos;anim treatment fiction&apos;, &apos;anim welfar&apos;, &apos;ann&apos;, &apos;ann fictiti&apos;, &apos;ann fictiti charact&apos;, &apos;anna&apos;, &apos;anna fictiti&apos;, &apos;anna fictiti charact&apos;, &apos;anni&apos;, &apos;anniversari&apos;, &apos;answer&apos;, &apos;answer juvenil&apos;, &apos;answer juvenil fiction&apos;, &apos;ant&apos;, &apos;ant juvenil&apos;, &apos;ant juvenil fiction&apos;, &apos;antarct&apos;, &apos;antarctica&apos;, &apos;antarctica discoveri&apos;, &apos;antarctica discoveri explor&apos;, &apos;antarctica juvenil&apos;, &apos;antholog&apos;, &apos;anthoni&apos;, &apos;anthropolog&apos;, &apos;anthropologist&apos;, &apos;anthropologist fiction&apos;, &apos;anti&apos;, &apos;anti nazi&apos;, &apos;anti nazi movement&apos;, &apos;antiqu&apos;, &apos;antiqu dealer&apos;, &apos;antiqu dealer fiction&apos;, &apos;antiqu fiction&apos;, &apos;antiqu juvenil&apos;, &apos;antiqu juvenil fiction&apos;, &apos;antiqu juvenil literatur&apos;, &apos;antisemit&apos;, &apos;antislaveri&apos;, &apos;antislaveri movement&apos;, &apos;antislaveri movement unit&apos;, &apos;antonio&apos;, &apos;antonym&apos;, &apos;antonym juvenil&apos;, &apos;antonym juvenil literatur&apos;, &apos;anxieti&apos;, &apos;anxieti juvenil&apos;, &apos;anxieti juvenil fiction&apos;, &apos;apach&apos;, &apos;apach indian&apos;, &apos;apart&apos;, &apos;apart dweller&apos;, &apos;apart dweller comic&apos;, &apos;apart hous&apos;, &apos;apart hous juvenil&apos;, &apos;apartheid&apos;, &apos;apollo&apos;, &apos;apollo u&apos;, &apos;apollo u s&apos;, &apos;apologet&apos;, &apos;appalachian&apos;, &apos;appalachian region&apos;, &apos;appalachian region southern&apos;, &apos;apparatus&apos;, &apos;apparit&apos;, &apos;appet&apos;, &apos;appl&apos;, &apos;appl juvenil&apos;, &apos;appl juvenil fiction&apos;, &apos;applianc&apos;, &apos;applic&apos;, &apos;applic softwar&apos;, &apos;appliqu‚&apos;, &apos;appoint&apos;, &apos;appreci&apos;, &apos;appreci juvenil&apos;, &apos;appreci juvenil literatur&apos;, &apos;apprentic&apos;, &apos;apprentic juvenil&apos;, &apos;apprentic juvenil fiction&apos;, &apos;appropri&apos;, &apos;appropri expenditur&apos;, &apos;approxim&apos;, &apos;approxim approxim&apos;, &apos;approxim fiction&apos;, &apos;aquarium&apos;, &apos;aquif&apos;, &apos;arab&apos;, &apos;arab american&apos;, &apos;arab countri&apos;, &apos;arab countri juvenil&apos;, &apos;arab folklor&apos;, &apos;arab isra&apos;, &apos;arab isra conflict&apos;, &apos;arab languag&apos;, &apos;arab relat&apos;, &apos;arabia&apos;, &apos;arabian&apos;, &apos;archaeolog&apos;, &apos;archaeolog juvenil&apos;, &apos;archaeolog juvenil literatur&apos;, &apos;archaeologist&apos;, &apos;archaeologist fiction&apos;, &apos;archer&apos;, &apos;archi&apos;, &apos;archi fictiti&apos;, &apos;archi fictiti charact&apos;, &apos;architect&apos;, &apos;architect unit&apos;, &apos;architect unit state&apos;, &apos;architectur&apos;, &apos;architectur domest&apos;, &apos;architectur domest design&apos;, &apos;architectur domest unit&apos;, &apos;architectur england&apos;, &apos;architectur histori&apos;, &apos;architectur modern&apos;, &apos;architectur unit&apos;, &apos;architectur unit state&apos;, &apos;archiv&apos;, &apos;archiv resourc&apos;, &apos;arctic&apos;, &apos;arctic region&apos;, &apos;arctic region discoveri&apos;, &apos;arctic region juvenil&apos;, &apos;area&apos;, &apos;area fiction&apos;, &apos;area guidebook&apos;, &apos;area histori&apos;, &apos;area juvenil&apos;, &apos;area juvenil fiction&apos;, &apos;area statist&apos;, &apos;area unit&apos;, &apos;area unit state&apos;, &apos;area wash&apos;, &apos;argentina&apos;, &apos;argentina fiction&apos;, &apos;aristocraci&apos;, &apos;aristocraci social&apos;, &apos;aristocraci social class&apos;, &apos;arithmet&apos;, &apos;ariz&apos;, &apos;arizona&apos;, &apos;arizona fiction&apos;, &apos;ark&apos;, &apos;arkansa&apos;, &apos;arkansa littl&apos;, &apos;arkansa littl rock&apos;, &apos;arm&apos;, &apos;arm control&apos;, &apos;arm forc&apos;, &apos;arm transfer&apos;, &apos;armand&apos;, &apos;armand fictiti&apos;, &apos;armand fictiti charact&apos;, &apos;armi&apos;, &apos;armi air&apos;, &apos;armi air forc&apos;, &apos;armi biographi&apos;, &apos;armi biographi general&apos;, &apos;armi histori&apos;, &apos;armi militari&apos;, &apos;armor&apos;, &apos;armstrong&apos;, &apos;arnold&apos;, &apos;arrang&apos;, &apos;arrang juvenil&apos;, &apos;arrang juvenil sound&apos;, &apos;arrang marriag&apos;, &apos;arrang marriag fiction&apos;, &apos;arrang music&apos;, &apos;arrang piano&apos;, &apos;arrang piano music&apos;, &apos;arrang popular&apos;, &apos;arrang score&apos;, &apos;arson&apos;, &apos;art&apos;, &apos;art american&apos;, &apos;art american 20th&apos;, &apos;art appreci&apos;, &apos;art appreci juvenil&apos;, &apos;art art&apos;, &apos;art collect&apos;, &apos;art collect exhibit&apos;, &apos;art collector&apos;, &apos;art collector collect&apos;, &apos;art comic&apos;, &apos;art comic book&apos;, &apos;art critic&apos;, &apos;art dealer&apos;, &apos;art drama&apos;, &apos;art draw&apos;, &apos;art draw techniqu&apos;, &apos;art exhibit&apos;, &apos;art fiction&apos;, &apos;art film&apos;, &apos;art forgeri&apos;, &apos;art franc&apos;, &apos;art histori&apos;, &apos;art juvenil&apos;, &apos;art juvenil fiction&apos;, &apos;art juvenil literatur&apos;, &apos;art modern&apos;, &apos;art modern 20th&apos;, &apos;art museum&apos;, &apos;art music&apos;, &apos;art new&apos;, &apos;art new york&apos;, &apos;art northwest&apos;, &apos;art object&apos;, &apos;art scienc&apos;, &apos;art scienc histori&apos;, &apos;art societi&apos;, &apos;art symbol&apos;, &apos;art techniqu&apos;, &apos;art techniqu juvenil&apos;, &apos;art theft&apos;, &apos;art theft fiction&apos;, &apos;art theft juvenil&apos;, &apos;art unit&apos;, &apos;art unit state&apos;, &apos;art war&apos;, &apos;art washington&apos;, &apos;arthur&apos;, &apos;arthur conan&apos;, &apos;arthur fictiti&apos;, &apos;arthur fictiti charact&apos;, &apos;arthur king&apos;, &apos;arthurian&apos;, &apos;arthurian romanc&apos;, &apos;articl&apos;, &apos;articl juvenil&apos;, &apos;articl juvenil fiction&apos;, &apos;artifici&apos;, &apos;artifici intellig&apos;, &apos;artifici intellig fiction&apos;, &apos;artifici satellit&apos;, &apos;artisan&apos;, &apos;artist&apos;, &apos;artist biographi&apos;, &apos;artist exhibit&apos;, &apos;artist fiction&apos;, &apos;artist franc&apos;, &apos;artist itali&apos;, &apos;artist itali biographi&apos;, &apos;artist juvenil&apos;, &apos;artist juvenil fiction&apos;, &apos;artist juvenil literatur&apos;, &apos;artist unit&apos;, &apos;artist unit state&apos;, &apos;asia&apos;, &apos;asia central&apos;, &apos;asia descript&apos;, &apos;asia descript travel&apos;, &apos;asian&apos;, &apos;asian american&apos;, &apos;asian peopl&apos;, &apos;aspect&apos;, &apos;aspect buddhism&apos;, &apos;aspect case&apos;, &apos;aspect case studi&apos;, &apos;aspect christian&apos;, &apos;aspect climat&apos;, &apos;aspect climat chang&apos;, &apos;aspect drama&apos;, &apos;aspect econom&apos;, &apos;aspect environment&apos;, &apos;aspect fiction&apos;, &apos;aspect food&apos;, &apos;aspect global&apos;, &apos;aspect histori&apos;, &apos;aspect human&apos;, &apos;aspect internet&apos;, &apos;aspect islam&apos;, &apos;aspect judaism&apos;, &apos;aspect juvenil&apos;, &apos;aspect juvenil literatur&apos;, &apos;aspect popular&apos;, &apos;aspect popular work&apos;, &apos;aspect self&apos;, &apos;aspect social&apos;, &apos;aspect technolog&apos;, &apos;aspect technolog innov&apos;, &apos;aspect unit&apos;, &apos;aspect unit state&apos;, &apos;aspect washington&apos;, &apos;aspect washington state&apos;, &apos;asperg&apos;, &apos;asperg syndrom&apos;, &apos;assassin&apos;, &apos;assassin attempt&apos;, &apos;assassin comic&apos;, &apos;assassin comic book&apos;, &apos;assassin drama&apos;, &apos;assassin fiction&apos;, &apos;assassin juvenil&apos;, &apos;assassin unit&apos;, &apos;assassin unit state&apos;, &apos;assess&apos;, &apos;assimil&apos;, &apos;assist&apos;, &apos;assist american&apos;, &apos;associ&apos;, &apos;astrolog&apos;, &apos;astronaut&apos;, &apos;astronaut fiction&apos;, &apos;astronaut juvenil&apos;, &apos;astronaut juvenil fiction&apos;, &apos;astronaut juvenil literatur&apos;, &apos;astronaut unit&apos;, &apos;astronaut unit state&apos;, &apos;astronom&apos;, &apos;astronomi&apos;, &apos;astronomi juvenil&apos;, &apos;astronomi juvenil literatur&apos;, &apos;ast‚rix&apos;, &apos;ast‚rix fictiti&apos;, &apos;ast‚rix fictiti charact&apos;, &apos;atheism&apos;, &apos;athen&apos;, &apos;athen greec&apos;, &apos;athlet&apos;, &apos;athlet biographi&apos;, &apos;athlet drama&apos;, &apos;athlet fiction&apos;, &apos;athlet unit&apos;, &apos;athlet unit state&apos;, &apos;atlant&apos;, &apos;atlant citi&apos;, &apos;atlant coast&apos;, &apos;atlant ocean&apos;, &apos;atlanta&apos;, &apos;atlanta ga&apos;, &apos;atlanta ga fiction&apos;, &apos;atlas&apos;, &apos;atmospher&apos;, &apos;atom&apos;, &apos;atom bomb&apos;, &apos;atroc&apos;, &apos;attack&apos;, &apos;attack juvenil&apos;, &apos;attempt&apos;, &apos;attempt murder&apos;, &apos;attent&apos;, &apos;attent deficit&apos;, &apos;attent deficit disord&apos;, &apos;attent deficit hyperact&apos;, &apos;attitud&apos;, &apos;attitud psycholog&apos;, &apos;attorney&apos;, &apos;attract&apos;, &apos;attract fiction&apos;, &apos;audio&apos;, &apos;audio visual&apos;, &apos;audio visual aid&apos;, &apos;audiobook&apos;, &apos;audiobook autobiographi&apos;, &apos;audiobook detect&apos;, &apos;audiobook detect mysteri&apos;, &apos;audiobook histor&apos;, &apos;audiobook histor fiction&apos;, &apos;audiobook love&apos;, &apos;audiobook love stori&apos;, &apos;audiobook mysteri&apos;, &apos;audiobook mysteri fiction&apos;, &apos;audiobook suspens&apos;, &apos;audiobook suspens fiction&apos;, &apos;audiobook thriller&apos;, &apos;audiobook thriller fiction&apos;, &apos;audit&apos;, &apos;august&apos;, &apos;augustus&apos;, &apos;aunt&apos;, &apos;aunt fiction&apos;, &apos;aunt juvenil&apos;, &apos;aunt juvenil fiction&apos;, &apos;auschwitz&apos;, &apos;auschwitz concentr&apos;, &apos;auschwitz concentr camp&apos;, &apos;austen&apos;, &apos;austen jane&apos;, &apos;austin&apos;, &apos;australia&apos;, &apos;australia biographi&apos;, &apos;australia drama&apos;, &apos;australia fiction&apos;, &apos;australia great&apos;, &apos;australia great barrier&apos;, &apos;australia histori&apos;, &apos;australia juvenil&apos;, &apos;australia juvenil fiction&apos;, &apos;australia sydney&apos;, &apos;australia sydney n&apos;, &apos;australia tasmania&apos;, &apos;australian&apos;, &apos;austria&apos;, &apos;austria biographi&apos;, &apos;austria guidebook&apos;, &apos;austria histori&apos;, &apos;austria vienna&apos;, &apos;austrian&apos;, &apos;author&apos;, &apos;author american&apos;, &apos;author american 19th&apos;, &apos;author american 20th&apos;, &apos;author american 21st&apos;, &apos;author american biographi&apos;, &apos;author american home&apos;, &apos;author american juvenil&apos;, &apos;author biographi&apos;, &apos;author collect&apos;, &apos;author collect juvenil&apos;, &apos;author drama&apos;, &apos;author english&apos;, &apos;author english 20th&apos;, &apos;author fiction&apos;, &apos;author french&apos;, &apos;author german&apos;, &apos;author histori&apos;, &apos;author histori critic&apos;, &apos;author irish&apos;, &apos;author juvenil&apos;, &apos;author juvenil fiction&apos;, &apos;author juvenil literatur&apos;, &apos;author russian&apos;, &apos;authorship&apos;, &apos;authorship fiction&apos;, &apos;authorship juvenil&apos;, &apos;authorship juvenil fiction&apos;, &apos;authorship juvenil literatur&apos;, &apos;autism&apos;, &apos;autism children&apos;, &apos;autism juvenil&apos;, &apos;autist&apos;, &apos;autist children&apos;, &apos;autobiograph&apos;, &apos;autobiograph comic&apos;, &apos;autobiograph fiction&apos;, &apos;autobiographi&apos;, &apos;autobiographi person&apos;, &apos;autobiographi person memoir&apos;, &apos;autoimmun&apos;, &apos;automobil&apos;, &apos;automobil drive&apos;, &apos;automobil histori&apos;, &apos;automobil industri&apos;, &apos;automobil industri trade&apos;, &apos;automobil juvenil&apos;, &apos;automobil juvenil fiction&apos;, &apos;automobil mainten&apos;, &apos;automobil mainten repair&apos;, &apos;automobil race&apos;, &apos;automobil race driver&apos;, &apos;automobil race juvenil&apos;, &apos;automobil travel&apos;, &apos;automobil travel fiction&apos;, &apos;automobil travel juvenil&apos;, &apos;autonom&apos;, &apos;autonom region&apos;, &apos;autonom region china&apos;, &apos;autumn&apos;, &apos;autumn fiction&apos;, &apos;autumn juvenil&apos;, &apos;autumn juvenil fiction&apos;, &apos;autumn juvenil literatur&apos;, &apos;avant&apos;, &apos;avant gard&apos;, &apos;avant gard aesthet&apos;, &apos;avaric&apos;, &apos;avatar&apos;, &apos;aveng&apos;, &apos;aveng fictiti&apos;, &apos;aveng fictiti charact&apos;, &apos;aviat&apos;, &apos;aviv&apos;, &apos;awar&apos;, &apos;award&apos;, &apos;aztec&apos;, &apos;b&apos;, &apos;b c&apos;, &apos;b c b&apos;, &apos;b c d&apos;, &apos;b c fiction&apos;, &apos;b c guidebook&apos;, &apos;b c juvenil&apos;, &apos;b c wash&apos;, &apos;babe&apos;, &apos;babi&apos;, &apos;babi boom&apos;, &apos;babi boom generat&apos;, &apos;babi fiction&apos;, &apos;babi food&apos;, &apos;babymous&apos;, &apos;babymous fictiti&apos;, &apos;babymous fictiti charact&apos;, &apos;babysitt&apos;, &apos;babysitt juvenil&apos;, &apos;babysitt juvenil fiction&apos;, &apos;bachelor&apos;, &apos;backach&apos;, &apos;backpack&apos;, &apos;bacteria&apos;, &apos;badger&apos;, &apos;badger juvenil&apos;, &apos;badger juvenil fiction&apos;, &apos;baggin&apos;, &apos;baghdad&apos;, &apos;bahama&apos;, &apos;baja&apos;, &apos;baja california&apos;, &apos;bake&apos;, &apos;bake cookbook&apos;, &apos;bake juvenil&apos;, &apos;bake juvenil fiction&apos;, &apos;baker&apos;, &apos;baker bakeri&apos;, &apos;baker bakeri fiction&apos;, &apos;baker fiction&apos;, &apos;bakeri&apos;, &apos;bakeri fiction&apos;, &apos;balanc&apos;, &apos;baldwin&apos;, &apos;bali&apos;, &apos;balkan&apos;, &apos;balkan peninsula&apos;, &apos;ball&apos;, &apos;ballad&apos;, &apos;ballad english&apos;, &apos;ballerina&apos;, &apos;ballerina juvenil&apos;, &apos;ballerina juvenil fiction&apos;, &apos;ballet&apos;, &apos;ballet danc&apos;, &apos;ballet danc juvenil&apos;, &apos;ballet dancer&apos;, &apos;ballet juvenil&apos;, &apos;ballet juvenil fiction&apos;, &apos;balloon&apos;, &apos;balloon juvenil&apos;, &apos;balloon juvenil fiction&apos;, &apos;baltimor&apos;, &apos;baltimor md&apos;, &apos;band&apos;, &apos;band music&apos;, &apos;band music juvenil&apos;, &apos;bangkok&apos;, &apos;bangkok thailand&apos;, &apos;bank&apos;, &apos;bank bank&apos;, &apos;bank bank unit&apos;, &apos;bank juvenil&apos;, &apos;bank juvenil fiction&apos;, &apos;bank robberi&apos;, &apos;bank unit&apos;, &apos;bank unit state&apos;, &apos;banker&apos;, &apos;baptist&apos;, &apos;baptist unit&apos;, &apos;baptist unit state&apos;, &apos;bar&apos;, &apos;bar drink&apos;, &apos;bar drink establish&apos;, &apos;barack&apos;, &apos;barbara&apos;, &apos;barbecu&apos;, &apos;barbera&apos;, &apos;barbera juvenil&apos;, &apos;barbi&apos;, &apos;barbi fictiti&apos;, &apos;barbi fictiti charact&apos;, &apos;barcelona&apos;, &apos;barcelona spain&apos;, &apos;barn&apos;, &apos;baron&apos;, &apos;barri&apos;, &apos;barrier&apos;, &apos;barrier reef&apos;, &apos;barrier reef qld&apos;, &apos;barrington&apos;, &apos;barrington stone&apos;, &apos;barrington stone fictiti&apos;, &apos;base&apos;, &apos;basebal&apos;, &apos;basebal fiction&apos;, &apos;basebal juvenil&apos;, &apos;basebal juvenil literatur&apos;, &apos;basebal player&apos;, &apos;basebal player fiction&apos;, &apos;basebal player juvenil&apos;, &apos;basebal player unit&apos;, &apos;basebal stori&apos;, &apos;basebal team&apos;, &apos;basebal team histori&apos;, &apos;basebal team juvenil&apos;, &apos;basebal unit&apos;, &apos;basebal unit state&apos;, &apos;bash&apos;, &apos;bash juvenil&apos;, &apos;bash juvenil fiction&apos;, &apos;basin&apos;, &apos;basket&apos;, &apos;basketbal&apos;, &apos;basketbal coach&apos;, &apos;basketbal fiction&apos;, &apos;basketbal player&apos;, &apos;basketbal player unit&apos;, &apos;basketbal stori&apos;, &apos;basketbal unit&apos;, &apos;basketbal unit state&apos;, &apos;bass&apos;, &apos;bassoon&apos;, &apos;bat&apos;, &apos;bat juvenil&apos;, &apos;bat juvenil fiction&apos;, &apos;bat juvenil literatur&apos;, &apos;bath&apos;, &apos;bath fiction&apos;, &apos;bath juvenil&apos;, &apos;bath juvenil fiction&apos;, &apos;batman&apos;, &apos;batman fictiti&apos;, &apos;batman fictiti charact&apos;, &apos;battalion&apos;, &apos;battl&apos;, &apos;battl comic&apos;, &apos;battl comic book&apos;, &apos;battl drama&apos;, &apos;battl fiction&apos;, &apos;battl fiction fantasi&apos;, &apos;battl fiction scienc&apos;, &apos;battl juvenil&apos;, &apos;battl juvenil fiction&apos;, &apos;bay&apos;, &apos;bay area&apos;, &apos;bay region&apos;, &apos;beach&apos;, &apos;beach fiction&apos;, &apos;beach juvenil&apos;, &apos;beach juvenil fiction&apos;, &apos;beadwork&apos;, &apos;beagl&apos;, &apos;bean&apos;, &apos;bear&apos;, &apos;bear fiction&apos;, &apos;bear fictiti&apos;, &apos;bear fictiti charact&apos;, &apos;bear folklor&apos;, &apos;bear folklor juvenil&apos;, &apos;bear juvenil&apos;, &apos;bear juvenil fiction&apos;, &apos;bear juvenil literatur&apos;, &apos;beatl&apos;, &apos;beauti&apos;, &apos;beauti contest&apos;, &apos;beauti person&apos;, &apos;beauti person juvenil&apos;, &apos;beauti tale&apos;, &apos;beaver&apos;, &apos;bed&apos;, &apos;bed breakfast&apos;, &apos;bed breakfast accommod&apos;, &apos;bedelia&apos;, &apos;bedelia fictiti&apos;, &apos;bedelia fictiti charact&apos;, &apos;bedtim&apos;, &apos;bedtim fiction&apos;, &apos;bedtim juvenil&apos;, &apos;bedtim juvenil fiction&apos;, &apos;bee&apos;, &apos;bee cultur&apos;, &apos;bee juvenil&apos;, &apos;bee juvenil fiction&apos;, &apos;bee juvenil literatur&apos;, &apos;beer&apos;, &apos;beetl&apos;, &apos;behavior&apos;, &apos;behavior anim&apos;, &apos;behavior anim juvenil&apos;, &apos;behavior comic&apos;, &apos;behavior comic book&apos;, &apos;behavior drama&apos;, &apos;behavior england&apos;, &apos;behavior fiction&apos;, &apos;behavior fiction humor&apos;, &apos;behavior juvenil&apos;, &apos;behavior juvenil fiction&apos;, &apos;behavior juvenil literatur&apos;, &apos;behavior modif&apos;, &apos;behavior unit&apos;, &apos;behavior unit state&apos;, &apos;beij&apos;, &apos;beirut&apos;, &apos;belgium&apos;, &apos;belgium fiction&apos;, &apos;belief&apos;, &apos;belief doubt&apos;, &apos;bell&apos;, &apos;bell fictiti&apos;, &apos;bell fictiti charact&apos;, &apos;belong&apos;, &apos;belong social&apos;, &apos;belong social psycholog&apos;, &apos;ben&apos;, &apos;benedict&apos;, &apos;benefit&apos;, &apos;benjamin&apos;, &apos;bennett&apos;, &apos;bennett michael&apos;, &apos;benton&apos;, &apos;benton counti&apos;, &apos;bereav&apos;, &apos;bereav fiction&apos;, &apos;bereav psycholog&apos;, &apos;bereav psycholog aspect&apos;, &apos;berenstain&apos;, &apos;berenstain bear&apos;, &apos;berenstain bear fictiti&apos;, &apos;berkeley&apos;, &apos;berlin&apos;, &apos;berlin germani&apos;, &apos;berlin germani histori&apos;, &apos;bernard&apos;, &apos;berri&apos;, &apos;best&apos;, &apos;best book&apos;, &apos;best friend&apos;, &apos;best friend drama&apos;, &apos;best friend fiction&apos;, &apos;best friend juvenil&apos;, &apos;betray&apos;, &apos;betray drama&apos;, &apos;betray fiction&apos;, &apos;betti&apos;, &apos;beverag&apos;, &apos;bibl&apos;, &apos;bibl new&apos;, &apos;bibl new testament&apos;, &apos;bibl old&apos;, &apos;bibl old testament&apos;, &apos;bibl stori&apos;, &apos;bibl stori english&apos;, &apos;biblic&apos;, &apos;biblic event&apos;, &apos;bibliographi&apos;, &apos;bibliographi catalog&apos;, &apos;bibliographi dictionari&apos;, &apos;bibliographi period&apos;, &apos;bicycl&apos;, &apos;bicycl bicycl&apos;, &apos;bicycl bicycl fiction&apos;, &apos;bicycl fiction&apos;, &apos;bicycl juvenil&apos;, &apos;bicycl juvenil fiction&apos;, &apos;bicycl tour&apos;, &apos;big&apos;, &apos;big data&apos;, &apos;big nate&apos;, &apos;big nate comic&apos;, &apos;big nate juvenil&apos;, &apos;bildungsroman&apos;, &apos;bilingu&apos;, &apos;bilingu children&apos;, &apos;bilingu children film&apos;, &apos;bilingu fiction&apos;, &apos;billi&apos;, &apos;billionair&apos;, &apos;billionair fiction&apos;, &apos;bin&apos;, &apos;bio&apos;, &apos;bio bibliographi&apos;, &apos;bio bibliographi dictionari&apos;, &apos;biodivers&apos;, &apos;biodivers conserv&apos;, &apos;biograph&apos;, &apos;biograph fiction&apos;, &apos;biograph fiction histor&apos;, &apos;biograph film&apos;, &apos;biograph film documentari&apos;, &apos;biograph film featur&apos;, &apos;biograph film fiction&apos;, &apos;biograph film histor&apos;, &apos;biograph film nonfict&apos;, &apos;biograph film video&apos;, &apos;biograph televis&apos;, &apos;biograph televis program&apos;, &apos;biographi&apos;, &apos;biographi actor&apos;, &apos;biographi actor unit&apos;, &apos;biographi african&apos;, &apos;biographi african american&apos;, &apos;biographi american&apos;, &apos;biographi anecdot&apos;, &apos;biographi art&apos;, &apos;biographi artist&apos;, &apos;biographi audiobook&apos;, &apos;biographi author&apos;, &apos;biographi author american&apos;, &apos;biographi author english&apos;, &apos;biographi autobiographi&apos;, &apos;biographi autobiographi person&apos;, &apos;biographi biograph&apos;, &apos;biographi biograph film&apos;, &apos;biographi biographi&apos;, &apos;biographi biographi autobiographi&apos;, &apos;biographi celebr&apos;, &apos;biographi child&apos;, &apos;biographi children&apos;, &apos;biographi china&apos;, &apos;biographi christian&apos;, &apos;biographi christian biographi&apos;, &apos;biographi civil&apos;, &apos;biographi civil right&apos;, &apos;biographi comedian&apos;, &apos;biographi comedian unit&apos;, &apos;biographi comic&apos;, &apos;biographi comic book&apos;, &apos;biographi conduct&apos;, &apos;biographi conduct life&apos;, &apos;biographi cook&apos;, &apos;biographi crimin&apos;, &apos;biographi dictionari&apos;, &apos;biographi documentari&apos;, &apos;biographi documentari film&apos;, &apos;biographi drama&apos;, &apos;biographi drug&apos;, &apos;biographi drug addict&apos;, &apos;biographi egypt&apos;, &apos;biographi encyclopedia&apos;, &apos;biographi espionag&apos;, &apos;biographi famili&apos;, &apos;biographi fashion&apos;, &apos;biographi father&apos;, &apos;biographi father son&apos;, &apos;biographi franc&apos;, &apos;biographi gay&apos;, &apos;biographi gay men&apos;, &apos;biographi general&apos;, &apos;biographi general unit&apos;, &apos;biographi great&apos;, &apos;biographi great britain&apos;, &apos;biographi holocaust&apos;, &apos;biographi holocaust jewish&apos;, &apos;biographi homeless&apos;, &apos;biographi human&apos;, &apos;biographi immigr&apos;, &apos;biographi indian&apos;, &apos;biographi indian north&apos;, &apos;biographi jew&apos;, &apos;biographi jewish&apos;, &apos;biographi journalist&apos;, &apos;biographi journalist unit&apos;, &apos;biographi juvenil&apos;, &apos;biographi juvenil film&apos;, &apos;biographi juvenil literatur&apos;, &apos;biographi larg&apos;, &apos;biographi larg type&apos;, &apos;biographi legisl&apos;, &apos;biographi legisl unit&apos;, &apos;biographi mother&apos;, &apos;biographi mother daughter&apos;, &apos;biographi motion&apos;, &apos;biographi motion pictur&apos;, &apos;biographi new&apos;, &apos;biographi new york&apos;, &apos;biographi novelist&apos;, &apos;biographi pari&apos;, &apos;biographi pari franc&apos;, &apos;biographi pictori&apos;, &apos;biographi pictori work&apos;, &apos;biographi poet&apos;, &apos;biographi polit&apos;, &apos;biographi polit activist&apos;, &apos;biographi politician&apos;, &apos;biographi presid&apos;, &apos;biographi presid unit&apos;, &apos;biographi prison&apos;, &apos;biographi rock&apos;, &apos;biographi rock music&apos;, &apos;biographi rock musician&apos;, &apos;biographi seattl&apos;, &apos;biographi singer&apos;, &apos;biographi singer unit&apos;, &apos;biographi social&apos;, &apos;biographi spi&apos;, &apos;biographi statesmen&apos;, &apos;biographi televis&apos;, &apos;biographi televis actor&apos;, &apos;biographi unit&apos;, &apos;biographi unit state&apos;, &apos;biographi women&apos;, &apos;biographi women legisl&apos;, &apos;biographi work&apos;, &apos;biographi world&apos;, &apos;biographi world war&apos;, &apos;biographi young&apos;, &apos;biographi young women&apos;, &apos;biolog&apos;, &apos;biolog comic&apos;, &apos;biolog comic book&apos;, &apos;biolog juvenil&apos;, &apos;biolog juvenil literatur&apos;, &apos;biologist&apos;, &apos;biologist fiction&apos;, &apos;biotechnolog&apos;, &apos;biotic&apos;, &apos;biotic communiti&apos;, &apos;bird&apos;, &apos;bird behavior&apos;, &apos;bird fiction&apos;, &apos;bird fiction friendship&apos;, &apos;bird identif&apos;, &apos;bird juvenil&apos;, &apos;bird juvenil fiction&apos;, &apos;bird juvenil literatur&apos;, &apos;bird nest&apos;, &apos;bird washington&apos;, &apos;bird washington state&apos;, &apos;bird watch&apos;, &apos;birdsong&apos;, &apos;birmingham&apos;, &apos;birmingham ala&apos;, &apos;birmingham histori&apos;, &apos;birmingham histori 20th&apos;, &apos;birth&apos;, &apos;birth massachusett&apos;, &apos;birth new&apos;, &apos;birth new york&apos;, &apos;birth ohio&apos;, &apos;birthday&apos;, &apos;birthday fiction&apos;, &apos;birthday juvenil&apos;, &apos;birthday juvenil fiction&apos;, &apos;birthday parti&apos;, &apos;birthday parti juvenil&apos;, &apos;bisexu&apos;, &apos;bishop&apos;, &apos;bishop mike&apos;, &apos;bison&apos;, &apos;black&apos;, &apos;black hill&apos;, &apos;black humor&apos;, &apos;black humor literatur&apos;, &apos;black muslim&apos;, &apos;black panther&apos;, &apos;black panther parti&apos;, &apos;blade&apos;, &apos;blanket&apos;, &apos;bless&apos;, &apos;bless curs&apos;, &apos;bless curs fiction&apos;, &apos;bless curs juvenil&apos;, &apos;bless virgin&apos;, &apos;bless virgin saint&apos;, &apos;blind&apos;, &apos;blizzard&apos;, &apos;blizzard juvenil&apos;, &apos;blizzard juvenil fiction&apos;, &apos;block&apos;, &apos;blog&apos;, &apos;blood&apos;, &apos;blow&apos;, &apos;blue&apos;, &apos;blue music&apos;, &apos;blue music popular&apos;, &apos;blue music rock&apos;, &apos;blue musician&apos;, &apos;blue musician unit&apos;, &apos;bluegrass&apos;, &apos;bluegrass music&apos;, &apos;bluegrass music countri&apos;, &apos;board&apos;, &apos;board book&apos;, &apos;board school&apos;, &apos;board school fiction&apos;, &apos;board school juvenil&apos;, &apos;boardinghous&apos;, &apos;boat&apos;, &apos;boat boat&apos;, &apos;boat boat juvenil&apos;, &apos;boat juvenil&apos;, &apos;boat juvenil fiction&apos;, &apos;boatbuild&apos;, &apos;bob&apos;, &apos;bodi&apos;, &apos;bodi imag&apos;, &apos;bodi juvenil&apos;, &apos;bodi juvenil literatur&apos;, &apos;bodi size&apos;, &apos;bodyguard&apos;, &apos;bodyguard fiction&apos;, &apos;boe&apos;, &apos;bolivia&apos;, &apos;bomb&apos;, &apos;bombard&apos;, &apos;bomber&apos;, &apos;bond&apos;, &apos;bond jame&apos;, &apos;bond jame fictiti&apos;, &apos;bone&apos;, &apos;book&apos;, &apos;book children&apos;, &apos;book children chines&apos;, &apos;book children juvenil&apos;, &apos;book christian&apos;, &apos;book christian fiction&apos;, &apos;book club&apos;, &apos;book detect&apos;, &apos;book detect mysteri&apos;, &apos;book domest&apos;, &apos;book domest fiction&apos;, &apos;book english&apos;, &apos;book fantasi&apos;, &apos;book fantasi fiction&apos;, &apos;book fiction&apos;, &apos;book histor&apos;, &apos;book histor fiction&apos;, &apos;book histori&apos;, &apos;book juvenil&apos;, &apos;book juvenil fiction&apos;, &apos;book juvenil literatur&apos;, &apos;book love&apos;, &apos;book love stori&apos;, &apos;book manuscript&apos;, &apos;book mysteri&apos;, &apos;book mysteri fiction&apos;, &apos;book new&apos;, &apos;book new york&apos;, &apos;book psycholog&apos;, &apos;book psycholog fiction&apos;, &apos;book read&apos;, &apos;book read fiction&apos;, &apos;book read juvenil&apos;, &apos;book read unit&apos;, &apos;book review&apos;, &apos;book romant&apos;, &apos;book romant suspens&apos;, &apos;book specimen&apos;, &apos;book specimen juvenil&apos;, &apos;book stori&apos;, &apos;book stori rhyme&apos;, &apos;book strip&apos;, &apos;book strip action&apos;, &apos;book strip adventur&apos;, &apos;book strip african&apos;, &apos;book strip american&apos;, &apos;book strip anim&apos;, &apos;book strip apart&apos;, &apos;book strip assassin&apos;, &apos;book strip boy&apos;, &apos;book strip brother&apos;, &apos;book strip camp&apos;, &apos;book strip cartoon&apos;, &apos;book strip cartoonist&apos;, &apos;book strip cat&apos;, &apos;book strip children&apos;, &apos;book strip comic&apos;, &apos;book strip cook&apos;, &apos;book strip date&apos;, &apos;book strip demonolog&apos;, &apos;book strip dog&apos;, &apos;book strip dystopia&apos;, &apos;book strip extraterrestri&apos;, &apos;book strip fairi&apos;, &apos;book strip famili&apos;, &apos;book strip fantasi&apos;, &apos;book strip father&apos;, &apos;book strip femal&apos;, &apos;book strip franc&apos;, &apos;book strip friendship&apos;, &apos;book strip gay&apos;, &apos;book strip ghost&apos;, &apos;book strip girl&apos;, &apos;book strip god&apos;, &apos;book strip good&apos;, &apos;book strip graphic&apos;, &apos;book strip hero&apos;, &apos;book strip high&apos;, &apos;book strip horror&apos;, &apos;book strip human&apos;, &apos;book strip imagin&apos;, &apos;book strip imaginari&apos;, &apos;book strip interperson&apos;, &apos;book strip iran&apos;, &apos;book strip island&apos;, &apos;book strip jake&apos;, &apos;book strip japan&apos;, &apos;book strip juvenil&apos;, &apos;book strip life&apos;, &apos;book strip magic&apos;, &apos;book strip man&apos;, &apos;book strip martial&apos;, &apos;book strip mice&apos;, &apos;book strip middl&apos;, &apos;book strip monster&apos;, &apos;book strip murder&apos;, &apos;book strip mutat&apos;, &apos;book strip mysteri&apos;, &apos;book strip new&apos;, &apos;book strip nonfict&apos;, &apos;book strip orphan&apos;, &apos;book strip paranorm&apos;, &apos;book strip parent&apos;, &apos;book strip pet&apos;, &apos;book strip pirat&apos;, &apos;book strip pok‚mon&apos;, &apos;book strip popular&apos;, &apos;book strip privat&apos;, &apos;book strip psychic&apos;, &apos;book strip quest&apos;, &apos;book strip reveng&apos;, &apos;book strip robot&apos;, &apos;book strip romanc&apos;, &apos;book strip school&apos;, &apos;book strip scienc&apos;, &apos;book strip sister&apos;, &apos;book strip social&apos;, &apos;book strip space&apos;, &apos;book strip spi&apos;, &apos;book strip spirit&apos;, &apos;book strip star&apos;, &apos;book strip student&apos;, &apos;book strip superhero&apos;, &apos;book strip superman&apos;, &apos;book strip supernatur&apos;, &apos;book strip supervillain&apos;, &apos;book strip surviv&apos;, &apos;book strip teacher&apos;, &apos;book strip techniqu&apos;, &apos;book strip teenag&apos;, &apos;book strip time&apos;, &apos;book strip treasur&apos;, &apos;book strip unit&apos;, &apos;book strip vampir&apos;, &apos;book strip van&apos;, &apos;book strip vigilant&apos;, &apos;book strip voyag&apos;, &apos;book strip war&apos;, &apos;book strip women&apos;, &apos;book strip x&apos;, &apos;book strip young&apos;, &apos;book strip zombi&apos;, &apos;book suspens&apos;, &apos;book suspens fiction&apos;, &apos;book thriller&apos;, &apos;book thriller fiction&apos;, &apos;book unit&apos;, &apos;book unit state&apos;, &apos;book western&apos;, &apos;book western stori&apos;, &apos;bookbind&apos;, &apos;booksel&apos;, &apos;booksel booksel&apos;, &apos;booksel booksel fiction&apos;, &apos;booksel fiction&apos;, &apos;bookstor&apos;, &apos;bookstor fiction&apos;, &apos;boom&apos;, &apos;boom generat&apos;, &apos;border&apos;, &apos;border region&apos;, &apos;border region fiction&apos;, &apos;boredom&apos;, &apos;bori&apos;, &apos;born&apos;, &apos;born children&apos;, &apos;bosch&apos;, &apos;bosch harri&apos;, &apos;bosch harri fiction&apos;, &apos;bosnia&apos;, &apos;bosnia herzegovina&apos;, &apos;boston&apos;, &apos;boston drama&apos;, &apos;boston fiction&apos;, &apos;boston mass&apos;, &apos;boston mass fiction&apos;, &apos;boston mass histori&apos;, &apos;boston mass juvenil&apos;, &apos;botan&apos;, &apos;botani&apos;, &apos;botswana&apos;, &apos;botswana fiction&apos;, &apos;boundari&apos;, &apos;bounti&apos;, &apos;bounti hunter&apos;, &apos;bounti hunter fiction&apos;, &apos;bowl&apos;, &apos;box&apos;, &apos;boxcar&apos;, &apos;boxcar children&apos;, &apos;boxcar children fictiti&apos;, &apos;boxer&apos;, &apos;boxer sport&apos;, &apos;boxer sport unit&apos;, &apos;boy&apos;, &apos;boy comic&apos;, &apos;boy comic book&apos;, &apos;boy drama&apos;, &apos;boy fiction&apos;, &apos;boy fictiti&apos;, &apos;boy fictiti charact&apos;, &apos;boy juvenil&apos;, &apos;boy juvenil drama&apos;, &apos;boy juvenil fiction&apos;, &apos;boy wonder&apos;, &apos;boy wonder fictiti&apos;, &apos;bradi&apos;, &apos;bradley&apos;, &apos;braill&apos;, &apos;braill book&apos;, &apos;brain&apos;, &apos;brain diseas&apos;, &apos;brainwash&apos;, &apos;brand&apos;, &apos;brand market&apos;, &apos;brazil&apos;, &apos;brazil fiction&apos;, &apos;brazil juvenil&apos;, &apos;brazil juvenil literatur&apos;, &apos;brazil rio&apos;, &apos;bread&apos;, &apos;breakfast&apos;, &apos;breakfast accommod&apos;, &apos;breakfast accommod fiction&apos;, &apos;breast&apos;, &apos;breast cancer&apos;, &apos;breast cancer patient&apos;, &apos;breed&apos;, &apos;breed juvenil&apos;, &apos;breed juvenil fiction&apos;, &apos;brennan&apos;, &apos;brennan temper&apos;, &apos;brennan temper fictiti&apos;, &apos;brett&apos;, &apos;brew&apos;, &apos;brian&apos;, &apos;bride&apos;, &apos;bridg&apos;, &apos;brigand&apos;, &apos;brigand robber&apos;, &apos;bristol&apos;, &apos;britain&apos;, &apos;britain biographi&apos;, &apos;britain biographi author&apos;, &apos;britain biographi great&apos;, &apos;britain biographi juvenil&apos;, &apos;britain coloni&apos;, &apos;britain descript&apos;, &apos;britain descript travel&apos;, &apos;britain drama&apos;, &apos;britain fiction&apos;, &apos;britain fiction great&apos;, &apos;britain fiction televis&apos;, &apos;britain foreign&apos;, &apos;britain foreign relat&apos;, &apos;britain great&apos;, &apos;britain great britain&apos;, &apos;britain guidebook&apos;, &apos;britain histori&apos;, &apos;britain histori 19th&apos;, &apos;britain histori 20th&apos;, &apos;britain histori charl&apos;, &apos;britain histori edward&apos;, &apos;britain histori elizabeth&apos;, &apos;britain histori fiction&apos;, &apos;britain histori georg&apos;, &apos;britain histori henri&apos;, &apos;britain histori juvenil&apos;, &apos;britain histori naval&apos;, &apos;britain histori richard&apos;, &apos;britain histori tudor&apos;, &apos;britain histori victoria&apos;, &apos;britain juvenil&apos;, &apos;britain juvenil literatur&apos;, &apos;britain king&apos;, &apos;britain king ruler&apos;, &apos;britain polit&apos;, &apos;britain polit govern&apos;, &apos;britain royal&apos;, &apos;britain social&apos;, &apos;britain social condit&apos;, &apos;britain social life&apos;, &apos;britain televis&apos;, &apos;british&apos;, &apos;british columbia&apos;, &apos;british columbia histori&apos;, &apos;british columbia juvenil&apos;, &apos;british columbia vancouv&apos;, &apos;british occup&apos;, &apos;broadcast&apos;, &apos;broadcast unit&apos;, &apos;broadcast unit state&apos;, &apos;bront‰&apos;, &apos;bronx&apos;, &apos;bronx new&apos;, &apos;bronx new york&apos;, &apos;brook&apos;, &apos;brooklyn&apos;, &apos;brooklyn new&apos;, &apos;brooklyn new york&apos;, &apos;brother&apos;, &apos;brother comic&apos;, &apos;brother comic book&apos;, &apos;brother drama&apos;, &apos;brother fiction&apos;, &apos;brother juvenil&apos;, &apos;brother juvenil fiction&apos;, &apos;brother sister&apos;, &apos;brother sister comic&apos;, &apos;brother sister drama&apos;, &apos;brother sister fiction&apos;, &apos;brother sister juvenil&apos;, &apos;brown&apos;, &apos;brown charli&apos;, &apos;brown charli fictiti&apos;, &apos;brown encyclopedia&apos;, &apos;brown encyclopedia fictiti&apos;, &apos;brown juvenil&apos;, &apos;brunetti&apos;, &apos;brunetti guido&apos;, &apos;brunetti guido fictiti&apos;, &apos;buck&apos;, &apos;buddhism&apos;, &apos;buddhism buddhism&apos;, &apos;buddhism doctrin&apos;, &apos;buddhist&apos;, &apos;budget&apos;, &apos;budget cook&apos;, &apos;budget unit&apos;, &apos;budget unit state&apos;, &apos;bueno&apos;, &apos;bueno air&apos;, &apos;buffalo&apos;, &apos;build&apos;, &apos;build juvenil&apos;, &apos;build juvenil fiction&apos;, &apos;build structur&apos;, &apos;build structur juvenil&apos;, &apos;build unit&apos;, &apos;build unit state&apos;, &apos;build washington&apos;, &apos;build washington state&apos;, &apos;bulgaria&apos;, &apos;bull&apos;, &apos;bulli&apos;, &apos;bulli fiction&apos;, &apos;bulli fiction school&apos;, &apos;bulli juvenil&apos;, &apos;bulli juvenil fiction&apos;, &apos;bulli prevent&apos;, &apos;bulli school&apos;, &apos;bunni&apos;, &apos;bunni fictiti&apos;, &apos;bunni fictiti charact&apos;, &apos;bunni juvenil&apos;, &apos;bureau&apos;, &apos;bureau investig&apos;, &apos;bureau investig drama&apos;, &apos;bureau investig fiction&apos;, &apos;bureau investig offici&apos;, &apos;buri&apos;, &apos;buri treasur&apos;, &apos;buri treasur fiction&apos;, &apos;burial&apos;, &apos;burma&apos;, &apos;burma histori&apos;, &apos;burn&apos;, &apos;bus&apos;, &apos;buse&apos;, &apos;buse juvenil&apos;, &apos;buse juvenil fiction&apos;, &apos;bush&apos;, &apos;bush georg&apos;, &apos;bush georg w&apos;, &apos;busi&apos;, &apos;busi econom&apos;, &apos;busi enterpris&apos;, &apos;busi enterpris drama&apos;, &apos;busi enterpris fiction&apos;, &apos;busi enterpris juvenil&apos;, &apos;busi enterpris manag&apos;, &apos;busi manag&apos;, &apos;busi plan&apos;, &apos;busi success&apos;, &apos;busi unit&apos;, &apos;busi unit state&apos;, &apos;businessmen&apos;, &apos;businessmen fiction&apos;, &apos;businessmen unit&apos;, &apos;businessmen unit state&apos;, &apos;businesspeopl&apos;, &apos;businesspeopl unit&apos;, &apos;businesspeopl unit state&apos;, &apos;businesswomen&apos;, &apos;businesswomen fiction&apos;, &apos;butler&apos;, &apos;butterfli&apos;, &apos;butterfli juvenil&apos;, &apos;butterfli juvenil fiction&apos;, &apos;butterfli juvenil literatur&apos;, &apos;button&apos;, &apos;byron&apos;, &apos;byzantin&apos;, &apos;c&apos;, &apos;c b&apos;, &apos;c b c&apos;, &apos;c biographi&apos;, &apos;c d&apos;, &apos;c d juvenil&apos;, &apos;c drama&apos;, &apos;c fiction&apos;, &apos;c fiction mysteri&apos;, &apos;c guidebook&apos;, &apos;c histori&apos;, &apos;c histori 20th&apos;, &apos;c juvenil&apos;, &apos;c juvenil fiction&apos;, &apos;c juvenil literatur&apos;, &apos;c social&apos;, &apos;c social life&apos;, &apos;c te&apos;, &apos;c wash&apos;, &apos;ca&apos;, &apos;ca fiction&apos;, &apos;ca juvenil&apos;, &apos;ca juvenil literatur&apos;, &apos;ca sourc&apos;, &apos;cabinet&apos;, &apos;cabinet offic&apos;, &apos;cabinet offic unit&apos;, &apos;cafeteria&apos;, &apos;cairo&apos;, &apos;cairo fiction&apos;, &apos;cake&apos;, &apos;cake decor&apos;, &apos;cake juvenil&apos;, &apos;cake juvenil fiction&apos;, &apos;calendar&apos;, &apos;calif&apos;, &apos;calif biographi&apos;, &apos;calif drama&apos;, &apos;calif drama featur&apos;, &apos;calif drama televis&apos;, &apos;calif fiction&apos;, &apos;calif fiction detect&apos;, &apos;calif fiction domest&apos;, &apos;calif fiction mysteri&apos;, &apos;calif guidebook&apos;, &apos;calif histori&apos;, &apos;calif histori 20th&apos;, &apos;calif juvenil&apos;, &apos;calif juvenil fiction&apos;, &apos;calif nev&apos;, &apos;calif social&apos;, &apos;calif social condit&apos;, &apos;calif social life&apos;, &apos;california&apos;, &apos;california biographi&apos;, &apos;california drama&apos;, &apos;california fiction&apos;, &apos;california fiction california&apos;, &apos;california fiction mysteri&apos;, &apos;california gold&apos;, &apos;california gold discoveri&apos;, &apos;california guidebook&apos;, &apos;california histori&apos;, &apos;california histori 20th&apos;, &apos;california juvenil&apos;, &apos;california juvenil fiction&apos;, &apos;california juvenil literatur&apos;, &apos;california los&apos;, &apos;california los angel&apos;, &apos;california mexico&apos;, &apos;california northern&apos;, &apos;california oakland&apos;, &apos;california san&apos;, &apos;california san diego&apos;, &apos;california san francisco&apos;, &apos;california santa&apos;, &apos;california southern&apos;, &apos;calligraphi&apos;, &apos;cam&apos;, &apos;cam fictiti&apos;, &apos;cam fictiti charact&apos;, &apos;cambodia&apos;, &apos;cambridg&apos;, &apos;cambridg england&apos;, &apos;camera&apos;, &apos;camouflag&apos;, &apos;camouflag biolog&apos;, &apos;camouflag biolog juvenil&apos;, &apos;camp&apos;, &apos;camp comic&apos;, &apos;camp comic book&apos;, &apos;camp drama&apos;, &apos;camp fiction&apos;, &apos;camp inmat&apos;, &apos;camp juvenil&apos;, &apos;camp juvenil fiction&apos;, &apos;campaign&apos;, &apos;campaign franc&apos;, &apos;campaign franc normandi&apos;, &apos;campaign pacif&apos;, &apos;campaign unit&apos;, &apos;campaign unit state&apos;, &apos;campaign western&apos;, &apos;canada&apos;, &apos;canada biographi&apos;, &apos;canada directori&apos;, &apos;canada fiction&apos;, &apos;canada guidebook&apos;, &apos;canada histori&apos;, &apos;canada juvenil&apos;, &apos;canada juvenil fiction&apos;, &apos;canada juvenil literatur&apos;, &apos;canada social&apos;, &apos;canadian&apos;, &apos;canal&apos;, &apos;cancer&apos;, &apos;cancer juvenil&apos;, &apos;cancer juvenil fiction&apos;, &apos;cancer patient&apos;, &apos;cancer patient biographi&apos;, &apos;cancer patient fiction&apos;, &apos;cancer patient unit&apos;, &apos;candi&apos;, &apos;candi juvenil&apos;, &apos;candi juvenil fiction&apos;, &apos;candid&apos;, &apos;candid unit&apos;, &apos;candid unit state&apos;, &apos;cannabi&apos;, &apos;cannib&apos;, &apos;canning&apos;, &apos;canning preserv&apos;, &apos;cano&apos;, &apos;canon&apos;, &apos;cantata&apos;, &apos;cantata sacr&apos;, &apos;cantata sacr vocal&apos;, &apos;canyon&apos;, &apos;canyon ariz&apos;, &apos;cape&apos;, &apos;cape cod&apos;, &apos;caper&apos;, &apos;caper film&apos;, &apos;capit&apos;, &apos;capit punish&apos;, &apos;capitalist&apos;, &apos;capitalist financi&apos;, &apos;capitalist financi unit&apos;, &apos;capitol&apos;, &apos;captain&apos;, &apos;captain america&apos;, &apos;captain america fictiti&apos;, &apos;captain fiction&apos;, &apos;captain underp&apos;, &apos;captain underp fictiti&apos;, &apos;captiv&apos;, &apos;car&apos;, &apos;carbohydr&apos;, &apos;carbohydr diet&apos;, &apos;carbohydr diet recip&apos;, &apos;carbon&apos;, &apos;card&apos;, &apos;cardiovascular&apos;, &apos;care&apos;, &apos;care fiction&apos;, &apos;care health&apos;, &apos;care hygien&apos;, &apos;care hygien juvenil&apos;, &apos;care juvenil&apos;, &apos;care juvenil fiction&apos;, &apos;care reform&apos;, &apos;care reform unit&apos;, &apos;care unit&apos;, &apos;care unit state&apos;, &apos;career&apos;, &apos;career chang&apos;, &apos;career develop&apos;, &apos;caregiv&apos;, &apos;caribbean&apos;, &apos;caribbean area&apos;, &apos;caribbean area histori&apos;, &apos;caricatur&apos;, &apos;caricatur cartoon&apos;, &apos;caricatur cartoon unit&apos;, &apos;carl&apos;, &apos;carlo&apos;, &apos;carniv&apos;, &apos;carniv juvenil&apos;, &apos;carniv juvenil fiction&apos;, &apos;carol&apos;, &apos;carol english&apos;, &apos;carolin&apos;, &apos;carolina&apos;, &apos;carolina charleston&apos;, &apos;carolina drama&apos;, &apos;carolina fiction&apos;, &apos;carolina histori&apos;, &apos;carolina juvenil&apos;, &apos;carolina juvenil fiction&apos;, &apos;carpent&apos;, &apos;carrier&apos;, &apos;carrol&apos;, &apos;carson&apos;, &apos;carter&apos;, &apos;cartographi&apos;, &apos;cartoon&apos;, &apos;cartoon charact&apos;, &apos;cartoon charact juvenil&apos;, &apos;cartoon comic&apos;, &apos;cartoon comic action&apos;, &apos;cartoon comic comic&apos;, &apos;cartoon comic fantasi&apos;, &apos;cartoon comic fiction&apos;, &apos;cartoon comic graphic&apos;, &apos;cartoon comic humor&apos;, &apos;cartoon comic mysteri&apos;, &apos;cartoon comic scienc&apos;, &apos;cartoon comic superhero&apos;, &apos;cartoon juvenil&apos;, &apos;cartoon techniqu&apos;, &apos;cartoon techniqu juvenil&apos;, &apos;cartoon unit&apos;, &apos;cartoon unit state&apos;, &apos;cartoonist&apos;, &apos;cartoonist unit&apos;, &apos;cartoonist unit state&apos;, &apos;carv&apos;, &apos;carver&apos;, &apos;cascad&apos;, &apos;cascad rang&apos;, &apos;case&apos;, &apos;case crimin&apos;, &apos;case crimin investig&apos;, &apos;case studi&apos;, &apos;case studi crimin&apos;, &apos;case studi juvenil&apos;, &apos;case studi murder&apos;, &apos;case studi true&apos;, &apos;case studi women&apos;, &apos;casino&apos;, &apos;cast&apos;, &apos;castaway&apos;, &apos;castl&apos;, &apos;castl juvenil&apos;, &apos;castl juvenil fiction&apos;, &apos;castl juvenil literatur&apos;, &apos;cat&apos;, &apos;cat comic&apos;, &apos;cat comic book&apos;, &apos;cat fiction&apos;, &apos;cat fictiti&apos;, &apos;cat fictiti charact&apos;, &apos;cat hat&apos;, &apos;cat hat fictiti&apos;, &apos;cat juvenil&apos;, &apos;cat juvenil drama&apos;, &apos;cat juvenil fiction&apos;, &apos;cat juvenil poetri&apos;, &apos;cat owner&apos;, &apos;cat owner comic&apos;, &apos;cat owner fiction&apos;, &apos;catalog&apos;, &apos;catalog art&apos;, &apos;catalog paint&apos;, &apos;catalog period&apos;, &apos;cater&apos;, &apos;caterpillar&apos;, &apos;caterpillar juvenil&apos;, &apos;cathedr&apos;, &apos;catherin&apos;, &apos;cathol&apos;, &apos;cathol author&apos;, &apos;cathol church&apos;, &apos;cathol church doctrin&apos;, &apos;cathol church histori&apos;, &apos;cattl&apos;, &apos;caus&apos;, &apos;cavalri&apos;, &apos;cave&apos;, &apos;cave dweller&apos;, &apos;celebr&apos;, &apos;celebr biographi&apos;, &apos;celebr juvenil&apos;, &apos;celebr unit&apos;, &apos;celebr unit state&apos;, &apos;cell&apos;, &apos;cell phone&apos;, &apos;cello&apos;, &apos;cello music&apos;, &apos;cello piano&apos;, &apos;celtic&apos;, &apos;celtic music&apos;, &apos;cemeteri&apos;, &apos;censorship&apos;, &apos;census&apos;, &apos;centenni&apos;, &apos;center&apos;, &apos;central&apos;, &apos;central america&apos;, &apos;central intellig&apos;, &apos;central intellig agenc&apos;, &apos;centuri&apos;, &apos;centuri african&apos;, &apos;centuri african american&apos;, &apos;centuri american&apos;, &apos;centuri american poetri&apos;, &apos;centuri anecdot&apos;, &apos;centuri architectur&apos;, &apos;centuri art&apos;, &apos;centuri bio&apos;, &apos;centuri bio bibliographi&apos;, &apos;centuri biographi&apos;, &apos;centuri biographi author&apos;, &apos;centuri biographi biographi&apos;, &apos;centuri biographi dictionari&apos;, &apos;centuri biographi juvenil&apos;, &apos;centuri biographi women&apos;, &apos;centuri catalog&apos;, &apos;centuri china&apos;, &apos;centuri civil&apos;, &apos;centuri civil right&apos;, &apos;centuri comic&apos;, &apos;centuri comic book&apos;, &apos;centuri correspond&apos;, &apos;centuri diari&apos;, &apos;centuri dictionari&apos;, &apos;centuri documentari&apos;, &apos;centuri drama&apos;, &apos;centuri drama featur&apos;, &apos;centuri drama televis&apos;, &apos;centuri europ&apos;, &apos;centuri exhibit&apos;, &apos;centuri exhibit art&apos;, &apos;centuri famili&apos;, &apos;centuri famili relationship&apos;, &apos;centuri fiction&apos;, &apos;centuri fiction biograph&apos;, &apos;centuri fiction detect&apos;, &apos;centuri fiction domest&apos;, &apos;centuri fiction great&apos;, &apos;centuri fiction histor&apos;, &apos;centuri fiction larg&apos;, &apos;centuri fiction love&apos;, &apos;centuri fiction mysteri&apos;, &apos;centuri fiction world&apos;, &apos;centuri forecast&apos;, &apos;centuri great&apos;, &apos;centuri great britain&apos;, &apos;centuri histori&apos;, &apos;centuri histori critic&apos;, &apos;centuri interview&apos;, &apos;centuri juvenil&apos;, &apos;centuri juvenil fiction&apos;, &apos;centuri juvenil literatur&apos;, &apos;centuri larg&apos;, &apos;centuri larg type&apos;, &apos;centuri militari&apos;, &apos;centuri new&apos;, &apos;centuri new york&apos;, &apos;centuri pari&apos;, &apos;centuri pari franc&apos;, &apos;centuri period&apos;, &apos;centuri pictori&apos;, &apos;centuri pictori work&apos;, &apos;centuri poetri&apos;, &apos;centuri polit&apos;, &apos;centuri polit cultur&apos;, &apos;centuri popular&apos;, &apos;centuri popular cultur&apos;, &apos;centuri race&apos;, &apos;centuri racism&apos;, &apos;centuri social&apos;, &apos;centuri sourc&apos;, &apos;centuri translat&apos;, &apos;centuri translat english&apos;, &apos;centuri trial&apos;, &apos;centuri unit&apos;, &apos;centuri unit state&apos;, &apos;centuri women&apos;, &apos;centuri world&apos;, &apos;centuri world war&apos;, &apos;ceremoni&apos;, &apos;cesar&apos;, &apos;chain&apos;, &apos;chain ecolog&apos;, &apos;chain ecolog juvenil&apos;, &apos;chair&apos;, &apos;chamber&apos;, &apos;chamber music&apos;, &apos;chamber orchestra&apos;, &apos;chameleon&apos;, &apos;chang&apos;, &apos;chang event&apos;, &apos;chang event drama&apos;, &apos;chang event fiction&apos;, &apos;chang fiction&apos;, &apos;chang juvenil&apos;, &apos;chang juvenil literatur&apos;, &apos;chang psycholog&apos;, &apos;chang social&apos;, &apos;chang social aspect&apos;, &apos;chang unit&apos;, &apos;chang unit state&apos;, &apos;channel&apos;, &apos;chant&apos;, &apos;charact&apos;, &apos;charact blade&apos;, &apos;charact brown&apos;, &apos;charact brown juvenil&apos;, &apos;charact carrol&apos;, &apos;charact characterist&apos;, &apos;charact characterist literatur&apos;, &apos;charact comic&apos;, &apos;charact comic book&apos;, &apos;charact cousin&apos;, &apos;charact cousin juvenil&apos;, &apos;charact disney&apos;, &apos;charact disney juvenil&apos;, &apos;charact drama&apos;, &apos;charact drama crimin&apos;, &apos;charact drama murder&apos;, &apos;charact drama polic&apos;, &apos;charact drama privat&apos;, &apos;charact drama superhero&apos;, &apos;charact drama time&apos;, &apos;charact drama vampir&apos;, &apos;charact fiction&apos;, &apos;charact fiction african&apos;, &apos;charact fiction detect&apos;, &apos;charact fiction ex&apos;, &apos;charact fiction fantasi&apos;, &apos;charact fiction forens&apos;, &apos;charact fiction game&apos;, &apos;charact fiction govern&apos;, &apos;charact fiction great&apos;, &apos;charact fiction intellig&apos;, &apos;charact fiction larg&apos;, &apos;charact fiction murder&apos;, &apos;charact fiction mysteri&apos;, &apos;charact fiction polic&apos;, &apos;charact fiction policewomen&apos;, &apos;charact fiction privat&apos;, &apos;charact fiction sheriff&apos;, &apos;charact fiction superhero&apos;, &apos;charact fiction vampir&apos;, &apos;charact fiction wizard&apos;, &apos;charact fiction women&apos;, &apos;charact hanna&apos;, &apos;charact hanna barbera&apos;, &apos;charact henson&apos;, &apos;charact henson juvenil&apos;, &apos;charact juvenil&apos;, &apos;charact juvenil drama&apos;, &apos;charact juvenil fiction&apos;, &apos;charact juvenil literatur&apos;, &apos;charact legend&apos;,\n",
       "*** WARNING: skipped 322146 bytes of output ***\n",
       "\n",
       "\n",
       "</div>"
      ]
     },
     "metadata": {},
     "output_type": "display_data"
    }
   ],
   "source": [
    "terms = tfidf_vectorizer.get_feature_names()\n",
    "\n",
    "print(terms)"
   ]
  },
  {
   "cell_type": "code",
   "execution_count": 24,
   "metadata": {},
   "outputs": [
    {
     "data": {
      "text/html": [
       "<style scoped>\n",
       "  .ansiout {\n",
       "    display: block;\n",
       "    unicode-bidi: embed;\n",
       "    white-space: pre-wrap;\n",
       "    word-wrap: break-word;\n",
       "    word-break: break-all;\n",
       "    font-family: \"Source Code Pro\", \"Menlo\", monospace;;\n",
       "    font-size: 13px;\n",
       "    color: #555;\n",
       "    margin-left: 4px;\n",
       "    line-height: 19px;\n",
       "  }\n",
       "</style>\n",
       "Error while obtaining a new communication channel"
      ]
     },
     "metadata": {},
     "output_type": "display_data"
    }
   ],
   "source": [
    "from sklearn.metrics.pairwise import cosine_similarity\n",
    "dist = 1 - cosine_similarity(tfidf_matrix)"
   ]
  },
  {
   "cell_type": "code",
   "execution_count": 25,
   "metadata": {},
   "outputs": [],
   "source": [
    "from sklearn.cluster import KMeans\n",
    "\n",
    "num_clusters = 5\n",
    "\n",
    "km = KMeans(n_clusters=num_clusters)\n",
    "\n",
    "%time km.fit(tfidf_matrix)\n",
    "\n",
    "clusters = km.labels_.tolist()\n",
    "\n",
    "print(clusters)"
   ]
  },
  {
   "cell_type": "code",
   "execution_count": 26,
   "metadata": {},
   "outputs": [],
   "source": [
    "from sklearn.externals import joblib\n",
    "\n",
    "#uncomment the below to save your model \n",
    "#since I've already run my model I am loading from the pickle\n",
    "\n",
    "#joblib.dump(km,  'doc_cluster.pkl')\n",
    "\n",
    "km = joblib.load('doc_cluster.pkl')\n",
    "clusters = km.labels_.tolist()"
   ]
  },
  {
   "cell_type": "code",
   "execution_count": 27,
   "metadata": {},
   "outputs": [],
   "source": [
    "books = { 'title': titles, 'author': author, 'subjects': subjects_c, 'cluster': clusters }\n",
    "\n",
    "frame = pd.DataFrame(books, index = [clusters] , columns = ['title', 'author', 'cluster'])"
   ]
  },
  {
   "cell_type": "code",
   "execution_count": 28,
   "metadata": {},
   "outputs": [],
   "source": [
    "# frame.columns\n",
    "frame.cluster.value_counts() #number of books per cluster (clusters from 0 to 4)"
   ]
  },
  {
   "cell_type": "code",
   "execution_count": 29,
   "metadata": {},
   "outputs": [],
   "source": [
    "from __future__ import print_function\n",
    "\n",
    "print(\"Top terms per cluster:\")\n",
    "print()\n",
    "#sort cluster centers by proximity to centroid\n",
    "order_centroids = km.cluster_centers_.argsort()[:, ::-1] \n",
    "\n",
    "for i in range(num_clusters):\n",
    "  print(\"Cluster %d words:\" % i, end='')\n",
    "    \n",
    "  for ind in order_centroids[i, :6]: #replace 6 with n words per cluster\n",
    "    print(' %s' % vocab_frame.ix[terms[ind].split(' ')].values.tolist()[0][0].encode('utf-8', 'ignore'), end=',')\n",
    "    print() #add whitespace\n",
    "    print() #add whitespace\n",
    "    \n",
    "#    print(\"Cluster %d titles:\" % i, end='')\n",
    "#    for title in frame.loc[i,'title'].values.tolist():\n",
    "#        print(' %s,' % title, end='')"
   ]
  },
  {
   "cell_type": "code",
   "execution_count": 30,
   "metadata": {},
   "outputs": [],
   "source": [
    "import os  # for os.path.basename\n",
    "\n",
    "import matplotlib.pyplot as plt\n",
    "import matplotlib as mpl\n",
    "\n",
    "from sklearn.manifold import MDS\n",
    "\n",
    "MDS()\n",
    "\n",
    "# convert two components as we're plotting points in a two-dimensional plane\n",
    "# \"precomputed\" because we provide a distance matrix\n",
    "# we will also specify `random_state` so the plot is reproducible.\n",
    "mds = MDS(n_components=2, dissimilarity=\"precomputed\", random_state=1)\n",
    "\n",
    "pos = mds.fit_transform(dist)  # shape (n_components, n_samples)\n",
    "\n",
    "xs, ys = pos[:, 0], pos[:, 1]"
   ]
  },
  {
   "cell_type": "code",
   "execution_count": 31,
   "metadata": {},
   "outputs": [],
   "source": []
  }
 ],
 "metadata": {
  "kernelspec": {
   "display_name": "Python 3",
   "language": "python",
   "name": "python3"
  },
  "language_info": {
   "codemirror_mode": {
    "name": "ipython",
    "version": 3
   },
   "file_extension": ".py",
   "mimetype": "text/x-python",
   "name": "python",
   "nbconvert_exporter": "python",
   "pygments_lexer": "ipython3",
   "version": "3.6.6"
  },
  "name": "Library_Collection_Forecasting",
  "notebookId": 2756620942811612
 },
 "nbformat": 4,
 "nbformat_minor": 2
}
